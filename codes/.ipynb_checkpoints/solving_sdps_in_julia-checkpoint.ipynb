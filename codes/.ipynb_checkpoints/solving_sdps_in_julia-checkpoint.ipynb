{
 "cells": [
  {
   "cell_type": "markdown",
   "metadata": {},
   "source": [
    "In this blog, we discuss how to solve semidefinite programs (SDPs) in ``Julia`` using ``Convex.jl``. We consider optimization problem of the form: \n",
    "$$\n",
    "\\begin{align*}\n",
    "\\begin{array}{ll}\n",
    "\\textrm{minimize} & \\mathbf{trace}(CX)\\\\\n",
    "\\textrm{subject to} & \\mathbf{trace}(A_{i}X)=b_{i},\\\\\n",
    " & X\\succeq0,\n",
    "\\end{array} & i=1,\\ldots,m\n",
    "\\end{align*}\n",
    "$$\n",
    " where $X\\in\\mathbf{S}^{n}$ is the decision variable, and each of the $A_{i}$ matrices and $C$ are also in $\\mathbf{S}^{n}$. By the notation $\\mathbf{S}^{n}$, we denote the set of all symmetric $n\\times n$ matrices.  "
   ]
  },
  {
   "cell_type": "code",
   "execution_count": 1,
   "metadata": {},
   "outputs": [],
   "source": [
    "using SCS, Convex, COSMO, MosekTools, JuMP\n",
    "\n",
    "using BenchmarkTools"
   ]
  },
  {
   "cell_type": "code",
   "execution_count": 2,
   "metadata": {},
   "outputs": [],
   "source": [
    "# Create random data, change it to your problem"
   ]
  },
  {
   "cell_type": "code",
   "execution_count": 3,
   "metadata": {},
   "outputs": [
    {
     "data": {
      "text/plain": [
       "random_mat_create (generic function with 1 method)"
      ]
     },
     "execution_count": 3,
     "metadata": {},
     "output_type": "execute_result"
    }
   ],
   "source": [
    "function random_mat_create(n)\n",
    "    # this function creates a symmetric n×n matrix\n",
    "    A = randn(n,n)\n",
    "    A = A'*A\n",
    "    A = (A+A')/2\n",
    "    return A\n",
    "end"
   ]
  },
  {
   "cell_type": "code",
   "execution_count": 4,
   "metadata": {},
   "outputs": [
    {
     "data": {
      "text/plain": [
       "10×10 Array{Float64,2}:\n",
       " 11.3257    3.03593     7.57764    …  1.36491    4.65387   3.49523\n",
       "  3.03593   7.20755     0.0377997     0.841967   2.47635   3.17334\n",
       "  7.57764   0.0377997  17.4409        0.0187263  4.68217   2.55754\n",
       "  5.40527   3.38643     4.52541       3.12516    0.533301  0.642536\n",
       "  0.442822  0.997689    0.324633      0.524024   0.990767  2.26337\n",
       "  1.09737   1.40945     7.66599    …  5.17337    3.36144   0.807311\n",
       "  3.33295   5.67138     6.1781        2.31512    5.3131    1.16169\n",
       "  1.36491   0.841967    0.0187263     5.29625    0.137726  3.41034\n",
       "  4.65387   2.47635     4.68217       0.137726   6.94162   5.4132\n",
       "  3.49523   3.17334     2.55754       3.41034    5.4132    8.97888"
      ]
     },
     "execution_count": 4,
     "metadata": {},
     "output_type": "execute_result"
    }
   ],
   "source": [
    "n = 10\n",
    "m = 20\n",
    "# set of all data matrices A_i\n",
    "# the data matrix A = [A1 A2 A3 ....]\n",
    "A = zeros(n, m*n) \n",
    "b = zeros(m)\n",
    "# just ensuring our problem is feasible\n",
    "X_test = rand(n,n)\n",
    "X_test = X_test'*X_test\n",
    "X_test = (X_test+X_test')/2\n",
    "for i in 1:m\n",
    "    A[:, (i-1)*n+1:i*n] .= random_mat_create(n)\n",
    "    b[i] = tr(A[:, (i-1)*n+1:i*n]*X_test)\n",
    "end\n",
    "C = abs.(random_mat_create(n))"
   ]
  },
  {
   "cell_type": "code",
   "execution_count": 5,
   "metadata": {},
   "outputs": [
    {
     "data": {
      "text/plain": [
       "10×200 Array{Float64,2}:\n",
       "  13.1009      6.70666   0.0719756  …  -2.22339   -1.67688    3.32907\n",
       "   6.70666    14.9119    1.43749        0.116857  -5.03077   -1.08398\n",
       "   0.0719756   1.43749   3.78868        4.61666    3.70874   -2.8161\n",
       "   0.745811    2.58424  -0.469766      -3.98044   -0.019262  -2.95362\n",
       "  -1.99437    -2.82675  -0.535965       4.11535   -4.32979   -0.69598\n",
       "  -1.49288    -2.01312   0.820385   …  -1.41683   -0.310927  -0.00789113\n",
       "   6.04074     3.9018    1.05097        1.42818   -0.58277    1.15174\n",
       " -11.9482     -1.63738  -2.54123        9.20298    0.934847  -0.794667\n",
       "   3.05548     1.26269   4.21032        0.934847   7.06475    0.675791\n",
       "   3.94524     4.11502   0.235034      -0.794667   0.675791   4.82439"
      ]
     },
     "execution_count": 5,
     "metadata": {},
     "output_type": "execute_result"
    }
   ],
   "source": [
    "A"
   ]
  },
  {
   "cell_type": "code",
   "execution_count": 6,
   "metadata": {},
   "outputs": [
    {
     "data": {
      "text/plain": [
       "10×10 Array{Float64,2}:\n",
       " 3.38728  1.64042  2.91841  3.08396  …  2.53948  3.39211  1.89857  2.78909\n",
       " 1.64042  1.6409   2.41176  2.1642      2.05764  1.97808  1.25507  2.01304\n",
       " 2.91841  2.41176  4.25385  3.65073     3.73043  3.53905  2.60916  3.61432\n",
       " 3.08396  2.1642   3.65073  3.78324     3.58153  3.60734  2.19029  3.39561\n",
       " 2.93006  1.71048  3.34021  3.15069     3.06394  3.44829  2.62906  3.18696\n",
       " 2.10411  1.50142  2.8656   2.24801  …  2.9016   3.17009  1.98054  1.88816\n",
       " 2.53948  2.05764  3.73043  3.58153     4.14588  3.54763  2.24665  3.004\n",
       " 3.39211  1.97808  3.53905  3.60734     3.54763  4.15601  2.35485  3.09138\n",
       " 1.89857  1.25507  2.60916  2.19029     2.24665  2.35485  2.12163  2.50346\n",
       " 2.78909  2.01304  3.61432  3.39561     3.004    3.09138  2.50346  4.0686"
      ]
     },
     "execution_count": 6,
     "metadata": {},
     "output_type": "execute_result"
    }
   ],
   "source": [
    "X_test"
   ]
  },
  {
   "cell_type": "code",
   "execution_count": 9,
   "metadata": {},
   "outputs": [
    {
     "data": {
      "text/plain": [
       "solve_SDP (generic function with 1 method)"
      ]
     },
     "execution_count": 9,
     "metadata": {},
     "output_type": "execute_result"
    }
   ],
   "source": [
    "\n",
    "function solve_SDP(A, b, C; solver_name=:COSMO)\n",
    "\n",
    "# Create variable\n",
    "    if solver_name == :COSMO\n",
    "        model = Model(with_optimizer(COSMO.Optimizer))\n",
    "    elseif solver_name == :Mosek\n",
    "        model = Model(optimizer_with_attributes(Mosek.Optimizer))\n",
    "    end\n",
    "\n",
    "    set_silent(model)\n",
    "\n",
    "    @variable(model, X[1:n, 1:n], PSD)\n",
    "\n",
    "\n",
    "    @objective(model, Min, tr(C * X));\n",
    "    for j in 1:m\n",
    "        A_j = A[:, (j - 1) * n + 1:j * n]\n",
    "        @constraint(model, tr(A_j * X) == b[j])\n",
    "    end\n",
    "\n",
    "    optimize!(model)\n",
    "\n",
    "    status = JuMP.termination_status(model)\n",
    "    X_sol = JuMP.value.(X)\n",
    "    obj_value = JuMP.objective_value(model)\n",
    "\n",
    "    return status, X_sol, obj_value\n",
    "\n",
    "end"
   ]
  },
  {
   "cell_type": "code",
   "execution_count": 12,
   "metadata": {},
   "outputs": [
    {
     "data": {
      "text/plain": [
       "(MathOptInterface.OPTIMAL, [2.907044311952373 1.7130367276575142 … -0.056145513617222656 3.0230926674218024; 1.7130367276575142 3.419039624378557 … 1.0871948703965775 2.0577919984154334; … ; -0.056145513617222656 1.0871948703965775 … 0.7127834057861842 0.5195987956934747; 3.0230926674218024 2.0577919984154334 … 0.5195987956934747 4.234108180247669], 939.2696385581793)"
      ]
     },
     "execution_count": 12,
     "metadata": {},
     "output_type": "execute_result"
    }
   ],
   "source": [
    "status, X_sol, obj_value = solve_SDP(A, b, C; solver_name=:Mosek)"
   ]
  },
  {
   "cell_type": "markdown",
   "metadata": {},
   "source": [
    "Lets see which solver is faster, COSMO or Mosek."
   ]
  },
  {
   "cell_type": "code",
   "execution_count": 10,
   "metadata": {},
   "outputs": [
    {
     "data": {
      "text/plain": [
       "BenchmarkTools.Trial: \n",
       "  memory estimate:  4.33 MiB\n",
       "  allocs estimate:  35786\n",
       "  --------------\n",
       "  minimum time:     36.964 ms (0.00% GC)\n",
       "  median time:      40.552 ms (0.00% GC)\n",
       "  mean time:        40.787 ms (1.14% GC)\n",
       "  maximum time:     46.920 ms (9.97% GC)\n",
       "  --------------\n",
       "  samples:          123\n",
       "  evals/sample:     1"
      ]
     },
     "execution_count": 10,
     "metadata": {},
     "output_type": "execute_result"
    }
   ],
   "source": [
    "@benchmark solve_SDP(A, b, C; solver_name=:COSMO)"
   ]
  },
  {
   "cell_type": "code",
   "execution_count": 11,
   "metadata": {},
   "outputs": [
    {
     "data": {
      "text/plain": [
       "BenchmarkTools.Trial: \n",
       "  memory estimate:  3.81 MiB\n",
       "  allocs estimate:  32015\n",
       "  --------------\n",
       "  minimum time:     6.647 ms (0.00% GC)\n",
       "  median time:      7.524 ms (0.00% GC)\n",
       "  mean time:        8.374 ms (5.00% GC)\n",
       "  maximum time:     19.410 ms (25.35% GC)\n",
       "  --------------\n",
       "  samples:          597\n",
       "  evals/sample:     1"
      ]
     },
     "execution_count": 11,
     "metadata": {},
     "output_type": "execute_result"
    }
   ],
   "source": [
    "@benchmark solve_SDP(A, b, C; solver_name=:Mosek)"
   ]
  },
  {
   "cell_type": "markdown",
   "metadata": {},
   "source": [
    "So, on average Mosek seems to be 5 times faster than COSMO. "
   ]
  },
  {
   "cell_type": "code",
   "execution_count": null,
   "metadata": {},
   "outputs": [],
   "source": []
  }
 ],
 "metadata": {
  "kernelspec": {
   "display_name": "Julia 1.5.0",
   "language": "julia",
   "name": "julia-1.5"
  },
  "language_info": {
   "file_extension": ".jl",
   "mimetype": "application/julia",
   "name": "julia",
   "version": "1.5.0"
  },
  "nteract": {
   "version": "0.28.0"
  }
 },
 "nbformat": 4,
 "nbformat_minor": 4
}
