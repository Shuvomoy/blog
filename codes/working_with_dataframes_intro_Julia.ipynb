{
 "cells": [
  {
   "cell_type": "markdown",
   "metadata": {
    "nteract": {
     "transient": {
      "deleting": false
     }
    }
   },
   "source": [
    "In this blog, we will discuss how to work with dataframes using the `DataFrames` package in `Julia`. As an illustrative example, we will work with the MovieLens dataset. This is an introductory blog, and for learning how to use the `DataFrames` package in greater details, a great set of tutorials are available with jupyter notebooks at [this link](https://github.com/bkamins/Julia-DataFrames-Tutorial/).\n",
    "\n",
    "**Jupyter notebook for this blog.** The jupyter notebook for this blog can be downloaded from [this link](https://raw.githubusercontent.com/Shuvomoy/blog/gh-pages/codes/working_with_dataframes_intro_Julia.ipynb.ipynb) and the data files in zip format are available [here](https://github.com/Shuvomoy/blog/blob/gh-pages/data/movielens_datasets.zip). Please unzip them in the folder, where your ipynb or julia file is."
   ]
  },
  {
   "cell_type": "markdown",
   "metadata": {
    "nteract": {
     "transient": {
      "deleting": false
     }
    }
   },
   "source": [
    "**What is the MovieLens dataset?** The `MovieLens` dataset is one of the most common datasets people use for testing recommendation system algorithm. The version I will work with contains 1,000,209 ratings for approximately 3,900 movies; these recommendations were made by 6,040 MovieLens users. \n",
    "\n",
    "Let us start with the necessary packages. "
   ]
  },
  {
   "cell_type": "code",
   "execution_count": 1,
   "metadata": {
    "execution": {
     "iopub.execute_input": "2020-05-05T16:08:15.010Z",
     "iopub.status.busy": "2020-05-05T16:08:13.857Z",
     "iopub.status.idle": "2020-05-05T16:08:18.748Z"
    },
    "jupyter": {
     "outputs_hidden": false,
     "source_hidden": false
    },
    "nteract": {
     "transient": {
      "deleting": false
     }
    },
    "outputExpanded": false
   },
   "outputs": [],
   "source": [
    "using CSV, DataFrames"
   ]
  },
  {
   "cell_type": "markdown",
   "metadata": {
    "nteract": {
     "transient": {
      "deleting": false
     }
    }
   },
   "source": [
    "First, let us check if the files are loaded correctly. The files are available here: **Provide the link**."
   ]
  },
  {
   "cell_type": "code",
   "execution_count": 2,
   "metadata": {
    "execution": {
     "iopub.execute_input": "2020-05-05T16:08:52.524Z",
     "iopub.status.busy": "2020-05-05T16:08:52.512Z",
     "iopub.status.idle": "2020-05-05T16:08:52.548Z"
    },
    "jupyter": {
     "outputs_hidden": false,
     "source_hidden": false
    },
    "nteract": {
     "transient": {
      "deleting": false
     }
    },
    "outputExpanded": false
   },
   "outputs": [
    {
     "data": {
      "text/plain": [
       "1×3 BitArray{2}:\n",
       " 1  1  1"
      ]
     },
     "execution_count": 2,
     "metadata": {},
     "output_type": "execute_result"
    }
   ],
   "source": [
    "# First, let us check if the files are loaded correctly\n",
    "cd(\"C:\\\\Users\\\\shuvo\\\\Desktop\\\\MovieLensDataSet_Experiment\")\n",
    "isfile.([\"users.csv\" \"movies.csv\" \"ratings.csv\"])"
   ]
  },
  {
   "cell_type": "markdown",
   "metadata": {
    "nteract": {
     "transient": {
      "deleting": false
     }
    }
   },
   "source": [
    "### Putting the data into dataframes\n",
    "Let us put the data into dataframes."
   ]
  },
  {
   "cell_type": "code",
   "execution_count": 3,
   "metadata": {
    "execution": {
     "iopub.execute_input": "2020-05-05T16:08:56.132Z",
     "iopub.status.busy": "2020-05-05T16:08:56.119Z",
     "iopub.status.idle": "2020-05-05T16:09:05.469Z"
    },
    "jupyter": {
     "outputs_hidden": false,
     "source_hidden": false
    },
    "nteract": {
     "transient": {
      "deleting": false
     }
    },
    "outputExpanded": false
   },
   "outputs": [],
   "source": [
    "# put the data in dataframes\n",
    "df_users = CSV.read(\"users.csv\");\n",
    "df_movies = CSV.read(\"movies.csv\");\n",
    "df_ratings = CSV.read(\"ratings.csv\");"
   ]
  },
  {
   "cell_type": "markdown",
   "metadata": {
    "nteract": {
     "transient": {
      "deleting": false
     }
    }
   },
   "source": [
    "**The `df_users` dataframe.** Let us briefly explore the contents of the `df_users` dataframe. "
   ]
  },
  {
   "cell_type": "code",
   "execution_count": 4,
   "metadata": {
    "execution": {
     "iopub.execute_input": "2020-05-05T16:09:36.463Z",
     "iopub.status.busy": "2020-05-05T16:09:36.454Z",
     "iopub.status.idle": "2020-05-05T16:09:36.487Z"
    },
    "jupyter": {
     "outputs_hidden": false,
     "source_hidden": false
    },
    "nteract": {
     "transient": {
      "deleting": false
     }
    },
    "outputExpanded": false
   },
   "outputs": [
    {
     "data": {
      "text/plain": [
       "(6040, 8)"
      ]
     },
     "execution_count": 4,
     "metadata": {},
     "output_type": "execute_result"
    }
   ],
   "source": [
    "size(df_users)"
   ]
  },
  {
   "cell_type": "markdown",
   "metadata": {
    "nteract": {
     "transient": {
      "deleting": false
     }
    }
   },
   "source": [
    "So, `df_users` has 6040 rows and 8 columns. It is too large, but let us peek into the first and last few of the rows rows."
   ]
  },
  {
   "cell_type": "code",
   "execution_count": 5,
   "metadata": {
    "execution": {
     "iopub.execute_input": "2020-05-05T19:55:56.552Z",
     "iopub.status.busy": "2020-05-05T19:55:56.542Z",
     "iopub.status.idle": "2020-05-05T19:55:56.575Z"
    },
    "jupyter": {
     "outputs_hidden": false,
     "source_hidden": false
    },
    "nteract": {
     "transient": {
      "deleting": false
     }
    },
    "outputExpanded": false
   },
   "outputs": [
    {
     "data": {
      "text/html": [
       "<table class=\"data-frame\"><thead><tr><th></th><th>Column1</th><th>user_id</th><th>gender</th><th>age</th><th>occupation</th><th>zipcode</th><th>age_desc</th><th>occ_desc</th></tr><tr><th></th><th>Int64</th><th>Int64</th><th>String</th><th>Int64</th><th>Int64</th><th>String</th><th>String</th><th>String</th></tr></thead><tbody><p>3 rows × 8 columns</p><tr><th>1</th><td>0</td><td>1</td><td>F</td><td>1</td><td>10</td><td>48067</td><td>Under 18</td><td>K-12 student</td></tr><tr><th>2</th><td>1</td><td>2</td><td>M</td><td>56</td><td>16</td><td>70072</td><td>56+</td><td>self-employed</td></tr><tr><th>3</th><td>2</td><td>3</td><td>M</td><td>25</td><td>15</td><td>55117</td><td>25-34</td><td>scientist</td></tr></tbody></table>"
      ],
      "text/latex": [
       "\\begin{tabular}{r|cccccccc}\n",
       "\t& Column1 & user\\_id & gender & age & occupation & zipcode & age\\_desc & occ\\_desc\\\\\n",
       "\t\\hline\n",
       "\t& Int64 & Int64 & String & Int64 & Int64 & String & String & String\\\\\n",
       "\t\\hline\n",
       "\t1 & 0 & 1 & F & 1 & 10 & 48067 & Under 18 & K-12 student \\\\\n",
       "\t2 & 1 & 2 & M & 56 & 16 & 70072 & 56+ & self-employed \\\\\n",
       "\t3 & 2 & 3 & M & 25 & 15 & 55117 & 25-34 & scientist \\\\\n",
       "\\end{tabular}\n"
      ],
      "text/plain": [
       "3×8 DataFrame. Omitted printing of 1 columns\n",
       "│ Row │ Column1 │ user_id │ gender │ age   │ occupation │ zipcode │ age_desc │\n",
       "│     │ \u001b[90mInt64\u001b[39m   │ \u001b[90mInt64\u001b[39m   │ \u001b[90mString\u001b[39m │ \u001b[90mInt64\u001b[39m │ \u001b[90mInt64\u001b[39m      │ \u001b[90mString\u001b[39m  │ \u001b[90mString\u001b[39m   │\n",
       "├─────┼─────────┼─────────┼────────┼───────┼────────────┼─────────┼──────────┤\n",
       "│ 1   │ 0       │ 1       │ F      │ 1     │ 10         │ 48067   │ Under 18 │\n",
       "│ 2   │ 1       │ 2       │ M      │ 56    │ 16         │ 70072   │ 56+      │\n",
       "│ 3   │ 2       │ 3       │ M      │ 25    │ 15         │ 55117   │ 25-34    │"
      ]
     },
     "execution_count": 5,
     "metadata": {},
     "output_type": "execute_result"
    }
   ],
   "source": [
    "first(df_users,3)"
   ]
  },
  {
   "cell_type": "code",
   "execution_count": 6,
   "metadata": {
    "execution": {
     "iopub.execute_input": "2020-05-05T19:56:01.834Z",
     "iopub.status.busy": "2020-05-05T19:56:01.821Z",
     "iopub.status.idle": "2020-05-05T19:56:01.853Z"
    },
    "jupyter": {
     "outputs_hidden": false,
     "source_hidden": false
    },
    "nteract": {
     "transient": {
      "deleting": false
     }
    },
    "outputExpanded": false
   },
   "outputs": [
    {
     "data": {
      "text/html": [
       "<table class=\"data-frame\"><thead><tr><th></th><th>Column1</th><th>user_id</th><th>gender</th><th>age</th><th>occupation</th><th>zipcode</th><th>age_desc</th><th>occ_desc</th></tr><tr><th></th><th>Int64</th><th>Int64</th><th>String</th><th>Int64</th><th>Int64</th><th>String</th><th>String</th><th>String</th></tr></thead><tbody><p>4 rows × 8 columns</p><tr><th>1</th><td>6036</td><td>6037</td><td>F</td><td>45</td><td>1</td><td>76006</td><td>45-49</td><td>academic/educator</td></tr><tr><th>2</th><td>6037</td><td>6038</td><td>F</td><td>56</td><td>1</td><td>14706</td><td>56+</td><td>academic/educator</td></tr><tr><th>3</th><td>6038</td><td>6039</td><td>F</td><td>45</td><td>0</td><td>01060</td><td>45-49</td><td>other or not specified</td></tr><tr><th>4</th><td>6039</td><td>6040</td><td>M</td><td>25</td><td>6</td><td>11106</td><td>25-34</td><td>doctor/health care</td></tr></tbody></table>"
      ],
      "text/latex": [
       "\\begin{tabular}{r|cccccccc}\n",
       "\t& Column1 & user\\_id & gender & age & occupation & zipcode & age\\_desc & occ\\_desc\\\\\n",
       "\t\\hline\n",
       "\t& Int64 & Int64 & String & Int64 & Int64 & String & String & String\\\\\n",
       "\t\\hline\n",
       "\t1 & 6036 & 6037 & F & 45 & 1 & 76006 & 45-49 & academic/educator \\\\\n",
       "\t2 & 6037 & 6038 & F & 56 & 1 & 14706 & 56+ & academic/educator \\\\\n",
       "\t3 & 6038 & 6039 & F & 45 & 0 & 01060 & 45-49 & other or not specified \\\\\n",
       "\t4 & 6039 & 6040 & M & 25 & 6 & 11106 & 25-34 & doctor/health care \\\\\n",
       "\\end{tabular}\n"
      ],
      "text/plain": [
       "4×8 DataFrame. Omitted printing of 1 columns\n",
       "│ Row │ Column1 │ user_id │ gender │ age   │ occupation │ zipcode │ age_desc │\n",
       "│     │ \u001b[90mInt64\u001b[39m   │ \u001b[90mInt64\u001b[39m   │ \u001b[90mString\u001b[39m │ \u001b[90mInt64\u001b[39m │ \u001b[90mInt64\u001b[39m      │ \u001b[90mString\u001b[39m  │ \u001b[90mString\u001b[39m   │\n",
       "├─────┼─────────┼─────────┼────────┼───────┼────────────┼─────────┼──────────┤\n",
       "│ 1   │ 6036    │ 6037    │ F      │ 45    │ 1          │ 76006   │ 45-49    │\n",
       "│ 2   │ 6037    │ 6038    │ F      │ 56    │ 1          │ 14706   │ 56+      │\n",
       "│ 3   │ 6038    │ 6039    │ F      │ 45    │ 0          │ 01060   │ 45-49    │\n",
       "│ 4   │ 6039    │ 6040    │ M      │ 25    │ 6          │ 11106   │ 25-34    │"
      ]
     },
     "execution_count": 6,
     "metadata": {},
     "output_type": "execute_result"
    }
   ],
   "source": [
    "last(df_users, 4)"
   ]
  },
  {
   "cell_type": "markdown",
   "metadata": {
    "nteract": {
     "transient": {
      "deleting": false
     }
    }
   },
   "source": [
    "Now let us take a look at the basic summary statistics of data in df_users."
   ]
  },
  {
   "cell_type": "code",
   "execution_count": 7,
   "metadata": {
    "execution": {
     "iopub.execute_input": "2020-05-05T16:09:40.659Z",
     "iopub.status.busy": "2020-05-05T16:09:40.647Z",
     "iopub.status.idle": "2020-05-05T16:09:44.150Z"
    },
    "jupyter": {
     "outputs_hidden": false,
     "source_hidden": false
    },
    "nteract": {
     "transient": {
      "deleting": false
     }
    },
    "outputExpanded": false
   },
   "outputs": [
    {
     "data": {
      "text/html": [
       "<table class=\"data-frame\"><thead><tr><th></th><th>variable</th><th>mean</th><th>min</th><th>median</th><th>max</th><th>nunique</th><th>nmissing</th><th>eltype</th></tr><tr><th></th><th>Symbol</th><th>Union…</th><th>Any</th><th>Union…</th><th>Any</th><th>Union…</th><th>Nothing</th><th>DataType</th></tr></thead><tbody><p>3 rows × 8 columns</p><tr><th>1</th><td>Column1</td><td>3019.5</td><td>0</td><td>3019.5</td><td>6039</td><td></td><td></td><td>Int64</td></tr><tr><th>2</th><td>user_id</td><td>3020.5</td><td>1</td><td>3020.5</td><td>6040</td><td></td><td></td><td>Int64</td></tr><tr><th>3</th><td>gender</td><td></td><td>F</td><td></td><td>M</td><td>2</td><td></td><td>String</td></tr></tbody></table>"
      ],
      "text/latex": [
       "\\begin{tabular}{r|cccccccc}\n",
       "\t& variable & mean & min & median & max & nunique & nmissing & eltype\\\\\n",
       "\t\\hline\n",
       "\t& Symbol & Union… & Any & Union… & Any & Union… & Nothing & DataType\\\\\n",
       "\t\\hline\n",
       "\t1 & Column1 & 3019.5 & 0 & 3019.5 & 6039 &  &  & Int64 \\\\\n",
       "\t2 & user\\_id & 3020.5 & 1 & 3020.5 & 6040 &  &  & Int64 \\\\\n",
       "\t3 & gender &  & F &  & M & 2 &  & String \\\\\n",
       "\\end{tabular}\n"
      ],
      "text/plain": [
       "3×8 DataFrame. Omitted printing of 1 columns\n",
       "│ Row │ variable │ mean   │ min │ median │ max  │ nunique │ nmissing │\n",
       "│     │ \u001b[90mSymbol\u001b[39m   │ \u001b[90mUnion…\u001b[39m │ \u001b[90mAny\u001b[39m │ \u001b[90mUnion…\u001b[39m │ \u001b[90mAny\u001b[39m  │ \u001b[90mUnion…\u001b[39m  │ \u001b[90mNothing\u001b[39m  │\n",
       "├─────┼──────────┼────────┼─────┼────────┼──────┼─────────┼──────────┤\n",
       "│ 1   │ Column1  │ 3019.5 │ 0   │ 3019.5 │ 6039 │         │          │\n",
       "│ 2   │ user_id  │ 3020.5 │ 1   │ 3020.5 │ 6040 │         │          │\n",
       "│ 3   │ gender   │        │ F   │        │ M    │ 2       │          │"
      ]
     },
     "execution_count": 7,
     "metadata": {},
     "output_type": "execute_result"
    }
   ],
   "source": [
    "# Let us take a look at a quick summary about df_users for a few users\n",
    "describe(df_users, cols = 1:3)\n",
    "# if we were interested about all the columns, then we could run the following command:\n",
    "# describe(df_users)"
   ]
  },
  {
   "cell_type": "markdown",
   "metadata": {
    "nteract": {
     "transient": {
      "deleting": false
     }
    }
   },
   "source": [
    "The get the name of all the columns of `df_users`, we can use the function `names`. "
   ]
  },
  {
   "cell_type": "code",
   "execution_count": 8,
   "metadata": {
    "execution": {
     "iopub.execute_input": "2020-05-05T16:09:51.037Z",
     "iopub.status.busy": "2020-05-05T16:09:51.022Z",
     "iopub.status.idle": "2020-05-05T16:09:51.722Z"
    },
    "jupyter": {
     "outputs_hidden": false,
     "source_hidden": false
    },
    "nteract": {
     "transient": {
      "deleting": false
     }
    },
    "outputExpanded": false
   },
   "outputs": [
    {
     "data": {
      "text/plain": [
       "8-element Array{Symbol,1}:\n",
       " :Column1   \n",
       " :user_id   \n",
       " :gender    \n",
       " :age       \n",
       " :occupation\n",
       " :zipcode   \n",
       " :age_desc  \n",
       " :occ_desc  "
      ]
     },
     "execution_count": 8,
     "metadata": {},
     "output_type": "execute_result"
    }
   ],
   "source": [
    "names(df_users)"
   ]
  },
  {
   "cell_type": "markdown",
   "metadata": {
    "nteract": {
     "transient": {
      "deleting": false
     }
    }
   },
   "source": [
    "If we want to know the element types of each column, we can run the following."
   ]
  },
  {
   "cell_type": "code",
   "execution_count": 9,
   "metadata": {
    "execution": {
     "iopub.execute_input": "2020-05-05T16:09:53.005Z",
     "iopub.status.busy": "2020-05-05T16:09:52.993Z",
     "iopub.status.idle": "2020-05-05T16:09:53.675Z"
    },
    "jupyter": {
     "outputs_hidden": false,
     "source_hidden": false
    },
    "nteract": {
     "transient": {
      "deleting": false
     }
    },
    "outputExpanded": false
   },
   "outputs": [
    {
     "data": {
      "text/plain": [
       "8-element Array{DataType,1}:\n",
       " Int64 \n",
       " Int64 \n",
       " String\n",
       " Int64 \n",
       " Int64 \n",
       " String\n",
       " String\n",
       " String"
      ]
     },
     "execution_count": 9,
     "metadata": {},
     "output_type": "execute_result"
    }
   ],
   "source": [
    "eltype.(eachcol(df_users))"
   ]
  },
  {
   "cell_type": "markdown",
   "metadata": {
    "nteract": {
     "transient": {
      "deleting": false
     }
    }
   },
   "source": [
    "**The `df_movies` dataframe.** Let us repeat the previous commands for the `df_movies` dataframe."
   ]
  },
  {
   "cell_type": "code",
   "execution_count": 10,
   "metadata": {
    "execution": {
     "iopub.execute_input": "2020-05-05T14:33:55.984Z",
     "iopub.status.busy": "2020-05-05T14:33:55.977Z",
     "iopub.status.idle": "2020-05-05T14:33:55.996Z"
    },
    "jupyter": {
     "outputs_hidden": false,
     "source_hidden": false
    },
    "nteract": {
     "transient": {
      "deleting": false
     }
    },
    "outputExpanded": false
   },
   "outputs": [],
   "source": [
    "size(df_movies);"
   ]
  },
  {
   "cell_type": "code",
   "execution_count": 11,
   "metadata": {
    "execution": {
     "iopub.execute_input": "2020-05-05T14:33:52.887Z",
     "iopub.status.busy": "2020-05-05T14:33:52.878Z",
     "iopub.status.idle": "2020-05-05T14:33:52.899Z"
    },
    "jupyter": {
     "outputs_hidden": false,
     "source_hidden": false
    },
    "nteract": {
     "transient": {
      "deleting": false
     }
    },
    "outputExpanded": false
   },
   "outputs": [],
   "source": [
    "first(df_movies,5);"
   ]
  },
  {
   "cell_type": "code",
   "execution_count": 12,
   "metadata": {
    "execution": {
     "iopub.execute_input": "2020-05-05T14:33:50.081Z",
     "iopub.status.busy": "2020-05-05T14:33:50.073Z",
     "iopub.status.idle": "2020-05-05T14:33:50.094Z"
    },
    "jupyter": {
     "outputs_hidden": false,
     "source_hidden": false
    },
    "nteract": {
     "transient": {
      "deleting": false
     }
    },
    "outputExpanded": false
   },
   "outputs": [],
   "source": [
    "last(df_movies, 3);"
   ]
  },
  {
   "cell_type": "code",
   "execution_count": 13,
   "metadata": {
    "execution": {
     "iopub.execute_input": "2020-05-05T14:33:48.063Z",
     "iopub.status.busy": "2020-05-05T14:33:48.054Z",
     "iopub.status.idle": "2020-05-05T14:33:48.078Z"
    },
    "jupyter": {
     "outputs_hidden": false,
     "source_hidden": false
    },
    "nteract": {
     "transient": {
      "deleting": false
     }
    },
    "outputExpanded": false
   },
   "outputs": [],
   "source": [
    "describe(df_movies, cols = 1:3);"
   ]
  },
  {
   "cell_type": "code",
   "execution_count": 15,
   "metadata": {
    "execution": {
     "iopub.execute_input": "2020-05-05T14:33:39.698Z",
     "iopub.status.busy": "2020-05-05T14:33:39.689Z",
     "iopub.status.idle": "2020-05-05T14:33:39.713Z"
    },
    "jupyter": {
     "outputs_hidden": false,
     "source_hidden": false
    },
    "nteract": {
     "transient": {
      "deleting": false
     }
    },
    "outputExpanded": false
   },
   "outputs": [
    {
     "data": {
      "text/plain": [
       "4-element Array{Symbol,1}:\n",
       " :Column1 \n",
       " :movie_id\n",
       " :title   \n",
       " :genres  "
      ]
     },
     "execution_count": 15,
     "metadata": {},
     "output_type": "execute_result"
    }
   ],
   "source": [
    "names(df_movies)"
   ]
  },
  {
   "cell_type": "code",
   "execution_count": 16,
   "metadata": {
    "execution": {
     "iopub.execute_input": "2020-05-04T17:30:04.349Z",
     "iopub.status.busy": "2020-05-04T17:30:04.343Z",
     "iopub.status.idle": "2020-05-04T17:30:04.359Z"
    },
    "jupyter": {
     "outputs_hidden": false,
     "source_hidden": false
    },
    "nteract": {
     "transient": {
      "deleting": false
     }
    },
    "outputExpanded": false
   },
   "outputs": [],
   "source": [
    "eltype.(eachcol(df_movies));"
   ]
  },
  {
   "cell_type": "markdown",
   "metadata": {
    "nteract": {
     "transient": {
      "deleting": false
     }
    }
   },
   "source": [
    "**The `df_ratings` dataframe.** Let us see what is going on with the dataframe `df_ratings`."
   ]
  },
  {
   "cell_type": "code",
   "execution_count": 17,
   "metadata": {
    "execution": {
     "iopub.execute_input": "2020-05-05T14:34:01.228Z",
     "iopub.status.busy": "2020-05-05T14:34:01.219Z",
     "iopub.status.idle": "2020-05-05T14:34:01.244Z"
    },
    "jupyter": {
     "outputs_hidden": false,
     "source_hidden": false
    },
    "nteract": {
     "transient": {
      "deleting": false
     }
    },
    "outputExpanded": false
   },
   "outputs": [],
   "source": [
    "size(df_ratings); # quite large with 1000209 columns and 7 rows"
   ]
  },
  {
   "cell_type": "code",
   "execution_count": 18,
   "metadata": {
    "execution": {
     "iopub.execute_input": "2020-05-05T14:47:55.884Z",
     "iopub.status.busy": "2020-05-05T14:47:55.874Z",
     "iopub.status.idle": "2020-05-05T14:47:55.908Z"
    },
    "jupyter": {
     "outputs_hidden": false,
     "source_hidden": false
    },
    "nteract": {
     "transient": {
      "deleting": false
     }
    },
    "outputExpanded": false
   },
   "outputs": [
    {
     "data": {
      "text/html": [
       "<table class=\"data-frame\"><thead><tr><th></th><th>Column1</th><th>user_id</th><th>movie_id</th><th>rating</th><th>timestamp</th><th>user_emb_id</th><th>movie_emb_id</th></tr><tr><th></th><th>Int64</th><th>Int64</th><th>Int64</th><th>Int64</th><th>Int64</th><th>Int64</th><th>Int64</th></tr></thead><tbody><p>3 rows × 7 columns</p><tr><th>1</th><td>0</td><td>1</td><td>1193</td><td>5</td><td>978300760</td><td>0</td><td>1192</td></tr><tr><th>2</th><td>1</td><td>1</td><td>661</td><td>3</td><td>978302109</td><td>0</td><td>660</td></tr><tr><th>3</th><td>2</td><td>1</td><td>914</td><td>3</td><td>978301968</td><td>0</td><td>913</td></tr></tbody></table>"
      ],
      "text/latex": [
       "\\begin{tabular}{r|ccccccc}\n",
       "\t& Column1 & user\\_id & movie\\_id & rating & timestamp & user\\_emb\\_id & movie\\_emb\\_id\\\\\n",
       "\t\\hline\n",
       "\t& Int64 & Int64 & Int64 & Int64 & Int64 & Int64 & Int64\\\\\n",
       "\t\\hline\n",
       "\t1 & 0 & 1 & 1193 & 5 & 978300760 & 0 & 1192 \\\\\n",
       "\t2 & 1 & 1 & 661 & 3 & 978302109 & 0 & 660 \\\\\n",
       "\t3 & 2 & 1 & 914 & 3 & 978301968 & 0 & 913 \\\\\n",
       "\\end{tabular}\n"
      ],
      "text/plain": [
       "3×7 DataFrame. Omitted printing of 1 columns\n",
       "│ Row │ Column1 │ user_id │ movie_id │ rating │ timestamp │ user_emb_id │\n",
       "│     │ \u001b[90mInt64\u001b[39m   │ \u001b[90mInt64\u001b[39m   │ \u001b[90mInt64\u001b[39m    │ \u001b[90mInt64\u001b[39m  │ \u001b[90mInt64\u001b[39m     │ \u001b[90mInt64\u001b[39m       │\n",
       "├─────┼─────────┼─────────┼──────────┼────────┼───────────┼─────────────┤\n",
       "│ 1   │ 0       │ 1       │ 1193     │ 5      │ 978300760 │ 0           │\n",
       "│ 2   │ 1       │ 1       │ 661      │ 3      │ 978302109 │ 0           │\n",
       "│ 3   │ 2       │ 1       │ 914      │ 3      │ 978301968 │ 0           │"
      ]
     },
     "execution_count": 18,
     "metadata": {},
     "output_type": "execute_result"
    }
   ],
   "source": [
    "first(df_ratings,3)"
   ]
  },
  {
   "cell_type": "code",
   "execution_count": 19,
   "metadata": {
    "execution": {
     "iopub.execute_input": "2020-05-05T14:34:06.680Z",
     "iopub.status.busy": "2020-05-05T14:34:06.668Z",
     "iopub.status.idle": "2020-05-05T14:34:06.698Z"
    },
    "jupyter": {
     "outputs_hidden": false,
     "source_hidden": false
    },
    "nteract": {
     "transient": {
      "deleting": false
     }
    },
    "outputExpanded": false
   },
   "outputs": [],
   "source": [
    "last(df_ratings,3);"
   ]
  },
  {
   "cell_type": "code",
   "execution_count": 20,
   "metadata": {
    "execution": {
     "iopub.execute_input": "2020-05-05T14:34:09.418Z",
     "iopub.status.busy": "2020-05-05T14:34:09.407Z",
     "iopub.status.idle": "2020-05-05T14:34:09.536Z"
    },
    "jupyter": {
     "outputs_hidden": false,
     "source_hidden": false
    },
    "nteract": {
     "transient": {
      "deleting": false
     }
    },
    "outputExpanded": false
   },
   "outputs": [],
   "source": [
    "describe(df_ratings, cols = 1:3);"
   ]
  },
  {
   "cell_type": "code",
   "execution_count": 21,
   "metadata": {
    "execution": {
     "iopub.execute_input": "2020-05-05T14:34:12.408Z",
     "iopub.status.busy": "2020-05-05T14:34:12.398Z",
     "iopub.status.idle": "2020-05-05T14:34:12.422Z"
    },
    "jupyter": {
     "outputs_hidden": false,
     "source_hidden": false
    },
    "nteract": {
     "transient": {
      "deleting": false
     }
    },
    "outputExpanded": false
   },
   "outputs": [],
   "source": [
    "names(df_ratings);"
   ]
  },
  {
   "cell_type": "code",
   "execution_count": 22,
   "metadata": {
    "execution": {
     "iopub.execute_input": "2020-05-05T14:47:37.043Z",
     "iopub.status.busy": "2020-05-05T14:47:37.030Z",
     "iopub.status.idle": "2020-05-05T14:47:37.059Z"
    },
    "jupyter": {
     "outputs_hidden": false,
     "source_hidden": false
    },
    "nteract": {
     "transient": {
      "deleting": false
     }
    },
    "outputExpanded": false
   },
   "outputs": [],
   "source": [
    "eltype.(eachcol(df_ratings));"
   ]
  },
  {
   "cell_type": "code",
   "execution_count": 23,
   "metadata": {
    "execution": {
     "iopub.execute_input": "2020-05-05T14:47:40.130Z",
     "iopub.status.busy": "2020-05-05T14:47:40.120Z",
     "iopub.status.idle": "2020-05-05T14:47:40.152Z"
    },
    "jupyter": {
     "outputs_hidden": false,
     "source_hidden": false
    },
    "nteract": {
     "transient": {
      "deleting": false
     }
    },
    "outputExpanded": false
   },
   "outputs": [
    {
     "name": "stdout",
     "output_type": "stream",
     "text": [
      "Number of users = 6040 | Number of movies = 3706\n"
     ]
    }
   ],
   "source": [
    "## Let us create the rating matrix\n",
    "# first let us create the number of unique users and matrices\n",
    "n_users = length(unique(df_ratings.user_id))\n",
    "n_movies = length(unique(df_ratings.movie_id))\n",
    "println(\"Number of users = $(n_users) | Number of movies = $(n_movies)\")"
   ]
  },
  {
   "cell_type": "markdown",
   "metadata": {
    "nteract": {
     "transient": {
      "deleting": false
     }
    }
   },
   "source": [
    "### Converting a dataframe into wide format\n",
    "Now we construct a wide format dataframe for the `df_ratings` dataframe using the `unstack` function. Our goal is creating a dataframe, which will have the users as the rows, the movies as the columns, and the rating as the value. The `unstack` function requires specifying which columns would act as id variable, column variable name, and column values. "
   ]
  },
  {
   "cell_type": "code",
   "execution_count": 24,
   "metadata": {
    "execution": {
     "iopub.execute_input": "2020-05-05T16:10:28.775Z",
     "iopub.status.busy": "2020-05-05T16:10:28.759Z",
     "iopub.status.idle": "2020-05-05T16:10:30.342Z"
    },
    "jupyter": {
     "outputs_hidden": false,
     "source_hidden": false
    },
    "nteract": {
     "transient": {
      "deleting": false
     }
    },
    "outputExpanded": false
   },
   "outputs": [],
   "source": [
    "df_ratings_unstacked = unstack(df_ratings, :user_id, :movie_id, :rating);"
   ]
  },
  {
   "cell_type": "code",
   "execution_count": 25,
   "metadata": {
    "execution": {
     "iopub.execute_input": "2020-05-05T16:10:41.275Z",
     "iopub.status.busy": "2020-05-05T16:10:41.258Z",
     "iopub.status.idle": "2020-05-05T16:10:41.300Z"
    },
    "jupyter": {
     "outputs_hidden": false,
     "source_hidden": false
    },
    "nteract": {
     "transient": {
      "deleting": false
     }
    },
    "outputExpanded": false
   },
   "outputs": [
    {
     "data": {
      "text/plain": [
       "(6040, 3707)"
      ]
     },
     "execution_count": 25,
     "metadata": {},
     "output_type": "execute_result"
    }
   ],
   "source": [
    "size(df_ratings_unstacked)"
   ]
  },
  {
   "cell_type": "code",
   "execution_count": 26,
   "metadata": {
    "execution": {
     "iopub.execute_input": "2020-05-05T16:10:50.450Z",
     "iopub.status.busy": "2020-05-05T16:10:50.438Z",
     "iopub.status.idle": "2020-05-05T16:10:50.729Z"
    },
    "jupyter": {
     "outputs_hidden": false,
     "source_hidden": false
    },
    "nteract": {
     "transient": {
      "deleting": false
     }
    },
    "outputExpanded": false
   },
   "outputs": [
    {
     "data": {
      "text/html": [
       "<table class=\"data-frame\"><thead><tr><th></th><th>user_id</th><th>1</th><th>2</th><th>3</th><th>4</th><th>5</th><th>6</th><th>7</th><th>8</th></tr><tr><th></th><th>Int64</th><th>Int64⍰</th><th>Int64⍰</th><th>Int64⍰</th><th>Int64⍰</th><th>Int64⍰</th><th>Int64⍰</th><th>Int64⍰</th><th>Int64⍰</th></tr></thead><tbody><p>6 rows × 3,707 columns (omitted printing of 3698 columns)</p><tr><th>1</th><td>1</td><td>5</td><td>missing</td><td>missing</td><td>missing</td><td>missing</td><td>missing</td><td>missing</td><td>missing</td></tr><tr><th>2</th><td>2</td><td>missing</td><td>missing</td><td>missing</td><td>missing</td><td>missing</td><td>missing</td><td>missing</td><td>missing</td></tr><tr><th>3</th><td>3</td><td>missing</td><td>missing</td><td>missing</td><td>missing</td><td>missing</td><td>missing</td><td>missing</td><td>missing</td></tr><tr><th>4</th><td>4</td><td>missing</td><td>missing</td><td>missing</td><td>missing</td><td>missing</td><td>missing</td><td>missing</td><td>missing</td></tr><tr><th>5</th><td>5</td><td>missing</td><td>missing</td><td>missing</td><td>missing</td><td>missing</td><td>2</td><td>missing</td><td>missing</td></tr><tr><th>6</th><td>6</td><td>4</td><td>missing</td><td>missing</td><td>missing</td><td>missing</td><td>missing</td><td>missing</td><td>missing</td></tr></tbody></table>"
      ],
      "text/latex": [
       "\\begin{tabular}{r|cccccccccc}\n",
       "\t& user\\_id & 1 & 2 & 3 & 4 & 5 & 6 & 7 & 8 & \\\\\n",
       "\t\\hline\n",
       "\t& Int64 & Int64⍰ & Int64⍰ & Int64⍰ & Int64⍰ & Int64⍰ & Int64⍰ & Int64⍰ & Int64⍰ & \\\\\n",
       "\t\\hline\n",
       "\t1 & 1 & 5 &  &  &  &  &  &  &  & $\\dots$ \\\\\n",
       "\t2 & 2 &  &  &  &  &  &  &  &  & $\\dots$ \\\\\n",
       "\t3 & 3 &  &  &  &  &  &  &  &  & $\\dots$ \\\\\n",
       "\t4 & 4 &  &  &  &  &  &  &  &  & $\\dots$ \\\\\n",
       "\t5 & 5 &  &  &  &  &  & 2 &  &  & $\\dots$ \\\\\n",
       "\t6 & 6 & 4 &  &  &  &  &  &  &  & $\\dots$ \\\\\n",
       "\\end{tabular}\n"
      ],
      "text/plain": [
       "6×3707 DataFrame. Omitted printing of 3700 columns\n",
       "│ Row │ user_id │ 1       │ 2       │ 3       │ 4       │ 5       │ 6       │\n",
       "│     │ \u001b[90mInt64\u001b[39m   │ \u001b[90mInt64⍰\u001b[39m  │ \u001b[90mInt64⍰\u001b[39m  │ \u001b[90mInt64⍰\u001b[39m  │ \u001b[90mInt64⍰\u001b[39m  │ \u001b[90mInt64⍰\u001b[39m  │ \u001b[90mInt64⍰\u001b[39m  │\n",
       "├─────┼─────────┼─────────┼─────────┼─────────┼─────────┼─────────┼─────────┤\n",
       "│ 1   │ 1       │ 5       │ \u001b[90mmissing\u001b[39m │ \u001b[90mmissing\u001b[39m │ \u001b[90mmissing\u001b[39m │ \u001b[90mmissing\u001b[39m │ \u001b[90mmissing\u001b[39m │\n",
       "│ 2   │ 2       │ \u001b[90mmissing\u001b[39m │ \u001b[90mmissing\u001b[39m │ \u001b[90mmissing\u001b[39m │ \u001b[90mmissing\u001b[39m │ \u001b[90mmissing\u001b[39m │ \u001b[90mmissing\u001b[39m │\n",
       "│ 3   │ 3       │ \u001b[90mmissing\u001b[39m │ \u001b[90mmissing\u001b[39m │ \u001b[90mmissing\u001b[39m │ \u001b[90mmissing\u001b[39m │ \u001b[90mmissing\u001b[39m │ \u001b[90mmissing\u001b[39m │\n",
       "│ 4   │ 4       │ \u001b[90mmissing\u001b[39m │ \u001b[90mmissing\u001b[39m │ \u001b[90mmissing\u001b[39m │ \u001b[90mmissing\u001b[39m │ \u001b[90mmissing\u001b[39m │ \u001b[90mmissing\u001b[39m │\n",
       "│ 5   │ 5       │ \u001b[90mmissing\u001b[39m │ \u001b[90mmissing\u001b[39m │ \u001b[90mmissing\u001b[39m │ \u001b[90mmissing\u001b[39m │ \u001b[90mmissing\u001b[39m │ 2       │\n",
       "│ 6   │ 6       │ 4       │ \u001b[90mmissing\u001b[39m │ \u001b[90mmissing\u001b[39m │ \u001b[90mmissing\u001b[39m │ \u001b[90mmissing\u001b[39m │ \u001b[90mmissing\u001b[39m │"
      ]
     },
     "execution_count": 26,
     "metadata": {},
     "output_type": "execute_result"
    }
   ],
   "source": [
    "first(df_ratings_unstacked, 6)"
   ]
  },
  {
   "cell_type": "markdown",
   "metadata": {
    "nteract": {
     "transient": {
      "deleting": false
     }
    }
   },
   "source": [
    "### Working with missing values\n",
    "We have lot of missing values, which we can see the let us replace the missing values with `NaN`."
   ]
  },
  {
   "cell_type": "code",
   "execution_count": 27,
   "metadata": {
    "execution": {
     "iopub.execute_input": "2020-05-05T16:19:34.087Z",
     "iopub.status.busy": "2020-05-05T16:19:34.067Z",
     "iopub.status.idle": "2020-05-05T16:19:34.160Z"
    },
    "jupyter": {
     "outputs_hidden": false,
     "source_hidden": false
    },
    "nteract": {
     "transient": {
      "deleting": false
     }
    },
    "outputExpanded": false
   },
   "outputs": [],
   "source": [
    "# replace the missing values in the data frame\n",
    "column_names_ru = names(df_ratings_unstacked);\n",
    "for i in 1:length(column_names_ru)\n",
    "   df_ratings_unstacked[!, column_names_ru[i]] = replace(df_ratings_unstacked[!, column_names_ru[i]], missing => NaN) # If we want to replace the missing values with any other number, then we use: missing => NaN\n",
    "end\n"
   ]
  },
  {
   "cell_type": "markdown",
   "metadata": {
    "nteract": {
     "transient": {
      "deleting": false
     }
    }
   },
   "source": [
    "Let us see if the values have indeed changed."
   ]
  },
  {
   "cell_type": "code",
   "execution_count": 28,
   "metadata": {
    "execution": {
     "iopub.execute_input": "2020-05-05T16:19:52.746Z",
     "iopub.status.busy": "2020-05-05T16:19:52.728Z",
     "iopub.status.idle": "2020-05-05T16:19:52.820Z"
    },
    "jupyter": {
     "outputs_hidden": false,
     "source_hidden": false
    },
    "nteract": {
     "transient": {
      "deleting": false
     }
    },
    "outputExpanded": false
   },
   "outputs": [
    {
     "data": {
      "text/html": [
       "<table class=\"data-frame\"><thead><tr><th></th><th>user_id</th><th>1</th><th>2</th><th>3</th><th>4</th><th>5</th><th>6</th><th>7</th><th>8</th></tr><tr><th></th><th>Float64</th><th>Float64</th><th>Float64</th><th>Float64</th><th>Float64</th><th>Float64</th><th>Float64</th><th>Float64</th><th>Float64</th></tr></thead><tbody><p>6 rows × 3,707 columns (omitted printing of 3698 columns)</p><tr><th>1</th><td>1.0</td><td>5.0</td><td>NaN</td><td>NaN</td><td>NaN</td><td>NaN</td><td>NaN</td><td>NaN</td><td>NaN</td></tr><tr><th>2</th><td>2.0</td><td>NaN</td><td>NaN</td><td>NaN</td><td>NaN</td><td>NaN</td><td>NaN</td><td>NaN</td><td>NaN</td></tr><tr><th>3</th><td>3.0</td><td>NaN</td><td>NaN</td><td>NaN</td><td>NaN</td><td>NaN</td><td>NaN</td><td>NaN</td><td>NaN</td></tr><tr><th>4</th><td>4.0</td><td>NaN</td><td>NaN</td><td>NaN</td><td>NaN</td><td>NaN</td><td>NaN</td><td>NaN</td><td>NaN</td></tr><tr><th>5</th><td>5.0</td><td>NaN</td><td>NaN</td><td>NaN</td><td>NaN</td><td>NaN</td><td>2.0</td><td>NaN</td><td>NaN</td></tr><tr><th>6</th><td>6.0</td><td>4.0</td><td>NaN</td><td>NaN</td><td>NaN</td><td>NaN</td><td>NaN</td><td>NaN</td><td>NaN</td></tr></tbody></table>"
      ],
      "text/latex": [
       "\\begin{tabular}{r|cccccccccc}\n",
       "\t& user\\_id & 1 & 2 & 3 & 4 & 5 & 6 & 7 & 8 & \\\\\n",
       "\t\\hline\n",
       "\t& Float64 & Float64 & Float64 & Float64 & Float64 & Float64 & Float64 & Float64 & Float64 & \\\\\n",
       "\t\\hline\n",
       "\t1 & 1.0 & 5.0 & NaN & NaN & NaN & NaN & NaN & NaN & NaN & $\\dots$ \\\\\n",
       "\t2 & 2.0 & NaN & NaN & NaN & NaN & NaN & NaN & NaN & NaN & $\\dots$ \\\\\n",
       "\t3 & 3.0 & NaN & NaN & NaN & NaN & NaN & NaN & NaN & NaN & $\\dots$ \\\\\n",
       "\t4 & 4.0 & NaN & NaN & NaN & NaN & NaN & NaN & NaN & NaN & $\\dots$ \\\\\n",
       "\t5 & 5.0 & NaN & NaN & NaN & NaN & NaN & 2.0 & NaN & NaN & $\\dots$ \\\\\n",
       "\t6 & 6.0 & 4.0 & NaN & NaN & NaN & NaN & NaN & NaN & NaN & $\\dots$ \\\\\n",
       "\\end{tabular}\n"
      ],
      "text/plain": [
       "6×3707 DataFrame. Omitted printing of 3700 columns\n",
       "│ Row │ user_id │ 1       │ 2       │ 3       │ 4       │ 5       │ 6       │\n",
       "│     │ \u001b[90mFloat64\u001b[39m │ \u001b[90mFloat64\u001b[39m │ \u001b[90mFloat64\u001b[39m │ \u001b[90mFloat64\u001b[39m │ \u001b[90mFloat64\u001b[39m │ \u001b[90mFloat64\u001b[39m │ \u001b[90mFloat64\u001b[39m │\n",
       "├─────┼─────────┼─────────┼─────────┼─────────┼─────────┼─────────┼─────────┤\n",
       "│ 1   │ 1.0     │ 5.0     │ NaN     │ NaN     │ NaN     │ NaN     │ NaN     │\n",
       "│ 2   │ 2.0     │ NaN     │ NaN     │ NaN     │ NaN     │ NaN     │ NaN     │\n",
       "│ 3   │ 3.0     │ NaN     │ NaN     │ NaN     │ NaN     │ NaN     │ NaN     │\n",
       "│ 4   │ 4.0     │ NaN     │ NaN     │ NaN     │ NaN     │ NaN     │ NaN     │\n",
       "│ 5   │ 5.0     │ NaN     │ NaN     │ NaN     │ NaN     │ NaN     │ 2.0     │\n",
       "│ 6   │ 6.0     │ 4.0     │ NaN     │ NaN     │ NaN     │ NaN     │ NaN     │"
      ]
     },
     "execution_count": 28,
     "metadata": {},
     "output_type": "execute_result"
    }
   ],
   "source": [
    "first(df_ratings_unstacked, 6)\n"
   ]
  },
  {
   "cell_type": "markdown",
   "metadata": {
    "nteract": {
     "transient": {
      "deleting": false
     }
    }
   },
   "source": [
    "**What if the missing values are represented as some other symbol in the original dataframe?** In the previous example, the missing values were convenienetly recognized by Julia as `missing` type. Now, in some data files the missing values are represented by some other symbols, such as \"?\". In such case the column that contains \"?\" may be diagnosed as an array of strings by Julia. In that case, we could run the following command to replace the \"?\"s with `missing` using the following command."
   ]
  },
  {
   "cell_type": "code",
   "execution_count": null,
   "metadata": {},
   "outputs": [],
   "source": [
    "type_of_columns = eltype.(eachcol(df)) # say the name of the dataframe is df\n",
    "\n",
    "m, n = size(df)\n",
    "\n",
    "for i in 3:n # let the important columns containing missing values start from column number 3\n",
    "\n",
    "  if type_of_columns[i] == String # due to presence of \"?\" in the column, it may get diagnosed by an array of strings by Julia\n",
    "  \n",
    "          df[!, i]  = map(x->\n",
    "                         begin\n",
    "                         val = tryparse(Float64, x)\n",
    "                         ifelse(typeof(val) == Nothing, missing, val)                         \n",
    "                         end, df[!,i])\n",
    "                         \n",
    "  end\n",
    "end"
   ]
  },
  {
   "cell_type": "markdown",
   "metadata": {
    "nteract": {
     "transient": {
      "deleting": false
     }
    }
   },
   "source": [
    "### Saving and loading dataframe\n",
    "Let us see how to load and safe a dataframe. We can save `df_ratings_unstacked` using the `write` function provided by the `CSV` package. "
   ]
  },
  {
   "cell_type": "code",
   "execution_count": 29,
   "metadata": {
    "execution": {
     "iopub.execute_input": "2020-05-05T20:02:07.486Z",
     "iopub.status.busy": "2020-05-05T20:02:07.473Z",
     "iopub.status.idle": "2020-05-05T20:03:20.738Z"
    },
    "jupyter": {
     "outputs_hidden": false,
     "source_hidden": false
    },
    "nteract": {
     "transient": {
      "deleting": false
     }
    },
    "outputExpanded": false
   },
   "outputs": [
    {
     "data": {
      "text/plain": [
       "\"df_ratings_unstacked.csv\""
      ]
     },
     "execution_count": 29,
     "metadata": {},
     "output_type": "execute_result"
    }
   ],
   "source": [
    "CSV.write(\"df_ratings_unstacked.csv\", df_ratings_unstacked)"
   ]
  },
  {
   "cell_type": "markdown",
   "metadata": {
    "nteract": {
     "transient": {
      "deleting": false
     }
    }
   },
   "source": [
    "To load back the dataframe that we just saved into the csv file, we can use `read` command provided by `CSV` package. The command `use_mmap = false` is used, so that the file can be deleted in the same session; this is required only in Windows."
   ]
  },
  {
   "cell_type": "code",
   "execution_count": 30,
   "metadata": {
    "execution": {
     "iopub.execute_input": "2020-05-05T20:05:57.600Z",
     "iopub.status.busy": "2020-05-05T20:05:57.588Z",
     "iopub.status.idle": "2020-05-05T20:05:59.795Z"
    },
    "jupyter": {
     "outputs_hidden": false,
     "source_hidden": false
    },
    "nteract": {
     "transient": {
      "deleting": false
     }
    },
    "outputExpanded": false
   },
   "outputs": [
    {
     "data": {
      "text/html": [
       "<table class=\"data-frame\"><thead><tr><th></th><th>user_id</th><th>1</th><th>2</th><th>3</th><th>4</th><th>5</th><th>6</th><th>7</th><th>8</th></tr><tr><th></th><th>Float64</th><th>Float64</th><th>Float64</th><th>Float64</th><th>Float64</th><th>Float64</th><th>Float64</th><th>Float64</th><th>Float64</th></tr></thead><tbody><p>5 rows × 3,707 columns (omitted printing of 3698 columns)</p><tr><th>1</th><td>1.0</td><td>5.0</td><td>NaN</td><td>NaN</td><td>NaN</td><td>NaN</td><td>NaN</td><td>NaN</td><td>NaN</td></tr><tr><th>2</th><td>2.0</td><td>NaN</td><td>NaN</td><td>NaN</td><td>NaN</td><td>NaN</td><td>NaN</td><td>NaN</td><td>NaN</td></tr><tr><th>3</th><td>3.0</td><td>NaN</td><td>NaN</td><td>NaN</td><td>NaN</td><td>NaN</td><td>NaN</td><td>NaN</td><td>NaN</td></tr><tr><th>4</th><td>4.0</td><td>NaN</td><td>NaN</td><td>NaN</td><td>NaN</td><td>NaN</td><td>NaN</td><td>NaN</td><td>NaN</td></tr><tr><th>5</th><td>5.0</td><td>NaN</td><td>NaN</td><td>NaN</td><td>NaN</td><td>NaN</td><td>2.0</td><td>NaN</td><td>NaN</td></tr></tbody></table>"
      ],
      "text/latex": [
       "\\begin{tabular}{r|cccccccccc}\n",
       "\t& user\\_id & 1 & 2 & 3 & 4 & 5 & 6 & 7 & 8 & \\\\\n",
       "\t\\hline\n",
       "\t& Float64 & Float64 & Float64 & Float64 & Float64 & Float64 & Float64 & Float64 & Float64 & \\\\\n",
       "\t\\hline\n",
       "\t1 & 1.0 & 5.0 & NaN & NaN & NaN & NaN & NaN & NaN & NaN & $\\dots$ \\\\\n",
       "\t2 & 2.0 & NaN & NaN & NaN & NaN & NaN & NaN & NaN & NaN & $\\dots$ \\\\\n",
       "\t3 & 3.0 & NaN & NaN & NaN & NaN & NaN & NaN & NaN & NaN & $\\dots$ \\\\\n",
       "\t4 & 4.0 & NaN & NaN & NaN & NaN & NaN & NaN & NaN & NaN & $\\dots$ \\\\\n",
       "\t5 & 5.0 & NaN & NaN & NaN & NaN & NaN & 2.0 & NaN & NaN & $\\dots$ \\\\\n",
       "\\end{tabular}\n"
      ],
      "text/plain": [
       "5×3707 DataFrame. Omitted printing of 3700 columns\n",
       "│ Row │ user_id │ 1       │ 2       │ 3       │ 4       │ 5       │ 6       │\n",
       "│     │ \u001b[90mFloat64\u001b[39m │ \u001b[90mFloat64\u001b[39m │ \u001b[90mFloat64\u001b[39m │ \u001b[90mFloat64\u001b[39m │ \u001b[90mFloat64\u001b[39m │ \u001b[90mFloat64\u001b[39m │ \u001b[90mFloat64\u001b[39m │\n",
       "├─────┼─────────┼─────────┼─────────┼─────────┼─────────┼─────────┼─────────┤\n",
       "│ 1   │ 1.0     │ 5.0     │ NaN     │ NaN     │ NaN     │ NaN     │ NaN     │\n",
       "│ 2   │ 2.0     │ NaN     │ NaN     │ NaN     │ NaN     │ NaN     │ NaN     │\n",
       "│ 3   │ 3.0     │ NaN     │ NaN     │ NaN     │ NaN     │ NaN     │ NaN     │\n",
       "│ 4   │ 4.0     │ NaN     │ NaN     │ NaN     │ NaN     │ NaN     │ NaN     │\n",
       "│ 5   │ 5.0     │ NaN     │ NaN     │ NaN     │ NaN     │ NaN     │ 2.0     │"
      ]
     },
     "execution_count": 30,
     "metadata": {},
     "output_type": "execute_result"
    }
   ],
   "source": [
    "df_loaded = CSV.read(\"df_ratings_unstacked.csv\", use_mmap=false);\n",
    "first(df_loaded, 5)"
   ]
  },
  {
   "cell_type": "markdown",
   "metadata": {
    "nteract": {
     "transient": {
      "deleting": false
     }
    }
   },
   "source": [
    "### Converting a dataframe into a matrix\n",
    "Now let us convert the `df_ratings_unstacked` dataframe into a matrix."
   ]
  },
  {
   "cell_type": "code",
   "execution_count": 31,
   "metadata": {
    "execution": {
     "iopub.execute_input": "2020-05-05T19:53:31.001Z",
     "iopub.status.busy": "2020-05-05T19:53:30.912Z",
     "iopub.status.idle": "2020-05-05T19:53:34.717Z"
    },
    "jupyter": {
     "outputs_hidden": false,
     "source_hidden": false
    },
    "nteract": {
     "transient": {
      "deleting": false
     }
    },
    "outputExpanded": false
   },
   "outputs": [
    {
     "data": {
      "text/plain": [
       "6040×3706 Array{Float64,2}:\n",
       "   5.0  NaN    NaN    NaN    NaN    …  NaN  NaN  NaN    NaN  NaN  NaN  NaN\n",
       " NaN    NaN    NaN    NaN    NaN       NaN  NaN  NaN    NaN  NaN  NaN  NaN\n",
       " NaN    NaN    NaN    NaN    NaN       NaN  NaN  NaN    NaN  NaN  NaN  NaN\n",
       " NaN    NaN    NaN    NaN    NaN       NaN  NaN  NaN    NaN  NaN  NaN  NaN\n",
       " NaN    NaN    NaN    NaN    NaN       NaN  NaN  NaN    NaN  NaN  NaN  NaN\n",
       "   4.0  NaN    NaN    NaN    NaN    …  NaN  NaN  NaN    NaN  NaN  NaN  NaN\n",
       " NaN    NaN    NaN    NaN    NaN       NaN  NaN  NaN    NaN  NaN  NaN  NaN\n",
       "   4.0  NaN    NaN      3.0  NaN       NaN  NaN  NaN    NaN  NaN  NaN  NaN\n",
       "   5.0  NaN    NaN    NaN    NaN       NaN  NaN    3.0  NaN  NaN  NaN  NaN\n",
       "   5.0    5.0  NaN    NaN    NaN       NaN  NaN    4.0  NaN  NaN  NaN  NaN\n",
       " NaN    NaN    NaN    NaN    NaN    …  NaN  NaN  NaN    NaN  NaN  NaN  NaN\n",
       " NaN    NaN    NaN    NaN    NaN       NaN  NaN  NaN    NaN  NaN  NaN  NaN\n",
       " NaN      3.0  NaN    NaN    NaN       NaN  NaN  NaN    NaN  NaN  NaN  NaN\n",
       "   ⋮                                ⋱         ⋮                          ⋮\n",
       " NaN    NaN    NaN    NaN    NaN       NaN  NaN  NaN    NaN  NaN  NaN  NaN\n",
       " NaN      4.0  NaN    NaN    NaN       NaN  NaN  NaN    NaN  NaN  NaN  NaN\n",
       " NaN    NaN    NaN    NaN    NaN    …  NaN  NaN  NaN    NaN  NaN  NaN  NaN\n",
       "   4.0  NaN    NaN    NaN    NaN       NaN  NaN  NaN    NaN  NaN  NaN  NaN\n",
       " NaN    NaN    NaN    NaN    NaN       NaN  NaN  NaN    NaN  NaN  NaN  NaN\n",
       " NaN    NaN    NaN    NaN    NaN       NaN  NaN  NaN    NaN  NaN  NaN  NaN\n",
       "   4.0  NaN      1.0    2.0    1.0     NaN  NaN  NaN    NaN  NaN  NaN  NaN\n",
       " NaN    NaN    NaN      2.0  NaN    …  NaN  NaN  NaN    NaN  NaN  NaN  NaN\n",
       " NaN    NaN    NaN    NaN    NaN       NaN  NaN  NaN    NaN  NaN  NaN  NaN\n",
       " NaN    NaN    NaN    NaN    NaN       NaN  NaN  NaN    NaN  NaN  NaN  NaN\n",
       " NaN    NaN    NaN    NaN    NaN       NaN  NaN  NaN    NaN  NaN  NaN  NaN\n",
       "   3.0  NaN    NaN    NaN    NaN       NaN  NaN  NaN    NaN  NaN  NaN  NaN"
      ]
     },
     "execution_count": 31,
     "metadata": {},
     "output_type": "execute_result"
    }
   ],
   "source": [
    "ratings_matrix = df_ratings_unstacked[:,  2:length(column_names_ru)];\n",
    "rating_matrix = convert(Matrix, ratings_matrix)\n"
   ]
  }
 ],
 "metadata": {
  "kernel_info": {
   "name": "julia-1.3"
  },
  "kernelspec": {
   "display_name": "Julia 1.3.0",
   "language": "julia",
   "name": "julia-1.3"
  },
  "language_info": {
   "file_extension": ".jl",
   "mimetype": "application/julia",
   "name": "julia",
   "version": "1.3.0"
  },
  "nteract": {
   "version": "0.23.1"
  }
 },
 "nbformat": 4,
 "nbformat_minor": 1
}
