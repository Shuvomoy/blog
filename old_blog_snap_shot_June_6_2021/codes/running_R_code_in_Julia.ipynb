{
 "cells": [
  {
   "cell_type": "markdown",
   "metadata": {
    "nteract": {
     "transient": {
      "deleting": false
     }
    }
   },
   "source": [
    "In this blog, we will show how to run `R` code in `Julia` using the package `RCall`. The jupyter notebook for this blog can be found [here](https://raw.githubusercontent.com/Shuvomoy/blog/gh-pages/codes/running_R_code_in_Julia.ipynb)\n",
    "\n",
    "`R` has many convenient packages for statistics and data processing, so `RCall` gives us the flexibility of doing our data processing part in `R` without leaving the `Julia` environment. Then we can do the computation extensive part in `Julia`."
   ]
  },
  {
   "cell_type": "markdown",
   "metadata": {
    "nteract": {
     "transient": {
      "deleting": false
     }
    }
   },
   "source": [
    "**Install the `RCall` package.**\n",
    "\n",
    "We install the package `RCall` first in Julia. I am assuming that we have already installed `R` by following the instructions from this link [https://www.r-project.org/](https://www.r-project.org/)."
   ]
  },
  {
   "cell_type": "code",
   "execution_count": 1,
   "metadata": {
    "execution": {
     "iopub.execute_input": "2020-09-16T15:50:41.104Z",
     "iopub.status.busy": "2020-09-16T15:50:41.099Z",
     "iopub.status.idle": "2020-09-16T15:52:44.510Z"
    },
    "jupyter": {
     "outputs_hidden": false,
     "source_hidden": false
    },
    "nteract": {
     "transient": {
      "deleting": false
     }
    }
   },
   "outputs": [],
   "source": [
    "# using Pkg  # Uncomment these two lines \n",
    "# Pkg.add(\"RCall\") # if the RCall package is not installed"
   ]
  },
  {
   "cell_type": "code",
   "execution_count": 2,
   "metadata": {
    "execution": {
     "iopub.execute_input": "2020-09-16T15:52:44.531Z",
     "iopub.status.busy": "2020-09-16T15:52:44.523Z",
     "iopub.status.idle": "2020-09-16T15:52:59.189Z"
    },
    "jupyter": {
     "outputs_hidden": false,
     "source_hidden": false
    },
    "nteract": {
     "transient": {
      "deleting": false
     }
    }
   },
   "outputs": [],
   "source": [
    "using RCall"
   ]
  },
  {
   "cell_type": "markdown",
   "metadata": {
    "nteract": {
     "transient": {
      "deleting": false
     }
    }
   },
   "source": [
    "**The macro to run `R` code in `Julia`**\n",
    "\n",
    "Any `R` code (it can be a large chuck of code) can be run in `Julia` using the macro \n",
    "  \n",
    "  ```\n",
    "  R\"\"\"\n",
    "  code\n",
    "  goes\n",
    "  here\n",
    "  \"\"\"\n",
    "  ```\n",
    "  \n",
    "  Best to understand it through example. We will run a a simple factor analysis model in `R` from `Julia`.\n",
    "  \n",
    "  First, we download a dataset in `R` from `Julia` for doing factor analysis. "
   ]
  },
  {
   "cell_type": "code",
   "execution_count": 3,
   "metadata": {
    "execution": {
     "iopub.execute_input": "2020-09-16T15:52:59.583Z",
     "iopub.status.busy": "2020-09-16T15:52:59.200Z",
     "iopub.status.idle": "2020-09-16T15:53:02.198Z"
    },
    "jupyter": {
     "outputs_hidden": false,
     "source_hidden": false
    },
    "nteract": {
     "transient": {
      "deleting": false
     }
    }
   },
   "outputs": [
    {
     "data": {
      "text/plain": [
       "RObject{VecSxp}\n",
       "      Oil Density Crispy Fracture Hardness\n",
       "B110 16.5    2955     10       23       97\n",
       "B136 17.7    2660     14        9      139\n",
       "B171 16.2    2870     12       17      143\n",
       "B192 16.7    2920     10       31       95\n",
       "B225 16.3    2975     11       26      143\n",
       "B237 19.1    2790     13       16      189\n",
       "B261 18.4    2750     13       17      114\n",
       "B264 17.5    2770     10       26       63\n",
       "B353 15.7    2955     11       23      123\n",
       "B360 16.4    2945     11       24      132\n",
       "B366 18.0    2830     12       15      121\n",
       "B377 17.4    2835     12       18      172\n",
       "B391 18.4    2860     14       11      170\n",
       "B397 13.9    2965     12       19      169\n",
       "B404 15.8    2930      9       26       65\n",
       "B437 16.4    2770     15       16      183\n",
       "B445 18.9    2650     14       20      114\n",
       "B462 17.3    2890     12       17      142\n",
       "B485 16.7    2695     13       13      111\n",
       "B488 19.1    2755     14       10      140\n",
       "B502 13.7    3000     10       27      177\n",
       "B554 14.7    2980     10       20      133\n",
       "B556 18.1    2780     13       14      150\n",
       "B575 17.2    2705      8       27      113\n",
       "B576 18.7    2825     13       20      166\n",
       "B605 18.1    2875     12       15      150\n",
       "B612 16.6    2945     10       25      100\n",
       "B615 17.1    2920     10       25      123\n",
       "B649 17.4    2845     13       19      129\n",
       "B665 19.4    2645     12       18       68\n",
       "B674 15.9    3080     10       23      106\n",
       "B692 17.1    2825     10       28      131\n",
       "B694 15.5    3125      7       33       92\n",
       "B719 17.7    2780     13       22      141\n",
       "B727 15.9    2900     12       21      192\n",
       "B758 21.2    2570     14       13      105\n",
       "B776 19.5    2635     13       22      101\n",
       "B799 20.5    2725     14       16      145\n",
       "B836 17.0    2865     11       22      100\n",
       "B848 16.7    2975     10       26      105\n",
       "B861 16.8    2980     10       24      144\n",
       "B869 16.8    2870     12       20      123\n",
       "B876 16.3    2920     11       22      136\n",
       "B882 16.2    3100      8       27      140\n",
       "B889 18.1    2910     12       21      120\n",
       "B907 16.6    2865     11       25      120\n",
       "B911 16.4    2995     12       20      165\n",
       "B923 15.1    2925     10       29      118\n",
       "B971 21.1    2700     13       16      116\n",
       "B998 16.3    2845     10       26       75\n"
      ]
     },
     "execution_count": 3,
     "metadata": {},
     "output_type": "execute_result"
    }
   ],
   "source": [
    "## Download dataset from R\n",
    "R\"\"\"\n",
    "food <- read.csv(\"https://userpage.fu-berlin.de/soga/300/30100_data_sets/food-texture.csv\",\n",
    "                 row.names = \"X\")\n",
    "\"\"\""
   ]
  },
  {
   "cell_type": "markdown",
   "metadata": {
    "nteract": {
     "transient": {
      "deleting": false
     }
    }
   },
   "source": [
    "We can bring back `food` from the `R` environment to the `Julia` environment using `@rget` macro. The copied variable will have the same name as the original."
   ]
  },
  {
   "cell_type": "code",
   "execution_count": 4,
   "metadata": {
    "execution": {
     "iopub.execute_input": "2020-09-16T15:53:02.218Z",
     "iopub.status.busy": "2020-09-16T15:53:02.210Z",
     "iopub.status.idle": "2020-09-16T15:53:05.921Z"
    },
    "jupyter": {
     "outputs_hidden": false,
     "source_hidden": false
    },
    "nteract": {
     "transient": {
      "deleting": false
     }
    }
   },
   "outputs": [
    {
     "data": {
      "text/html": [
       "<table class=\"data-frame\"><thead><tr><th></th><th>Oil</th><th>Density</th><th>Crispy</th><th>Fracture</th><th>Hardness</th></tr><tr><th></th><th>Float64</th><th>Int64</th><th>Int64</th><th>Int64</th><th>Int64</th></tr></thead><tbody><p>50 rows × 5 columns</p><tr><th>1</th><td>16.5</td><td>2955</td><td>10</td><td>23</td><td>97</td></tr><tr><th>2</th><td>17.7</td><td>2660</td><td>14</td><td>9</td><td>139</td></tr><tr><th>3</th><td>16.2</td><td>2870</td><td>12</td><td>17</td><td>143</td></tr><tr><th>4</th><td>16.7</td><td>2920</td><td>10</td><td>31</td><td>95</td></tr><tr><th>5</th><td>16.3</td><td>2975</td><td>11</td><td>26</td><td>143</td></tr><tr><th>6</th><td>19.1</td><td>2790</td><td>13</td><td>16</td><td>189</td></tr><tr><th>7</th><td>18.4</td><td>2750</td><td>13</td><td>17</td><td>114</td></tr><tr><th>8</th><td>17.5</td><td>2770</td><td>10</td><td>26</td><td>63</td></tr><tr><th>9</th><td>15.7</td><td>2955</td><td>11</td><td>23</td><td>123</td></tr><tr><th>10</th><td>16.4</td><td>2945</td><td>11</td><td>24</td><td>132</td></tr><tr><th>11</th><td>18.0</td><td>2830</td><td>12</td><td>15</td><td>121</td></tr><tr><th>12</th><td>17.4</td><td>2835</td><td>12</td><td>18</td><td>172</td></tr><tr><th>13</th><td>18.4</td><td>2860</td><td>14</td><td>11</td><td>170</td></tr><tr><th>14</th><td>13.9</td><td>2965</td><td>12</td><td>19</td><td>169</td></tr><tr><th>15</th><td>15.8</td><td>2930</td><td>9</td><td>26</td><td>65</td></tr><tr><th>16</th><td>16.4</td><td>2770</td><td>15</td><td>16</td><td>183</td></tr><tr><th>17</th><td>18.9</td><td>2650</td><td>14</td><td>20</td><td>114</td></tr><tr><th>18</th><td>17.3</td><td>2890</td><td>12</td><td>17</td><td>142</td></tr><tr><th>19</th><td>16.7</td><td>2695</td><td>13</td><td>13</td><td>111</td></tr><tr><th>20</th><td>19.1</td><td>2755</td><td>14</td><td>10</td><td>140</td></tr><tr><th>21</th><td>13.7</td><td>3000</td><td>10</td><td>27</td><td>177</td></tr><tr><th>22</th><td>14.7</td><td>2980</td><td>10</td><td>20</td><td>133</td></tr><tr><th>23</th><td>18.1</td><td>2780</td><td>13</td><td>14</td><td>150</td></tr><tr><th>24</th><td>17.2</td><td>2705</td><td>8</td><td>27</td><td>113</td></tr><tr><th>25</th><td>18.7</td><td>2825</td><td>13</td><td>20</td><td>166</td></tr><tr><th>26</th><td>18.1</td><td>2875</td><td>12</td><td>15</td><td>150</td></tr><tr><th>27</th><td>16.6</td><td>2945</td><td>10</td><td>25</td><td>100</td></tr><tr><th>28</th><td>17.1</td><td>2920</td><td>10</td><td>25</td><td>123</td></tr><tr><th>29</th><td>17.4</td><td>2845</td><td>13</td><td>19</td><td>129</td></tr><tr><th>30</th><td>19.4</td><td>2645</td><td>12</td><td>18</td><td>68</td></tr><tr><th>&vellip;</th><td>&vellip;</td><td>&vellip;</td><td>&vellip;</td><td>&vellip;</td><td>&vellip;</td></tr></tbody></table>"
      ],
      "text/latex": [
       "\\begin{tabular}{r|ccccc}\n",
       "\t& Oil & Density & Crispy & Fracture & Hardness\\\\\n",
       "\t\\hline\n",
       "\t& Float64 & Int64 & Int64 & Int64 & Int64\\\\\n",
       "\t\\hline\n",
       "\t1 & 16.5 & 2955 & 10 & 23 & 97 \\\\\n",
       "\t2 & 17.7 & 2660 & 14 & 9 & 139 \\\\\n",
       "\t3 & 16.2 & 2870 & 12 & 17 & 143 \\\\\n",
       "\t4 & 16.7 & 2920 & 10 & 31 & 95 \\\\\n",
       "\t5 & 16.3 & 2975 & 11 & 26 & 143 \\\\\n",
       "\t6 & 19.1 & 2790 & 13 & 16 & 189 \\\\\n",
       "\t7 & 18.4 & 2750 & 13 & 17 & 114 \\\\\n",
       "\t8 & 17.5 & 2770 & 10 & 26 & 63 \\\\\n",
       "\t9 & 15.7 & 2955 & 11 & 23 & 123 \\\\\n",
       "\t10 & 16.4 & 2945 & 11 & 24 & 132 \\\\\n",
       "\t11 & 18.0 & 2830 & 12 & 15 & 121 \\\\\n",
       "\t12 & 17.4 & 2835 & 12 & 18 & 172 \\\\\n",
       "\t13 & 18.4 & 2860 & 14 & 11 & 170 \\\\\n",
       "\t14 & 13.9 & 2965 & 12 & 19 & 169 \\\\\n",
       "\t15 & 15.8 & 2930 & 9 & 26 & 65 \\\\\n",
       "\t16 & 16.4 & 2770 & 15 & 16 & 183 \\\\\n",
       "\t17 & 18.9 & 2650 & 14 & 20 & 114 \\\\\n",
       "\t18 & 17.3 & 2890 & 12 & 17 & 142 \\\\\n",
       "\t19 & 16.7 & 2695 & 13 & 13 & 111 \\\\\n",
       "\t20 & 19.1 & 2755 & 14 & 10 & 140 \\\\\n",
       "\t21 & 13.7 & 3000 & 10 & 27 & 177 \\\\\n",
       "\t22 & 14.7 & 2980 & 10 & 20 & 133 \\\\\n",
       "\t23 & 18.1 & 2780 & 13 & 14 & 150 \\\\\n",
       "\t24 & 17.2 & 2705 & 8 & 27 & 113 \\\\\n",
       "\t25 & 18.7 & 2825 & 13 & 20 & 166 \\\\\n",
       "\t26 & 18.1 & 2875 & 12 & 15 & 150 \\\\\n",
       "\t27 & 16.6 & 2945 & 10 & 25 & 100 \\\\\n",
       "\t28 & 17.1 & 2920 & 10 & 25 & 123 \\\\\n",
       "\t29 & 17.4 & 2845 & 13 & 19 & 129 \\\\\n",
       "\t30 & 19.4 & 2645 & 12 & 18 & 68 \\\\\n",
       "\t$\\dots$ & $\\dots$ & $\\dots$ & $\\dots$ & $\\dots$ & $\\dots$ \\\\\n",
       "\\end{tabular}\n"
      ],
      "text/plain": [
       "50×5 DataFrame\n",
       "│ Row │ Oil     │ Density │ Crispy │ Fracture │ Hardness │\n",
       "│     │ \u001b[90mFloat64\u001b[39m │ \u001b[90mInt64\u001b[39m   │ \u001b[90mInt64\u001b[39m  │ \u001b[90mInt64\u001b[39m    │ \u001b[90mInt64\u001b[39m    │\n",
       "├─────┼─────────┼─────────┼────────┼──────────┼──────────┤\n",
       "│ 1   │ 16.5    │ 2955    │ 10     │ 23       │ 97       │\n",
       "│ 2   │ 17.7    │ 2660    │ 14     │ 9        │ 139      │\n",
       "│ 3   │ 16.2    │ 2870    │ 12     │ 17       │ 143      │\n",
       "│ 4   │ 16.7    │ 2920    │ 10     │ 31       │ 95       │\n",
       "│ 5   │ 16.3    │ 2975    │ 11     │ 26       │ 143      │\n",
       "│ 6   │ 19.1    │ 2790    │ 13     │ 16       │ 189      │\n",
       "│ 7   │ 18.4    │ 2750    │ 13     │ 17       │ 114      │\n",
       "│ 8   │ 17.5    │ 2770    │ 10     │ 26       │ 63       │\n",
       "│ 9   │ 15.7    │ 2955    │ 11     │ 23       │ 123      │\n",
       "│ 10  │ 16.4    │ 2945    │ 11     │ 24       │ 132      │\n",
       "⋮\n",
       "│ 40  │ 16.7    │ 2975    │ 10     │ 26       │ 105      │\n",
       "│ 41  │ 16.8    │ 2980    │ 10     │ 24       │ 144      │\n",
       "│ 42  │ 16.8    │ 2870    │ 12     │ 20       │ 123      │\n",
       "│ 43  │ 16.3    │ 2920    │ 11     │ 22       │ 136      │\n",
       "│ 44  │ 16.2    │ 3100    │ 8      │ 27       │ 140      │\n",
       "│ 45  │ 18.1    │ 2910    │ 12     │ 21       │ 120      │\n",
       "│ 46  │ 16.6    │ 2865    │ 11     │ 25       │ 120      │\n",
       "│ 47  │ 16.4    │ 2995    │ 12     │ 20       │ 165      │\n",
       "│ 48  │ 15.1    │ 2925    │ 10     │ 29       │ 118      │\n",
       "│ 49  │ 21.1    │ 2700    │ 13     │ 16       │ 116      │\n",
       "│ 50  │ 16.3    │ 2845    │ 10     │ 26       │ 75       │"
      ]
     },
     "execution_count": 4,
     "metadata": {},
     "output_type": "execute_result"
    }
   ],
   "source": [
    "@rget food"
   ]
  },
  {
   "cell_type": "markdown",
   "metadata": {
    "nteract": {
     "transient": {
      "deleting": false
     }
    }
   },
   "source": [
    "Let us continue running our code in `R` environment. First, let us take a look at the correlation matrix of `food`."
   ]
  },
  {
   "cell_type": "code",
   "execution_count": 5,
   "metadata": {
    "execution": {
     "iopub.execute_input": "2020-09-16T15:53:05.973Z",
     "iopub.status.busy": "2020-09-16T15:53:05.951Z",
     "iopub.status.idle": "2020-09-16T15:53:06.359Z"
    },
    "jupyter": {
     "outputs_hidden": false,
     "source_hidden": false
    },
    "nteract": {
     "transient": {
      "deleting": false
     }
    }
   },
   "outputs": [
    {
     "data": {
      "text/plain": [
       "RObject{RealSxp}\n",
       "                 Oil    Density     Crispy   Fracture    Hardness\n",
       "Oil       1.00000000 -0.7500240  0.5930863 -0.5337392 -0.09604521\n",
       "Density  -0.75002399  1.0000000 -0.6709460  0.5721324  0.10793720\n",
       "Crispy    0.59308631 -0.6709460  1.0000000 -0.8439650  0.41109340\n",
       "Fracture -0.53373917  0.5721324 -0.8439650  1.0000000 -0.37335844\n",
       "Hardness -0.09604521  0.1079372  0.4110934 -0.3733584  1.00000000\n"
      ]
     },
     "execution_count": 5,
     "metadata": {},
     "output_type": "execute_result"
    }
   ],
   "source": [
    "R\"\"\"\n",
    "Sigma <- cor(food)\n",
    "\"\"\""
   ]
  },
  {
   "cell_type": "markdown",
   "metadata": {
    "nteract": {
     "transient": {
      "deleting": false
     }
    }
   },
   "source": [
    "Now run the factor analysis from `R` using the `factanal` function."
   ]
  },
  {
   "cell_type": "code",
   "execution_count": 6,
   "metadata": {
    "execution": {
     "iopub.execute_input": "2020-09-16T15:53:06.392Z",
     "iopub.status.busy": "2020-09-16T15:53:06.379Z",
     "iopub.status.idle": "2020-09-16T15:53:06.413Z"
    },
    "jupyter": {
     "outputs_hidden": false,
     "source_hidden": false
    },
    "nteract": {
     "transient": {
      "deleting": false
     }
    }
   },
   "outputs": [
    {
     "data": {
      "text/plain": [
       "RObject{VecSxp}\n",
       "\n",
       "Call:\n",
       "factanal(factors = 2, covmat = Sigma)\n",
       "\n",
       "Uniquenesses:\n",
       "     Oil  Density   Crispy Fracture Hardness \n",
       "   0.334    0.156    0.042    0.256    0.407 \n",
       "\n",
       "Loadings:\n",
       "         Factor1 Factor2\n",
       "Oil      -0.816         \n",
       "Density   0.919         \n",
       "Crispy   -0.745   0.635 \n",
       "Fracture  0.645  -0.573 \n",
       "Hardness          0.764 \n",
       "\n",
       "               Factor1 Factor2\n",
       "SS loadings      2.490   1.316\n",
       "Proportion Var   0.498   0.263\n",
       "Cumulative Var   0.498   0.761\n",
       "\n",
       "The degrees of freedom for the model is 1 and the fit was 0.006 \n"
      ]
     },
     "execution_count": 6,
     "metadata": {},
     "output_type": "execute_result"
    }
   ],
   "source": [
    "R\"\"\"\n",
    "food_fa <- factanal(covmat = Sigma, factors = 2)\n",
    "\"\"\""
   ]
  },
  {
   "cell_type": "markdown",
   "metadata": {
    "nteract": {
     "transient": {
      "deleting": false
     }
    }
   },
   "source": [
    "As we can see in the output above, the `R` object `food_fa` has two chunks: `Uniquenesses`, `Loadings`. We can take a look at them from `R` using the following command."
   ]
  },
  {
   "cell_type": "code",
   "execution_count": 7,
   "metadata": {
    "execution": {
     "iopub.execute_input": "2020-09-16T15:53:06.437Z",
     "iopub.status.busy": "2020-09-16T15:53:06.428Z",
     "iopub.status.idle": "2020-09-16T15:53:06.459Z"
    },
    "jupyter": {
     "outputs_hidden": false,
     "source_hidden": false
    },
    "nteract": {
     "transient": {
      "deleting": false
     }
    }
   },
   "outputs": [
    {
     "data": {
      "text/plain": [
       "RObject{RealSxp}\n",
       "          [,1]      [,2]      [,3]      [,4]      [,5]\n",
       "[1,] 0.3338599 0.0000000 0.0000000 0.0000000 0.0000000\n",
       "[2,] 0.0000000 0.1555255 0.0000000 0.0000000 0.0000000\n",
       "[3,] 0.0000000 0.0000000 0.0422238 0.0000000 0.0000000\n",
       "[4,] 0.0000000 0.0000000 0.0000000 0.2560235 0.0000000\n",
       "[5,] 0.0000000 0.0000000 0.0000000 0.0000000 0.4069459\n"
      ]
     },
     "execution_count": 7,
     "metadata": {},
     "output_type": "execute_result"
    }
   ],
   "source": [
    "R\"\"\"\n",
    "Lambda <- food_fa$loadings\n",
    "D <- diag(food_fa$uniquenesses)\n",
    "\"\"\""
   ]
  },
  {
   "cell_type": "markdown",
   "metadata": {
    "nteract": {
     "transient": {
      "deleting": false
     }
    }
   },
   "source": [
    "Now we can bring back the variables: `Lambda`, `D` and `Sigma` in `Julia` using `@rget`, and perform residual analysis. "
   ]
  },
  {
   "cell_type": "code",
   "execution_count": 8,
   "metadata": {
    "execution": {
     "iopub.execute_input": "2020-09-16T15:53:06.484Z",
     "iopub.status.busy": "2020-09-16T15:53:06.474Z",
     "iopub.status.idle": "2020-09-16T15:53:07.433Z"
    },
    "jupyter": {
     "outputs_hidden": false,
     "source_hidden": false
    },
    "nteract": {
     "transient": {
      "deleting": false
     }
    }
   },
   "outputs": [
    {
     "data": {
      "text/plain": [
       "5×5 Array{Float64,2}:\n",
       "  1.0        -0.750024   0.593086  -0.533739  -0.0960452\n",
       " -0.750024    1.0       -0.670946   0.572132   0.107937\n",
       "  0.593086   -0.670946   1.0       -0.843965   0.411093\n",
       " -0.533739    0.572132  -0.843965   1.0       -0.373358\n",
       " -0.0960452   0.107937   0.411093  -0.373358   1.0"
      ]
     },
     "execution_count": 8,
     "metadata": {},
     "output_type": "execute_result"
    }
   ],
   "source": [
    "@rget Lambda\n",
    "@rget D\n",
    "@rget Sigma"
   ]
  },
  {
   "cell_type": "markdown",
   "metadata": {
    "nteract": {
     "transient": {
      "deleting": false
     }
    }
   },
   "source": [
    "Now let us compare how good the residue is."
   ]
  },
  {
   "cell_type": "code",
   "execution_count": 9,
   "metadata": {
    "execution": {
     "iopub.execute_input": "2020-09-16T15:53:07.449Z",
     "iopub.status.busy": "2020-09-16T15:53:07.443Z",
     "iopub.status.idle": "2020-09-16T15:53:08.542Z"
    },
    "jupyter": {
     "outputs_hidden": false,
     "source_hidden": false
    },
    "nteract": {
     "transient": {
      "deleting": false
     }
    }
   },
   "outputs": [
    {
     "data": {
      "text/plain": [
       "5×5 Array{Float64,2}:\n",
       "  1.0        -0.750025   0.595699  -0.515519  -0.0952689\n",
       " -0.750025    1.0       -0.669865   0.579672   0.108257\n",
       "  0.595699   -0.669865   1.0       -0.843965   0.411088\n",
       " -0.515519    0.579672  -0.843965   1.0       -0.373391\n",
       " -0.0952689   0.108257   0.411088  -0.373391   1.0"
      ]
     },
     "execution_count": 9,
     "metadata": {},
     "output_type": "execute_result"
    }
   ],
   "source": [
    "X = Lambda*Lambda'\n",
    "Sigma_fa = X + D"
   ]
  },
  {
   "cell_type": "code",
   "execution_count": 10,
   "metadata": {
    "execution": {
     "iopub.execute_input": "2020-09-16T15:53:08.570Z",
     "iopub.status.busy": "2020-09-16T15:53:08.554Z",
     "iopub.status.idle": "2020-09-16T15:53:08.712Z"
    },
    "jupyter": {
     "outputs_hidden": false,
     "source_hidden": false
    },
    "nteract": {
     "transient": {
      "deleting": false
     }
    }
   },
   "outputs": [
    {
     "data": {
      "text/plain": [
       "5×5 Array{Float64,2}:\n",
       " -3.32556e-7   -6.08148e-7    0.00261311   0.0182198    0.000776357\n",
       " -6.08148e-7   -3.0673e-8     0.00108144   0.00753941   0.000320227\n",
       "  0.00261311    0.00108144   -1.18922e-9  -1.25235e-7  -4.98666e-6\n",
       "  0.0182198     0.00753941   -1.25235e-7   1.37223e-7  -3.25606e-5\n",
       "  0.000776357   0.000320227  -4.98666e-6  -3.25606e-5  -2.06679e-7"
      ]
     },
     "execution_count": 10,
     "metadata": {},
     "output_type": "execute_result"
    }
   ],
   "source": [
    "Sigma_fa - Sigma"
   ]
  },
  {
   "cell_type": "markdown",
   "metadata": {
    "nteract": {
     "transient": {
      "deleting": false
     }
    }
   },
   "source": [
    "**Taking objects from `Julia` to `R`**\n",
    "\n",
    "What if we want to do the opposite, where we have an object in `Julia` that we want to move to `R` environment and run statistical analysis on `R`? We can do that using `@rput` macro. A simple example is as follows, where we take a `Julia` matrix `X` to `R` environment and find its svd. Of course, doing svd on `Julia` will be faster, so we do not want to do that in practice; this is just for illustration."
   ]
  },
  {
   "cell_type": "code",
   "execution_count": 11,
   "metadata": {
    "execution": {
     "iopub.execute_input": "2020-09-16T15:53:08.742Z",
     "iopub.status.busy": "2020-09-16T15:53:08.731Z",
     "iopub.status.idle": "2020-09-16T15:53:08.893Z"
    },
    "jupyter": {
     "outputs_hidden": false,
     "source_hidden": false
    },
    "nteract": {
     "transient": {
      "deleting": false
     }
    }
   },
   "outputs": [
    {
     "data": {
      "text/plain": [
       "5×5 Array{Float64,2}:\n",
       "  0.66614    -0.750025   0.595699  -0.515519  -0.0952689\n",
       " -0.750025    0.844474  -0.669865   0.579672   0.108257\n",
       "  0.595699   -0.669865   0.957776  -0.843965   0.411088\n",
       " -0.515519    0.579672  -0.843965   0.743977  -0.373391\n",
       " -0.0952689   0.108257   0.411088  -0.373391   0.593054"
      ]
     },
     "execution_count": 11,
     "metadata": {},
     "output_type": "execute_result"
    }
   ],
   "source": [
    "@rput X"
   ]
  },
  {
   "cell_type": "code",
   "execution_count": 12,
   "metadata": {
    "execution": {
     "iopub.execute_input": "2020-09-16T15:53:08.916Z",
     "iopub.status.busy": "2020-09-16T15:53:08.907Z",
     "iopub.status.idle": "2020-09-16T15:53:08.961Z"
    },
    "jupyter": {
     "outputs_hidden": false,
     "source_hidden": false
    },
    "nteract": {
     "transient": {
      "deleting": false
     }
    }
   },
   "outputs": [
    {
     "data": {
      "text/plain": [
       "RObject{VecSxp}\n",
       "$d\n",
       "[1] 2.840147e+00 9.652738e-01 1.835730e-16 6.889660e-17 5.316257e-17\n",
       "\n",
       "$u\n",
       "           [,1]       [,2]        [,3]       [,4]        [,5]\n",
       "[1,] -0.4318280  0.3760766  0.57192547 -0.2534798 -0.52984927\n",
       "[2,]  0.4858567 -0.4246170 -0.06708423 -0.5805591 -0.49203098\n",
       "[3,] -0.5613017 -0.2553929 -0.13261665 -0.6397742  0.43910886\n",
       "[4,]  0.4919747  0.2420423  0.57970383 -0.2832291  0.53207255\n",
       "[5,] -0.1427205 -0.7446186  0.56103230  0.3304079  0.03531956\n",
       "\n",
       "$v\n",
       "           [,1]       [,2]        [,3]        [,4]       [,5]\n",
       "[1,] -0.4318280  0.3760766  0.24156539 -0.77208923 -0.1327229\n",
       "[2,]  0.4858567 -0.4246170  0.65568309 -0.31382198  0.2350299\n",
       "[3,] -0.5613017 -0.2553929  0.57315684  0.42583932 -0.3314618\n",
       "[4,]  0.4919747  0.2420423  0.09751987  0.01599846 -0.8304278\n",
       "[5,] -0.1427205 -0.7446186 -0.41678166 -0.35185069 -0.3573069\n",
       "\n"
      ]
     },
     "execution_count": 12,
     "metadata": {},
     "output_type": "execute_result"
    }
   ],
   "source": [
    "R\"\"\"\n",
    "X_svd <- svd(X)\n",
    "\"\"\""
   ]
  },
  {
   "cell_type": "code",
   "execution_count": 13,
   "metadata": {},
   "outputs": [
    {
     "data": {
      "text/plain": [
       "OrderedCollections.OrderedDict{Symbol,Any} with 3 entries:\n",
       "  :d => [2.84015, 0.965274, 1.83573e-16, 6.88966e-17, 5.31626e-17]\n",
       "  :u => [-0.431828 0.376077 … -0.25348 -0.529849; 0.485857 -0.424617 … -0.58055…\n",
       "  :v => [-0.431828 0.376077 … -0.772089 -0.132723; 0.485857 -0.424617 … -0.3138…"
      ]
     },
     "execution_count": 13,
     "metadata": {},
     "output_type": "execute_result"
    }
   ],
   "source": [
    "@rget X_svd"
   ]
  }
 ],
 "metadata": {
  "kernel_info": {
   "name": "julia-1.5"
  },
  "kernelspec": {
   "display_name": "Julia 1.5.0",
   "language": "julia",
   "name": "julia-1.5"
  },
  "language_info": {
   "file_extension": ".jl",
   "mimetype": "application/julia",
   "name": "julia",
   "version": "1.5.0"
  },
  "nteract": {
   "version": "0.25.0"
  }
 },
 "nbformat": 4,
 "nbformat_minor": 1
}
