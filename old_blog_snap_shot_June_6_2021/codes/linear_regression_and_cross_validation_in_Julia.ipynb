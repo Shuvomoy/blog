{
 "cells": [
  {
   "cell_type": "markdown",
   "metadata": {},
   "source": [
    "In this blog, we will implement ```k-fold``` cross-validation for a linear regression model in Julia. I have taken the datasets from the ``ISLR`` datasets, which is part of the ``RDatasets`` package. To know more about cross-validation techniques, please read Chapter 5 of \"An Introduction to Statistical Learning\" by James et al. Other types of validation techniques such as LOOCV, validation set approach etc. can be implemented similarly.\n",
    "\n",
    "We start by loading the necessary packages. "
   ]
  },
  {
   "cell_type": "code",
   "execution_count": 1,
   "metadata": {},
   "outputs": [],
   "source": [
    "# first we load the necessary packages\n",
    "\n",
    "using RDatasets, DataFrames, Random, LinearAlgebra, MultivariateStats, Statistics"
   ]
  },
  {
   "cell_type": "markdown",
   "metadata": {},
   "source": [
    "Let us load the ``Auto`` dataset from ``ISLR`` datasets, and observe what are the quantities in the dataframe."
   ]
  },
  {
   "cell_type": "code",
   "execution_count": 2,
   "metadata": {},
   "outputs": [
    {
     "data": {
      "text/html": [
       "<table class=\"data-frame\"><thead><tr><th></th><th>MPG</th><th>Cylinders</th><th>Displacement</th><th>Horsepower</th><th>Weight</th><th>Acceleration</th><th>Year</th><th>Origin</th></tr><tr><th></th><th>Float64</th><th>Float64</th><th>Float64</th><th>Float64</th><th>Float64</th><th>Float64</th><th>Float64</th><th>Float64</th></tr></thead><tbody><p>392 rows × 9 columns (omitted printing of 1 columns)</p><tr><th>1</th><td>18.0</td><td>8.0</td><td>307.0</td><td>130.0</td><td>3504.0</td><td>12.0</td><td>70.0</td><td>1.0</td></tr><tr><th>2</th><td>15.0</td><td>8.0</td><td>350.0</td><td>165.0</td><td>3693.0</td><td>11.5</td><td>70.0</td><td>1.0</td></tr><tr><th>3</th><td>18.0</td><td>8.0</td><td>318.0</td><td>150.0</td><td>3436.0</td><td>11.0</td><td>70.0</td><td>1.0</td></tr><tr><th>4</th><td>16.0</td><td>8.0</td><td>304.0</td><td>150.0</td><td>3433.0</td><td>12.0</td><td>70.0</td><td>1.0</td></tr><tr><th>5</th><td>17.0</td><td>8.0</td><td>302.0</td><td>140.0</td><td>3449.0</td><td>10.5</td><td>70.0</td><td>1.0</td></tr><tr><th>6</th><td>15.0</td><td>8.0</td><td>429.0</td><td>198.0</td><td>4341.0</td><td>10.0</td><td>70.0</td><td>1.0</td></tr><tr><th>7</th><td>14.0</td><td>8.0</td><td>454.0</td><td>220.0</td><td>4354.0</td><td>9.0</td><td>70.0</td><td>1.0</td></tr><tr><th>8</th><td>14.0</td><td>8.0</td><td>440.0</td><td>215.0</td><td>4312.0</td><td>8.5</td><td>70.0</td><td>1.0</td></tr><tr><th>9</th><td>14.0</td><td>8.0</td><td>455.0</td><td>225.0</td><td>4425.0</td><td>10.0</td><td>70.0</td><td>1.0</td></tr><tr><th>10</th><td>15.0</td><td>8.0</td><td>390.0</td><td>190.0</td><td>3850.0</td><td>8.5</td><td>70.0</td><td>1.0</td></tr><tr><th>11</th><td>15.0</td><td>8.0</td><td>383.0</td><td>170.0</td><td>3563.0</td><td>10.0</td><td>70.0</td><td>1.0</td></tr><tr><th>12</th><td>14.0</td><td>8.0</td><td>340.0</td><td>160.0</td><td>3609.0</td><td>8.0</td><td>70.0</td><td>1.0</td></tr><tr><th>13</th><td>15.0</td><td>8.0</td><td>400.0</td><td>150.0</td><td>3761.0</td><td>9.5</td><td>70.0</td><td>1.0</td></tr><tr><th>14</th><td>14.0</td><td>8.0</td><td>455.0</td><td>225.0</td><td>3086.0</td><td>10.0</td><td>70.0</td><td>1.0</td></tr><tr><th>15</th><td>24.0</td><td>4.0</td><td>113.0</td><td>95.0</td><td>2372.0</td><td>15.0</td><td>70.0</td><td>3.0</td></tr><tr><th>16</th><td>22.0</td><td>6.0</td><td>198.0</td><td>95.0</td><td>2833.0</td><td>15.5</td><td>70.0</td><td>1.0</td></tr><tr><th>17</th><td>18.0</td><td>6.0</td><td>199.0</td><td>97.0</td><td>2774.0</td><td>15.5</td><td>70.0</td><td>1.0</td></tr><tr><th>18</th><td>21.0</td><td>6.0</td><td>200.0</td><td>85.0</td><td>2587.0</td><td>16.0</td><td>70.0</td><td>1.0</td></tr><tr><th>19</th><td>27.0</td><td>4.0</td><td>97.0</td><td>88.0</td><td>2130.0</td><td>14.5</td><td>70.0</td><td>3.0</td></tr><tr><th>20</th><td>26.0</td><td>4.0</td><td>97.0</td><td>46.0</td><td>1835.0</td><td>20.5</td><td>70.0</td><td>2.0</td></tr><tr><th>21</th><td>25.0</td><td>4.0</td><td>110.0</td><td>87.0</td><td>2672.0</td><td>17.5</td><td>70.0</td><td>2.0</td></tr><tr><th>22</th><td>24.0</td><td>4.0</td><td>107.0</td><td>90.0</td><td>2430.0</td><td>14.5</td><td>70.0</td><td>2.0</td></tr><tr><th>23</th><td>25.0</td><td>4.0</td><td>104.0</td><td>95.0</td><td>2375.0</td><td>17.5</td><td>70.0</td><td>2.0</td></tr><tr><th>24</th><td>26.0</td><td>4.0</td><td>121.0</td><td>113.0</td><td>2234.0</td><td>12.5</td><td>70.0</td><td>2.0</td></tr><tr><th>25</th><td>21.0</td><td>6.0</td><td>199.0</td><td>90.0</td><td>2648.0</td><td>15.0</td><td>70.0</td><td>1.0</td></tr><tr><th>26</th><td>10.0</td><td>8.0</td><td>360.0</td><td>215.0</td><td>4615.0</td><td>14.0</td><td>70.0</td><td>1.0</td></tr><tr><th>27</th><td>10.0</td><td>8.0</td><td>307.0</td><td>200.0</td><td>4376.0</td><td>15.0</td><td>70.0</td><td>1.0</td></tr><tr><th>28</th><td>11.0</td><td>8.0</td><td>318.0</td><td>210.0</td><td>4382.0</td><td>13.5</td><td>70.0</td><td>1.0</td></tr><tr><th>29</th><td>9.0</td><td>8.0</td><td>304.0</td><td>193.0</td><td>4732.0</td><td>18.5</td><td>70.0</td><td>1.0</td></tr><tr><th>30</th><td>27.0</td><td>4.0</td><td>97.0</td><td>88.0</td><td>2130.0</td><td>14.5</td><td>71.0</td><td>3.0</td></tr><tr><th>&vellip;</th><td>&vellip;</td><td>&vellip;</td><td>&vellip;</td><td>&vellip;</td><td>&vellip;</td><td>&vellip;</td><td>&vellip;</td><td>&vellip;</td></tr></tbody></table>"
      ],
      "text/latex": [
       "\\begin{tabular}{r|ccccccccc}\n",
       "\t& MPG & Cylinders & Displacement & Horsepower & Weight & Acceleration & Year & Origin & \\\\\n",
       "\t\\hline\n",
       "\t& Float64 & Float64 & Float64 & Float64 & Float64 & Float64 & Float64 & Float64 & \\\\\n",
       "\t\\hline\n",
       "\t1 & 18.0 & 8.0 & 307.0 & 130.0 & 3504.0 & 12.0 & 70.0 & 1.0 & $\\dots$ \\\\\n",
       "\t2 & 15.0 & 8.0 & 350.0 & 165.0 & 3693.0 & 11.5 & 70.0 & 1.0 & $\\dots$ \\\\\n",
       "\t3 & 18.0 & 8.0 & 318.0 & 150.0 & 3436.0 & 11.0 & 70.0 & 1.0 & $\\dots$ \\\\\n",
       "\t4 & 16.0 & 8.0 & 304.0 & 150.0 & 3433.0 & 12.0 & 70.0 & 1.0 & $\\dots$ \\\\\n",
       "\t5 & 17.0 & 8.0 & 302.0 & 140.0 & 3449.0 & 10.5 & 70.0 & 1.0 & $\\dots$ \\\\\n",
       "\t6 & 15.0 & 8.0 & 429.0 & 198.0 & 4341.0 & 10.0 & 70.0 & 1.0 & $\\dots$ \\\\\n",
       "\t7 & 14.0 & 8.0 & 454.0 & 220.0 & 4354.0 & 9.0 & 70.0 & 1.0 & $\\dots$ \\\\\n",
       "\t8 & 14.0 & 8.0 & 440.0 & 215.0 & 4312.0 & 8.5 & 70.0 & 1.0 & $\\dots$ \\\\\n",
       "\t9 & 14.0 & 8.0 & 455.0 & 225.0 & 4425.0 & 10.0 & 70.0 & 1.0 & $\\dots$ \\\\\n",
       "\t10 & 15.0 & 8.0 & 390.0 & 190.0 & 3850.0 & 8.5 & 70.0 & 1.0 & $\\dots$ \\\\\n",
       "\t11 & 15.0 & 8.0 & 383.0 & 170.0 & 3563.0 & 10.0 & 70.0 & 1.0 & $\\dots$ \\\\\n",
       "\t12 & 14.0 & 8.0 & 340.0 & 160.0 & 3609.0 & 8.0 & 70.0 & 1.0 & $\\dots$ \\\\\n",
       "\t13 & 15.0 & 8.0 & 400.0 & 150.0 & 3761.0 & 9.5 & 70.0 & 1.0 & $\\dots$ \\\\\n",
       "\t14 & 14.0 & 8.0 & 455.0 & 225.0 & 3086.0 & 10.0 & 70.0 & 1.0 & $\\dots$ \\\\\n",
       "\t15 & 24.0 & 4.0 & 113.0 & 95.0 & 2372.0 & 15.0 & 70.0 & 3.0 & $\\dots$ \\\\\n",
       "\t16 & 22.0 & 6.0 & 198.0 & 95.0 & 2833.0 & 15.5 & 70.0 & 1.0 & $\\dots$ \\\\\n",
       "\t17 & 18.0 & 6.0 & 199.0 & 97.0 & 2774.0 & 15.5 & 70.0 & 1.0 & $\\dots$ \\\\\n",
       "\t18 & 21.0 & 6.0 & 200.0 & 85.0 & 2587.0 & 16.0 & 70.0 & 1.0 & $\\dots$ \\\\\n",
       "\t19 & 27.0 & 4.0 & 97.0 & 88.0 & 2130.0 & 14.5 & 70.0 & 3.0 & $\\dots$ \\\\\n",
       "\t20 & 26.0 & 4.0 & 97.0 & 46.0 & 1835.0 & 20.5 & 70.0 & 2.0 & $\\dots$ \\\\\n",
       "\t21 & 25.0 & 4.0 & 110.0 & 87.0 & 2672.0 & 17.5 & 70.0 & 2.0 & $\\dots$ \\\\\n",
       "\t22 & 24.0 & 4.0 & 107.0 & 90.0 & 2430.0 & 14.5 & 70.0 & 2.0 & $\\dots$ \\\\\n",
       "\t23 & 25.0 & 4.0 & 104.0 & 95.0 & 2375.0 & 17.5 & 70.0 & 2.0 & $\\dots$ \\\\\n",
       "\t24 & 26.0 & 4.0 & 121.0 & 113.0 & 2234.0 & 12.5 & 70.0 & 2.0 & $\\dots$ \\\\\n",
       "\t25 & 21.0 & 6.0 & 199.0 & 90.0 & 2648.0 & 15.0 & 70.0 & 1.0 & $\\dots$ \\\\\n",
       "\t26 & 10.0 & 8.0 & 360.0 & 215.0 & 4615.0 & 14.0 & 70.0 & 1.0 & $\\dots$ \\\\\n",
       "\t27 & 10.0 & 8.0 & 307.0 & 200.0 & 4376.0 & 15.0 & 70.0 & 1.0 & $\\dots$ \\\\\n",
       "\t28 & 11.0 & 8.0 & 318.0 & 210.0 & 4382.0 & 13.5 & 70.0 & 1.0 & $\\dots$ \\\\\n",
       "\t29 & 9.0 & 8.0 & 304.0 & 193.0 & 4732.0 & 18.5 & 70.0 & 1.0 & $\\dots$ \\\\\n",
       "\t30 & 27.0 & 4.0 & 97.0 & 88.0 & 2130.0 & 14.5 & 71.0 & 3.0 & $\\dots$ \\\\\n",
       "\t$\\dots$ & $\\dots$ & $\\dots$ & $\\dots$ & $\\dots$ & $\\dots$ & $\\dots$ & $\\dots$ & $\\dots$ &  \\\\\n",
       "\\end{tabular}\n"
      ],
      "text/plain": [
       "392×9 DataFrame. Omitted printing of 4 columns\n",
       "│ Row │ MPG     │ Cylinders │ Displacement │ Horsepower │ Weight  │\n",
       "│     │ \u001b[90mFloat64\u001b[39m │ \u001b[90mFloat64\u001b[39m   │ \u001b[90mFloat64\u001b[39m      │ \u001b[90mFloat64\u001b[39m    │ \u001b[90mFloat64\u001b[39m │\n",
       "├─────┼─────────┼───────────┼──────────────┼────────────┼─────────┤\n",
       "│ 1   │ 18.0    │ 8.0       │ 307.0        │ 130.0      │ 3504.0  │\n",
       "│ 2   │ 15.0    │ 8.0       │ 350.0        │ 165.0      │ 3693.0  │\n",
       "│ 3   │ 18.0    │ 8.0       │ 318.0        │ 150.0      │ 3436.0  │\n",
       "│ 4   │ 16.0    │ 8.0       │ 304.0        │ 150.0      │ 3433.0  │\n",
       "│ 5   │ 17.0    │ 8.0       │ 302.0        │ 140.0      │ 3449.0  │\n",
       "│ 6   │ 15.0    │ 8.0       │ 429.0        │ 198.0      │ 4341.0  │\n",
       "│ 7   │ 14.0    │ 8.0       │ 454.0        │ 220.0      │ 4354.0  │\n",
       "│ 8   │ 14.0    │ 8.0       │ 440.0        │ 215.0      │ 4312.0  │\n",
       "│ 9   │ 14.0    │ 8.0       │ 455.0        │ 225.0      │ 4425.0  │\n",
       "│ 10  │ 15.0    │ 8.0       │ 390.0        │ 190.0      │ 3850.0  │\n",
       "⋮\n",
       "│ 382 │ 38.0    │ 6.0       │ 262.0        │ 85.0       │ 3015.0  │\n",
       "│ 383 │ 26.0    │ 4.0       │ 156.0        │ 92.0       │ 2585.0  │\n",
       "│ 384 │ 22.0    │ 6.0       │ 232.0        │ 112.0      │ 2835.0  │\n",
       "│ 385 │ 32.0    │ 4.0       │ 144.0        │ 96.0       │ 2665.0  │\n",
       "│ 386 │ 36.0    │ 4.0       │ 135.0        │ 84.0       │ 2370.0  │\n",
       "│ 387 │ 27.0    │ 4.0       │ 151.0        │ 90.0       │ 2950.0  │\n",
       "│ 388 │ 27.0    │ 4.0       │ 140.0        │ 86.0       │ 2790.0  │\n",
       "│ 389 │ 44.0    │ 4.0       │ 97.0         │ 52.0       │ 2130.0  │\n",
       "│ 390 │ 32.0    │ 4.0       │ 135.0        │ 84.0       │ 2295.0  │\n",
       "│ 391 │ 28.0    │ 4.0       │ 120.0        │ 79.0       │ 2625.0  │\n",
       "│ 392 │ 31.0    │ 4.0       │ 119.0        │ 82.0       │ 2720.0  │"
      ]
     },
     "execution_count": 2,
     "metadata": {},
     "output_type": "execute_result"
    }
   ],
   "source": [
    "df = dataset(\"ISLR\", \"Auto\")"
   ]
  },
  {
   "cell_type": "markdown",
   "metadata": {},
   "source": [
    "In the table above, we have columns such as ``MPG``, ``Cylinders``, ``Displacement`` etc. For our experiment, we want to predict ``MPG`` as a linear function of the following input variables: ``Cylinders``, ``Displacement``, ``Horsepower``, ``Weight``, and ``Acceleration``. \n",
    "\n",
    "Now, let us see how many observations we have in our dataframe ``df``. The number of observations is denoted by $n_\\textrm{rows}$."
   ]
  },
  {
   "cell_type": "code",
   "execution_count": 3,
   "metadata": {},
   "outputs": [
    {
     "data": {
      "text/plain": [
       "392"
      ]
     },
     "execution_count": 3,
     "metadata": {},
     "output_type": "execute_result"
    }
   ],
   "source": [
    "n_rows = size(df)[1] # number of rows i.e., observations in the dataset"
   ]
  },
  {
   "cell_type": "markdown",
   "metadata": {},
   "source": [
    "We record form ``Wikipedia`` the following facts about k-fold cross-validation.\n",
    "\n",
    "\n",
    ">In K-fold cross-validation, the original sample is randomly partitioned into K equal sized subsamples. Of the K subsamples, a single subsample is retained as the validation data for testing the model, and the remaining K − 1 subsamples are used as training data. The cross-validation process is then repeated K times, with each of the K subsamples used exactly once as the validation data. The K results can then be averaged to produce a single estimation. \n",
    "\n",
    "So the first stage is randomly sampling ``df``. To that goal, we randomly shuffle the rows of ``df``. After that, we will pick equal sized subsamples in a sequential manner. In our case, value of $K=10$. In each of the $K$ groups, we select $n_G = \\lceil n_\\textrm{rows}/K \\rfloor$ number of observations for *testing* and $K n_G - n_G$ of obsesrvations for *training*. In process, we will be losing $n_\\textrm{rows} - Kn_G$ number of observations. Denote $n = K*n_G$, which is the total number of effective observations used in our training and testing procedure."
   ]
  },
  {
   "cell_type": "code",
   "execution_count": 4,
   "metadata": {},
   "outputs": [
    {
     "data": {
      "text/html": [
       "<table class=\"data-frame\"><thead><tr><th></th><th>MPG</th><th>Cylinders</th><th>Displacement</th><th>Horsepower</th><th>Weight</th><th>Acceleration</th><th>Year</th><th>Origin</th></tr><tr><th></th><th>Float64</th><th>Float64</th><th>Float64</th><th>Float64</th><th>Float64</th><th>Float64</th><th>Float64</th><th>Float64</th></tr></thead><tbody><p>392 rows × 9 columns (omitted printing of 1 columns)</p><tr><th>1</th><td>25.5</td><td>4.0</td><td>122.0</td><td>96.0</td><td>2300.0</td><td>15.5</td><td>77.0</td><td>1.0</td></tr><tr><th>2</th><td>26.8</td><td>6.0</td><td>173.0</td><td>115.0</td><td>2700.0</td><td>12.9</td><td>79.0</td><td>1.0</td></tr><tr><th>3</th><td>19.4</td><td>6.0</td><td>232.0</td><td>90.0</td><td>3210.0</td><td>17.2</td><td>78.0</td><td>1.0</td></tr><tr><th>4</th><td>27.4</td><td>4.0</td><td>121.0</td><td>80.0</td><td>2670.0</td><td>15.0</td><td>79.0</td><td>1.0</td></tr><tr><th>5</th><td>24.0</td><td>4.0</td><td>90.0</td><td>75.0</td><td>2108.0</td><td>15.5</td><td>74.0</td><td>2.0</td></tr><tr><th>6</th><td>23.0</td><td>6.0</td><td>198.0</td><td>95.0</td><td>2904.0</td><td>16.0</td><td>73.0</td><td>1.0</td></tr><tr><th>7</th><td>29.0</td><td>4.0</td><td>97.0</td><td>78.0</td><td>1940.0</td><td>14.5</td><td>77.0</td><td>2.0</td></tr><tr><th>8</th><td>20.0</td><td>4.0</td><td>140.0</td><td>90.0</td><td>2408.0</td><td>19.5</td><td>72.0</td><td>1.0</td></tr><tr><th>9</th><td>24.2</td><td>6.0</td><td>146.0</td><td>120.0</td><td>2930.0</td><td>13.8</td><td>81.0</td><td>3.0</td></tr><tr><th>10</th><td>19.0</td><td>6.0</td><td>232.0</td><td>100.0</td><td>2634.0</td><td>13.0</td><td>71.0</td><td>1.0</td></tr><tr><th>11</th><td>15.0</td><td>8.0</td><td>350.0</td><td>145.0</td><td>4440.0</td><td>14.0</td><td>75.0</td><td>1.0</td></tr><tr><th>12</th><td>27.2</td><td>4.0</td><td>141.0</td><td>71.0</td><td>3190.0</td><td>24.8</td><td>79.0</td><td>2.0</td></tr><tr><th>13</th><td>17.6</td><td>8.0</td><td>302.0</td><td>129.0</td><td>3725.0</td><td>13.4</td><td>79.0</td><td>1.0</td></tr><tr><th>14</th><td>24.0</td><td>4.0</td><td>113.0</td><td>95.0</td><td>2278.0</td><td>15.5</td><td>72.0</td><td>3.0</td></tr><tr><th>15</th><td>22.0</td><td>4.0</td><td>140.0</td><td>72.0</td><td>2408.0</td><td>19.0</td><td>71.0</td><td>1.0</td></tr><tr><th>16</th><td>14.0</td><td>8.0</td><td>351.0</td><td>153.0</td><td>4154.0</td><td>13.5</td><td>71.0</td><td>1.0</td></tr><tr><th>17</th><td>13.0</td><td>8.0</td><td>302.0</td><td>140.0</td><td>4294.0</td><td>16.0</td><td>72.0</td><td>1.0</td></tr><tr><th>18</th><td>13.0</td><td>8.0</td><td>350.0</td><td>155.0</td><td>4502.0</td><td>13.5</td><td>72.0</td><td>1.0</td></tr><tr><th>19</th><td>43.4</td><td>4.0</td><td>90.0</td><td>48.0</td><td>2335.0</td><td>23.7</td><td>80.0</td><td>2.0</td></tr><tr><th>20</th><td>37.0</td><td>4.0</td><td>119.0</td><td>92.0</td><td>2434.0</td><td>15.0</td><td>80.0</td><td>3.0</td></tr><tr><th>21</th><td>25.0</td><td>4.0</td><td>116.0</td><td>81.0</td><td>2220.0</td><td>16.9</td><td>76.0</td><td>2.0</td></tr><tr><th>22</th><td>15.0</td><td>6.0</td><td>250.0</td><td>100.0</td><td>3336.0</td><td>17.0</td><td>74.0</td><td>1.0</td></tr><tr><th>23</th><td>12.0</td><td>8.0</td><td>383.0</td><td>180.0</td><td>4955.0</td><td>11.5</td><td>71.0</td><td>1.0</td></tr><tr><th>24</th><td>17.5</td><td>6.0</td><td>258.0</td><td>95.0</td><td>3193.0</td><td>17.8</td><td>76.0</td><td>1.0</td></tr><tr><th>25</th><td>17.0</td><td>6.0</td><td>231.0</td><td>110.0</td><td>3907.0</td><td>21.0</td><td>75.0</td><td>1.0</td></tr><tr><th>26</th><td>17.5</td><td>8.0</td><td>305.0</td><td>140.0</td><td>4215.0</td><td>13.0</td><td>76.0</td><td>1.0</td></tr><tr><th>27</th><td>31.0</td><td>4.0</td><td>71.0</td><td>65.0</td><td>1773.0</td><td>19.0</td><td>71.0</td><td>3.0</td></tr><tr><th>28</th><td>34.2</td><td>4.0</td><td>105.0</td><td>70.0</td><td>2200.0</td><td>13.2</td><td>79.0</td><td>1.0</td></tr><tr><th>29</th><td>14.0</td><td>8.0</td><td>400.0</td><td>175.0</td><td>4464.0</td><td>11.5</td><td>71.0</td><td>1.0</td></tr><tr><th>30</th><td>16.0</td><td>8.0</td><td>304.0</td><td>150.0</td><td>3433.0</td><td>12.0</td><td>70.0</td><td>1.0</td></tr><tr><th>&vellip;</th><td>&vellip;</td><td>&vellip;</td><td>&vellip;</td><td>&vellip;</td><td>&vellip;</td><td>&vellip;</td><td>&vellip;</td><td>&vellip;</td></tr></tbody></table>"
      ],
      "text/latex": [
       "\\begin{tabular}{r|ccccccccc}\n",
       "\t& MPG & Cylinders & Displacement & Horsepower & Weight & Acceleration & Year & Origin & \\\\\n",
       "\t\\hline\n",
       "\t& Float64 & Float64 & Float64 & Float64 & Float64 & Float64 & Float64 & Float64 & \\\\\n",
       "\t\\hline\n",
       "\t1 & 25.5 & 4.0 & 122.0 & 96.0 & 2300.0 & 15.5 & 77.0 & 1.0 & $\\dots$ \\\\\n",
       "\t2 & 26.8 & 6.0 & 173.0 & 115.0 & 2700.0 & 12.9 & 79.0 & 1.0 & $\\dots$ \\\\\n",
       "\t3 & 19.4 & 6.0 & 232.0 & 90.0 & 3210.0 & 17.2 & 78.0 & 1.0 & $\\dots$ \\\\\n",
       "\t4 & 27.4 & 4.0 & 121.0 & 80.0 & 2670.0 & 15.0 & 79.0 & 1.0 & $\\dots$ \\\\\n",
       "\t5 & 24.0 & 4.0 & 90.0 & 75.0 & 2108.0 & 15.5 & 74.0 & 2.0 & $\\dots$ \\\\\n",
       "\t6 & 23.0 & 6.0 & 198.0 & 95.0 & 2904.0 & 16.0 & 73.0 & 1.0 & $\\dots$ \\\\\n",
       "\t7 & 29.0 & 4.0 & 97.0 & 78.0 & 1940.0 & 14.5 & 77.0 & 2.0 & $\\dots$ \\\\\n",
       "\t8 & 20.0 & 4.0 & 140.0 & 90.0 & 2408.0 & 19.5 & 72.0 & 1.0 & $\\dots$ \\\\\n",
       "\t9 & 24.2 & 6.0 & 146.0 & 120.0 & 2930.0 & 13.8 & 81.0 & 3.0 & $\\dots$ \\\\\n",
       "\t10 & 19.0 & 6.0 & 232.0 & 100.0 & 2634.0 & 13.0 & 71.0 & 1.0 & $\\dots$ \\\\\n",
       "\t11 & 15.0 & 8.0 & 350.0 & 145.0 & 4440.0 & 14.0 & 75.0 & 1.0 & $\\dots$ \\\\\n",
       "\t12 & 27.2 & 4.0 & 141.0 & 71.0 & 3190.0 & 24.8 & 79.0 & 2.0 & $\\dots$ \\\\\n",
       "\t13 & 17.6 & 8.0 & 302.0 & 129.0 & 3725.0 & 13.4 & 79.0 & 1.0 & $\\dots$ \\\\\n",
       "\t14 & 24.0 & 4.0 & 113.0 & 95.0 & 2278.0 & 15.5 & 72.0 & 3.0 & $\\dots$ \\\\\n",
       "\t15 & 22.0 & 4.0 & 140.0 & 72.0 & 2408.0 & 19.0 & 71.0 & 1.0 & $\\dots$ \\\\\n",
       "\t16 & 14.0 & 8.0 & 351.0 & 153.0 & 4154.0 & 13.5 & 71.0 & 1.0 & $\\dots$ \\\\\n",
       "\t17 & 13.0 & 8.0 & 302.0 & 140.0 & 4294.0 & 16.0 & 72.0 & 1.0 & $\\dots$ \\\\\n",
       "\t18 & 13.0 & 8.0 & 350.0 & 155.0 & 4502.0 & 13.5 & 72.0 & 1.0 & $\\dots$ \\\\\n",
       "\t19 & 43.4 & 4.0 & 90.0 & 48.0 & 2335.0 & 23.7 & 80.0 & 2.0 & $\\dots$ \\\\\n",
       "\t20 & 37.0 & 4.0 & 119.0 & 92.0 & 2434.0 & 15.0 & 80.0 & 3.0 & $\\dots$ \\\\\n",
       "\t21 & 25.0 & 4.0 & 116.0 & 81.0 & 2220.0 & 16.9 & 76.0 & 2.0 & $\\dots$ \\\\\n",
       "\t22 & 15.0 & 6.0 & 250.0 & 100.0 & 3336.0 & 17.0 & 74.0 & 1.0 & $\\dots$ \\\\\n",
       "\t23 & 12.0 & 8.0 & 383.0 & 180.0 & 4955.0 & 11.5 & 71.0 & 1.0 & $\\dots$ \\\\\n",
       "\t24 & 17.5 & 6.0 & 258.0 & 95.0 & 3193.0 & 17.8 & 76.0 & 1.0 & $\\dots$ \\\\\n",
       "\t25 & 17.0 & 6.0 & 231.0 & 110.0 & 3907.0 & 21.0 & 75.0 & 1.0 & $\\dots$ \\\\\n",
       "\t26 & 17.5 & 8.0 & 305.0 & 140.0 & 4215.0 & 13.0 & 76.0 & 1.0 & $\\dots$ \\\\\n",
       "\t27 & 31.0 & 4.0 & 71.0 & 65.0 & 1773.0 & 19.0 & 71.0 & 3.0 & $\\dots$ \\\\\n",
       "\t28 & 34.2 & 4.0 & 105.0 & 70.0 & 2200.0 & 13.2 & 79.0 & 1.0 & $\\dots$ \\\\\n",
       "\t29 & 14.0 & 8.0 & 400.0 & 175.0 & 4464.0 & 11.5 & 71.0 & 1.0 & $\\dots$ \\\\\n",
       "\t30 & 16.0 & 8.0 & 304.0 & 150.0 & 3433.0 & 12.0 & 70.0 & 1.0 & $\\dots$ \\\\\n",
       "\t$\\dots$ & $\\dots$ & $\\dots$ & $\\dots$ & $\\dots$ & $\\dots$ & $\\dots$ & $\\dots$ & $\\dots$ &  \\\\\n",
       "\\end{tabular}\n"
      ],
      "text/plain": [
       "392×9 DataFrame. Omitted printing of 4 columns\n",
       "│ Row │ MPG     │ Cylinders │ Displacement │ Horsepower │ Weight  │\n",
       "│     │ \u001b[90mFloat64\u001b[39m │ \u001b[90mFloat64\u001b[39m   │ \u001b[90mFloat64\u001b[39m      │ \u001b[90mFloat64\u001b[39m    │ \u001b[90mFloat64\u001b[39m │\n",
       "├─────┼─────────┼───────────┼──────────────┼────────────┼─────────┤\n",
       "│ 1   │ 25.5    │ 4.0       │ 122.0        │ 96.0       │ 2300.0  │\n",
       "│ 2   │ 26.8    │ 6.0       │ 173.0        │ 115.0      │ 2700.0  │\n",
       "│ 3   │ 19.4    │ 6.0       │ 232.0        │ 90.0       │ 3210.0  │\n",
       "│ 4   │ 27.4    │ 4.0       │ 121.0        │ 80.0       │ 2670.0  │\n",
       "│ 5   │ 24.0    │ 4.0       │ 90.0         │ 75.0       │ 2108.0  │\n",
       "│ 6   │ 23.0    │ 6.0       │ 198.0        │ 95.0       │ 2904.0  │\n",
       "│ 7   │ 29.0    │ 4.0       │ 97.0         │ 78.0       │ 1940.0  │\n",
       "│ 8   │ 20.0    │ 4.0       │ 140.0        │ 90.0       │ 2408.0  │\n",
       "│ 9   │ 24.2    │ 6.0       │ 146.0        │ 120.0      │ 2930.0  │\n",
       "│ 10  │ 19.0    │ 6.0       │ 232.0        │ 100.0      │ 2634.0  │\n",
       "⋮\n",
       "│ 382 │ 19.0    │ 4.0       │ 120.0        │ 88.0       │ 3270.0  │\n",
       "│ 383 │ 37.7    │ 4.0       │ 89.0         │ 62.0       │ 2050.0  │\n",
       "│ 384 │ 32.0    │ 4.0       │ 144.0        │ 96.0       │ 2665.0  │\n",
       "│ 385 │ 29.0    │ 4.0       │ 135.0        │ 84.0       │ 2525.0  │\n",
       "│ 386 │ 27.9    │ 4.0       │ 156.0        │ 105.0      │ 2800.0  │\n",
       "│ 387 │ 18.0    │ 6.0       │ 171.0        │ 97.0       │ 2984.0  │\n",
       "│ 388 │ 22.0    │ 4.0       │ 108.0        │ 94.0       │ 2379.0  │\n",
       "│ 389 │ 34.3    │ 4.0       │ 97.0         │ 78.0       │ 2188.0  │\n",
       "│ 390 │ 26.0    │ 4.0       │ 97.0         │ 75.0       │ 2265.0  │\n",
       "│ 391 │ 19.9    │ 8.0       │ 260.0        │ 110.0      │ 3365.0  │\n",
       "│ 392 │ 32.0    │ 4.0       │ 83.0         │ 61.0       │ 2003.0  │"
      ]
     },
     "execution_count": 4,
     "metadata": {},
     "output_type": "execute_result"
    }
   ],
   "source": [
    "df = df[shuffle(1:n_rows),:] \n",
    "# The function shuffle return a randomly permuted copy of the the \n",
    "# input vector. So, in our case it randomly shuffles the rows of the \n",
    "# original dataframe df. This is done in order to create random \n",
    "# test and training set from our data."
   ]
  },
  {
   "cell_type": "markdown",
   "metadata": {},
   "source": [
    "In the shuffled dataframe, the rows are indeed have changed their orders randomly."
   ]
  },
  {
   "cell_type": "code",
   "execution_count": 5,
   "metadata": {},
   "outputs": [
    {
     "data": {
      "text/plain": [
       "10"
      ]
     },
     "execution_count": 5,
     "metadata": {},
     "output_type": "execute_result"
    }
   ],
   "source": [
    "K = 10 # K is 10, so we are going to do a 10-fold cross validation"
   ]
  },
  {
   "cell_type": "code",
   "execution_count": 6,
   "metadata": {},
   "outputs": [
    {
     "data": {
      "text/plain": [
       "39"
      ]
     },
     "execution_count": 6,
     "metadata": {},
     "output_type": "execute_result"
    }
   ],
   "source": [
    "n_G = Int(floor(n_rows/K)) # so each of the K groups will have nG number of\n",
    "# elements for testing, and K*nG - nG elements for training"
   ]
  },
  {
   "cell_type": "code",
   "execution_count": 7,
   "metadata": {},
   "outputs": [
    {
     "data": {
      "text/plain": [
       "390"
      ]
     },
     "execution_count": 7,
     "metadata": {},
     "output_type": "execute_result"
    }
   ],
   "source": [
    "n = K*n_G # in the end we will end up covering n number of observations\n",
    "# unfortunately we will end up losing a certain number observations"
   ]
  },
  {
   "cell_type": "code",
   "execution_count": 8,
   "metadata": {},
   "outputs": [
    {
     "data": {
      "text/plain": [
       "351"
      ]
     },
     "execution_count": 8,
     "metadata": {},
     "output_type": "execute_result"
    }
   ],
   "source": [
    "n-n_G"
   ]
  },
  {
   "cell_type": "code",
   "execution_count": 9,
   "metadata": {},
   "outputs": [
    {
     "data": {
      "text/plain": [
       "2"
      ]
     },
     "execution_count": 9,
     "metadata": {},
     "output_type": "execute_result"
    }
   ],
   "source": [
    "n_lost = size(df)[1] - n # so we lost 2 observation in the process"
   ]
  },
  {
   "cell_type": "code",
   "execution_count": 10,
   "metadata": {},
   "outputs": [
    {
     "data": {
      "text/plain": [
       "indices_test_set (generic function with 1 method)"
      ]
     },
     "execution_count": 10,
     "metadata": {},
     "output_type": "execute_result"
    }
   ],
   "source": [
    "function indices_test_set(k)  \n",
    "    # This is a function that takes \n",
    "    # an integer k = 1, 2, ..., K, and outputs a index set corresponding to the test set. \n",
    "    # For example, in our case, \n",
    "    # indices_test_set(1) will pick the indices corresponding to the first n_G observations of the\n",
    "    # shuffled dataframe df, indices_test_set(2) will pick the next n_G observations and so on.\n",
    "    return collect(1+n_G*(k-1):n_G*k) \n",
    "end"
   ]
  },
  {
   "cell_type": "code",
   "execution_count": 11,
   "metadata": {},
   "outputs": [
    {
     "data": {
      "text/plain": [
       "indices_training_set (generic function with 1 method)"
      ]
     },
     "execution_count": 11,
     "metadata": {},
     "output_type": "execute_result"
    }
   ],
   "source": [
    "function indices_training_set(k)\n",
    "    # indices_training_set(k) will remove the indices for elements \n",
    "    # of indices_test_set(k) from \n",
    "    # the shuffled dataset df. We train our k-th regression model on \n",
    "    # the training set for k in 1:K\n",
    "    return setdiff(1:n, indices_test_set(k))\n",
    "end"
   ]
  },
  {
   "cell_type": "code",
   "execution_count": 12,
   "metadata": {},
   "outputs": [
    {
     "data": {
      "text/plain": [
       "y_test_set (generic function with 1 method)"
      ]
     },
     "execution_count": 12,
     "metadata": {},
     "output_type": "execute_result"
    }
   ],
   "source": [
    "function y_test_set(k)\n",
    "    # we are creating the response vector corresponding to the test set, \n",
    "    # which is the element MPG. Here we are ensuring that we \n",
    "    # only pick the elements associated with the k-th test set that\n",
    "    # are related to  the variable :MPG\n",
    "    return convert(Array{Float64,1},df[indices_test_set(k),:MPG])\n",
    "end"
   ]
  },
  {
   "cell_type": "code",
   "execution_count": 13,
   "metadata": {},
   "outputs": [
    {
     "data": {
      "text/plain": [
       "y_training_set (generic function with 1 method)"
      ]
     },
     "execution_count": 13,
     "metadata": {},
     "output_type": "execute_result"
    }
   ],
   "source": [
    "function y_training_set(k)\n",
    "    # similar to y_test_set() function, but corresponds to the training set response \n",
    "    # vector now\n",
    "    return convert(Array{Float64,1},df[indices_training_set(k),:MPG]) \n",
    "end"
   ]
  },
  {
   "cell_type": "code",
   "execution_count": 14,
   "metadata": {},
   "outputs": [
    {
     "data": {
      "text/plain": [
       "5-element Array{Symbol,1}:\n",
       " :Cylinders   \n",
       " :Displacement\n",
       " :Horsepower  \n",
       " :Weight      \n",
       " :Acceleration"
      ]
     },
     "execution_count": 14,
     "metadata": {},
     "output_type": "execute_result"
    }
   ],
   "source": [
    "variable_array = [:Cylinders, :Displacement, :Horsepower, :Weight, :Acceleration]\n",
    "# we are creating an array that corresponds to the input variables for our regression\n",
    "# model"
   ]
  },
  {
   "cell_type": "code",
   "execution_count": 15,
   "metadata": {},
   "outputs": [
    {
     "data": {
      "text/plain": [
       "5"
      ]
     },
     "execution_count": 15,
     "metadata": {},
     "output_type": "execute_result"
    }
   ],
   "source": [
    "n_var = length(variable_array)"
   ]
  },
  {
   "cell_type": "code",
   "execution_count": 16,
   "metadata": {},
   "outputs": [
    {
     "data": {
      "text/plain": [
       "X_test_set (generic function with 1 method)"
      ]
     },
     "execution_count": 16,
     "metadata": {},
     "output_type": "execute_result"
    }
   ],
   "source": [
    "function X_test_set(k)\n",
    "    # in the input data set, we are assuming that the response :MPG \n",
    "    # depends affine-ly on the following variables:\n",
    "    # Cylinders, Displacement, Horsepower, Weight, Acceleration\n",
    "    variable_array = [:Cylinders, :Displacement, :Horsepower, :Weight, :Acceleration]\n",
    "    return convert(Array{Float64,2},df[indices_test_set(k), variable_array])\n",
    "end"
   ]
  },
  {
   "cell_type": "code",
   "execution_count": 17,
   "metadata": {},
   "outputs": [
    {
     "data": {
      "text/plain": [
       "X_training_set (generic function with 1 method)"
      ]
     },
     "execution_count": 17,
     "metadata": {},
     "output_type": "execute_result"
    }
   ],
   "source": [
    "function X_training_set(k)\n",
    "    # similar to the test data set, used for training the \n",
    "    # k-th training set\n",
    "    variable_array = [:Cylinders, :Displacement, :Horsepower, :Weight, :Acceleration]\n",
    "    return convert(Array{Float64,2}, df[indices_training_set(k), variable_array])\n",
    "end"
   ]
  },
  {
   "cell_type": "markdown",
   "metadata": {},
   "source": [
    "For each of the $K$ training datasets, we run linear regression, for $k = 1, 2, \\ldots, K$. Then, for the output for $k$th training set, we compute the mean-squared-errror for $k$th test set. We assume that, the response vector $y$ is an affine function of our variables (parameters) $a\\in\\mathbf{R}^n$ and $b\\in \\mathbf{R}$: \n",
    "\\begin{equation}\n",
    "y = X a + b \\mathbf{1},\n",
    "\\end{equation}\n",
    "where $X$ is the data matrix used.\n",
    "\n",
    "\n",
    "For linear regression, we will be using the package ``MultivariateStats`` and its function ``llsq``. The function ``llsq``, as recorded in the documentation of ``MultivariateStats.jl``, works as follows. \n",
    "\n",
    ">Linear Least Square finds linear combination(s) of given variables to fit the responses by minimizing the squared error between them. This can be formulated as an optimization as follows:\n",
    "$$\n",
    "\\mathop{\\mathrm{minimize}}_{(\\mathbf{a}, b)} \\\n",
    "\\frac{1}{2} \\|\\mathbf{y} - (\\mathbf{X} \\mathbf{a} + b \\mathbf{1})\\|^2,\n",
    "$$\n",
    "where $a \\in \\mathbf{R}^n, b \\in \\mathbf{R}$ are the decision variables, and $X$ is the data matrix corresponding to a particular training set, and $y$ is the response vector corresponding to that training set. The package provides ``llsq`` to solve these problems:\n",
    "```function:: llsq(X, y; ...)``` solves the linear least square problem formulated above. The function results the solution ``[a; b]``\n",
    "\n",
    "Now we run the following code for to run linear regression, and then compute the mean squared error for each of the $K$ test sets."
   ]
  },
  {
   "cell_type": "code",
   "execution_count": 18,
   "metadata": {},
   "outputs": [],
   "source": [
    "# Time to run the Linear Regression for each of the K sets \n",
    "a_array = zeros(n_var,K) \n",
    "y_predicted = zeros()\n",
    "b_array = zeros(K) \n",
    "mse_array_training = zeros(K) # mse = mean squared error \n",
    "mse_array_test = zeros(K)\n",
    "# vector a for k th training set is a_array(:,k), and \n",
    "# scalar b for the k th training set is b_array(k)\n",
    "for k in 1:K\n",
    "    sol = llsq(X_training_set(k), y_training_set(k))\n",
    "    a_array[:,k], b_array[k] = sol[1:end-1,:], sol[end, :][1]\n",
    "    # predicted y and mean squared error for k-th training set \n",
    "    y_prediced_k_training = X_training_set(k)*a_array[:,k] + b_array[k]*ones(n-n_G)\n",
    "    mse_array_training[k] = norm(y_training_set(k) - y_prediced_k_training)^2/(n-n_G)\n",
    "    # predict what the response y is for the k th test set     \n",
    "    y_predicted_k_test = X_test_set(k)*a_array[:,k] + b_array[k]*ones(n_G)\n",
    "    # mean square error tested on k-th test set\n",
    "    mse_array_test[k] = norm(y_test_set(k)-y_predicted_k_test)^2/n_G\n",
    "end"
   ]
  },
  {
   "cell_type": "markdown",
   "metadata": {},
   "source": [
    "Now let us see, how the training mse and test mse compares for the $K$ folds. As shown in the blocks below, they are of the same order, thus giving us hope that our choice of parameters will generalize reasonably well."
   ]
  },
  {
   "cell_type": "code",
   "execution_count": 19,
   "metadata": {},
   "outputs": [
    {
     "data": {
      "text/plain": [
       "10-element Array{Float64,1}:\n",
       " 21.05079609045843 \n",
       " 16.914179663272158\n",
       " 14.978484708125757\n",
       " 31.054740853916563\n",
       " 14.440598457429331\n",
       " 16.279789405087254\n",
       " 14.897713943774969\n",
       " 12.226727605260086\n",
       " 22.259054706181516\n",
       " 22.967637533450905"
      ]
     },
     "execution_count": 19,
     "metadata": {},
     "output_type": "execute_result"
    }
   ],
   "source": [
    "mse_array_test"
   ]
  },
  {
   "cell_type": "code",
   "execution_count": 20,
   "metadata": {},
   "outputs": [
    {
     "data": {
      "text/plain": [
       "10-element Array{Float64,1}:\n",
       " 17.553911326418394\n",
       " 17.98670251311746 \n",
       " 18.1965031926724  \n",
       " 16.445938803393048\n",
       " 18.263017899162932\n",
       " 18.09478276636446 \n",
       " 18.200272808421403\n",
       " 18.516614015839494\n",
       " 17.450105015872655\n",
       " 17.341128880271942"
      ]
     },
     "execution_count": 20,
     "metadata": {},
     "output_type": "execute_result"
    }
   ],
   "source": [
    "mse_array_training"
   ]
  },
  {
   "cell_type": "markdown",
   "metadata": {},
   "source": [
    "In the end we have 10 different pairs of $[a b]$ parameters. The final question is which one to use? When things are going well, these values should not differ too much, so the choice should not matter too much either in a sunny day scenario. Let's see if that is indeed the case for our problem instance in consideration. In the dataframes below the $k$-th column corresponds to $a$ vector and $b$ scalar (bias) for $k$-th training set, respectively."
   ]
  },
  {
   "cell_type": "code",
   "execution_count": 21,
   "metadata": {},
   "outputs": [
    {
     "name": "stdout",
     "output_type": "stream",
     "text": [
      "5×10 DataFrame\n",
      "│ Row │ x1          │ x2          │ x3         │ x4          │ x5         │ x6          │ x7          │ x8          │ x9          │ x10         │\n",
      "│     │ \u001b[90mFloat64\u001b[39m     │ \u001b[90mFloat64\u001b[39m     │ \u001b[90mFloat64\u001b[39m    │ \u001b[90mFloat64\u001b[39m     │ \u001b[90mFloat64\u001b[39m    │ \u001b[90mFloat64\u001b[39m     │ \u001b[90mFloat64\u001b[39m     │ \u001b[90mFloat64\u001b[39m     │ \u001b[90mFloat64\u001b[39m     │ \u001b[90mFloat64\u001b[39m     │\n",
      "├─────┼─────────────┼─────────────┼────────────┼─────────────┼────────────┼─────────────┼─────────────┼─────────────┼─────────────┼─────────────┤\n",
      "│ 1   │ -0.431721   │ -0.457843   │ -0.464515  │ -0.342758   │ -0.52949   │ -0.31526    │ -0.376163   │ -0.305981   │ -0.337071   │ -0.415233   │\n",
      "│ 2   │ 0.00676299  │ 0.00351145  │ 0.00158696 │ 0.00199585  │ -7.0383e-5 │ -0.00619317 │ 0.000587922 │ 0.00145024  │ -0.00719366 │ -0.00460473 │\n",
      "│ 3   │ -0.0518277  │ -0.0472051  │ -0.0460186 │ -0.0500283  │ -0.0475639 │ -0.0463784  │ -0.0388479  │ -0.0521594  │ -0.0426643  │ -0.0319668  │\n",
      "│ 4   │ -0.00576871 │ -0.00529121 │ -0.0051606 │ -0.00511359 │ -0.0050306 │ -0.00474927 │ -0.00547187 │ -0.0053461  │ -0.0045715  │ -0.00515    │\n",
      "│ 5   │ -0.0442533  │ -0.0300583  │ 0.0318226  │ 0.0248301   │ -0.0955869 │ -0.142718   │ 0.0504977   │ -0.00627492 │ -0.116948   │ 0.010957    │\n"
     ]
    }
   ],
   "source": [
    "println( convert(DataFrame, a_array))"
   ]
  },
  {
   "cell_type": "code",
   "execution_count": 22,
   "metadata": {},
   "outputs": [
    {
     "name": "stdout",
     "output_type": "stream",
     "text": [
      "1×10 DataFrame\n",
      "│ Row │ x1      │ x2      │ x3      │ x4      │ x5      │ x6      │ x7      │ x8      │ x9      │ x10     │\n",
      "│     │ \u001b[90mFloat64\u001b[39m │ \u001b[90mFloat64\u001b[39m │ \u001b[90mFloat64\u001b[39m │ \u001b[90mFloat64\u001b[39m │ \u001b[90mFloat64\u001b[39m │ \u001b[90mFloat64\u001b[39m │ \u001b[90mFloat64\u001b[39m │ \u001b[90mFloat64\u001b[39m │ \u001b[90mFloat64\u001b[39m │ \u001b[90mFloat64\u001b[39m │\n",
      "├─────┼─────────┼─────────┼─────────┼─────────┼─────────┼─────────┼─────────┼─────────┼─────────┼─────────┤\n",
      "│ 1   │ 47.8073 │ 46.3193 │ 45.3659 │ 44.915  │ 47.8659 │ 47.6221 │ 44.9804 │ 46.2839 │ 46.4757 │ 45.2124 │\n"
     ]
    }
   ],
   "source": [
    "println( convert(DataFrame, b_array'))"
   ]
  },
  {
   "cell_type": "markdown",
   "metadata": {},
   "source": [
    "Note that, the parameters are roughly the same for different training sets. Now, how to come up with a final choice of parameters $a$ and $b$? One reasonable choice is to use the average of the model parameters from the different training sets."
   ]
  },
  {
   "cell_type": "code",
   "execution_count": 23,
   "metadata": {},
   "outputs": [
    {
     "data": {
      "text/plain": [
       "5×1 Array{Float64,2}:\n",
       " -0.39760361004512057   \n",
       " -0.00021665187670510358\n",
       " -0.045466039019354865  \n",
       " -0.005165344527557736  \n",
       " -0.03177316550390949   "
      ]
     },
     "execution_count": 23,
     "metadata": {},
     "output_type": "execute_result"
    }
   ],
   "source": [
    "a_array_final = mean(a_array, dims=2)"
   ]
  },
  {
   "cell_type": "code",
   "execution_count": 24,
   "metadata": {},
   "outputs": [
    {
     "data": {
      "text/plain": [
       "46.284784836274596"
      ]
     },
     "execution_count": 24,
     "metadata": {},
     "output_type": "execute_result"
    }
   ],
   "source": [
    "b_final = mean(b_array)"
   ]
  },
  {
   "cell_type": "markdown",
   "metadata": {},
   "source": [
    "Lets see how our final parameters fit. We will do so by creating a scatter plot of actual and predicted `MPG`."
   ]
  },
  {
   "cell_type": "code",
   "execution_count": 25,
   "metadata": {},
   "outputs": [],
   "source": [
    "using Plots"
   ]
  },
  {
   "cell_type": "code",
   "execution_count": 26,
   "metadata": {},
   "outputs": [
    {
     "data": {
      "text/plain": [
       "46.6"
      ]
     },
     "execution_count": 26,
     "metadata": {},
     "output_type": "execute_result"
    }
   ],
   "source": [
    "X_all = convert(Array{Float64,2},df[1:n_rows, variable_array]);\n",
    "y_all = convert(Array{Float64},df[1:n_rows, :MPG]);\n",
    "y_predicted_all = X_all*a_array_final + b_final*ones(n_rows);\n",
    "maximum(y_all)"
   ]
  },
  {
   "cell_type": "code",
   "execution_count": 27,
   "metadata": {},
   "outputs": [
    {
     "data": {
      "image/svg+xml": [
       "<?xml version=\"1.0\" encoding=\"utf-8\"?>\n",
       "<svg xmlns=\"http://www.w3.org/2000/svg\" xmlns:xlink=\"http://www.w3.org/1999/xlink\" width=\"500\" height=\"500\" viewBox=\"0 0 2000 2000\">\n",
       "<defs>\n",
       "  <clipPath id=\"clip1300\">\n",
       "    <rect x=\"0\" y=\"0\" width=\"2000\" height=\"2000\"/>\n",
       "  </clipPath>\n",
       "</defs>\n",
       "<path clip-path=\"url(#clip1300)\" d=\"\n",
       "M0 2000 L2000 2000 L2000 0 L0 0  Z\n",
       "  \" fill=\"#ffffff\" fill-rule=\"evenodd\" fill-opacity=\"1\"/>\n",
       "<defs>\n",
       "  <clipPath id=\"clip1301\">\n",
       "    <rect x=\"400\" y=\"200\" width=\"1401\" height=\"1401\"/>\n",
       "  </clipPath>\n",
       "</defs>\n",
       "<path clip-path=\"url(#clip1300)\" d=\"\n",
       "M202.373 1825.62 L1952.76 1825.62 L1952.76 47.2441 L202.373 47.2441  Z\n",
       "  \" fill=\"#ffffff\" fill-rule=\"evenodd\" fill-opacity=\"1\"/>\n",
       "<defs>\n",
       "  <clipPath id=\"clip1302\">\n",
       "    <rect x=\"202\" y=\"47\" width=\"1751\" height=\"1779\"/>\n",
       "  </clipPath>\n",
       "</defs>\n",
       "<polyline clip-path=\"url(#clip1302)\" style=\"stroke:#000000; stroke-width:2; stroke-opacity:0.1; fill:none\" points=\"\n",
       "  202.373,1825.62 202.373,47.2441 \n",
       "  \"/>\n",
       "<polyline clip-path=\"url(#clip1302)\" style=\"stroke:#000000; stroke-width:2; stroke-opacity:0.1; fill:none\" points=\"\n",
       "  552.45,1825.62 552.45,47.2441 \n",
       "  \"/>\n",
       "<polyline clip-path=\"url(#clip1302)\" style=\"stroke:#000000; stroke-width:2; stroke-opacity:0.1; fill:none\" points=\"\n",
       "  902.526,1825.62 902.526,47.2441 \n",
       "  \"/>\n",
       "<polyline clip-path=\"url(#clip1302)\" style=\"stroke:#000000; stroke-width:2; stroke-opacity:0.1; fill:none\" points=\"\n",
       "  1252.6,1825.62 1252.6,47.2441 \n",
       "  \"/>\n",
       "<polyline clip-path=\"url(#clip1302)\" style=\"stroke:#000000; stroke-width:2; stroke-opacity:0.1; fill:none\" points=\"\n",
       "  1602.68,1825.62 1602.68,47.2441 \n",
       "  \"/>\n",
       "<polyline clip-path=\"url(#clip1302)\" style=\"stroke:#000000; stroke-width:2; stroke-opacity:0.1; fill:none\" points=\"\n",
       "  1952.76,1825.62 1952.76,47.2441 \n",
       "  \"/>\n",
       "<polyline clip-path=\"url(#clip1302)\" style=\"stroke:#000000; stroke-width:2; stroke-opacity:0.1; fill:none\" points=\"\n",
       "  202.373,1825.62 1952.76,1825.62 \n",
       "  \"/>\n",
       "<polyline clip-path=\"url(#clip1302)\" style=\"stroke:#000000; stroke-width:2; stroke-opacity:0.1; fill:none\" points=\"\n",
       "  202.373,1469.94 1952.76,1469.94 \n",
       "  \"/>\n",
       "<polyline clip-path=\"url(#clip1302)\" style=\"stroke:#000000; stroke-width:2; stroke-opacity:0.1; fill:none\" points=\"\n",
       "  202.373,1114.27 1952.76,1114.27 \n",
       "  \"/>\n",
       "<polyline clip-path=\"url(#clip1302)\" style=\"stroke:#000000; stroke-width:2; stroke-opacity:0.1; fill:none\" points=\"\n",
       "  202.373,758.594 1952.76,758.594 \n",
       "  \"/>\n",
       "<polyline clip-path=\"url(#clip1302)\" style=\"stroke:#000000; stroke-width:2; stroke-opacity:0.1; fill:none\" points=\"\n",
       "  202.373,402.919 1952.76,402.919 \n",
       "  \"/>\n",
       "<polyline clip-path=\"url(#clip1302)\" style=\"stroke:#000000; stroke-width:2; stroke-opacity:0.1; fill:none\" points=\"\n",
       "  202.373,47.2441 1952.76,47.2441 \n",
       "  \"/>\n",
       "<polyline clip-path=\"url(#clip1300)\" style=\"stroke:#000000; stroke-width:4; stroke-opacity:1; fill:none\" points=\"\n",
       "  202.373,1825.62 1952.76,1825.62 \n",
       "  \"/>\n",
       "<polyline clip-path=\"url(#clip1300)\" style=\"stroke:#000000; stroke-width:4; stroke-opacity:1; fill:none\" points=\"\n",
       "  202.373,1825.62 202.373,47.2441 \n",
       "  \"/>\n",
       "<polyline clip-path=\"url(#clip1300)\" style=\"stroke:#000000; stroke-width:4; stroke-opacity:1; fill:none\" points=\"\n",
       "  202.373,1825.62 202.373,1804.28 \n",
       "  \"/>\n",
       "<polyline clip-path=\"url(#clip1300)\" style=\"stroke:#000000; stroke-width:4; stroke-opacity:1; fill:none\" points=\"\n",
       "  552.45,1825.62 552.45,1804.28 \n",
       "  \"/>\n",
       "<polyline clip-path=\"url(#clip1300)\" style=\"stroke:#000000; stroke-width:4; stroke-opacity:1; fill:none\" points=\"\n",
       "  902.526,1825.62 902.526,1804.28 \n",
       "  \"/>\n",
       "<polyline clip-path=\"url(#clip1300)\" style=\"stroke:#000000; stroke-width:4; stroke-opacity:1; fill:none\" points=\"\n",
       "  1252.6,1825.62 1252.6,1804.28 \n",
       "  \"/>\n",
       "<polyline clip-path=\"url(#clip1300)\" style=\"stroke:#000000; stroke-width:4; stroke-opacity:1; fill:none\" points=\"\n",
       "  1602.68,1825.62 1602.68,1804.28 \n",
       "  \"/>\n",
       "<polyline clip-path=\"url(#clip1300)\" style=\"stroke:#000000; stroke-width:4; stroke-opacity:1; fill:none\" points=\"\n",
       "  1952.76,1825.62 1952.76,1804.28 \n",
       "  \"/>\n",
       "<polyline clip-path=\"url(#clip1300)\" style=\"stroke:#000000; stroke-width:4; stroke-opacity:1; fill:none\" points=\"\n",
       "  202.373,1825.62 223.378,1825.62 \n",
       "  \"/>\n",
       "<polyline clip-path=\"url(#clip1300)\" style=\"stroke:#000000; stroke-width:4; stroke-opacity:1; fill:none\" points=\"\n",
       "  202.373,1469.94 223.378,1469.94 \n",
       "  \"/>\n",
       "<polyline clip-path=\"url(#clip1300)\" style=\"stroke:#000000; stroke-width:4; stroke-opacity:1; fill:none\" points=\"\n",
       "  202.373,1114.27 223.378,1114.27 \n",
       "  \"/>\n",
       "<polyline clip-path=\"url(#clip1300)\" style=\"stroke:#000000; stroke-width:4; stroke-opacity:1; fill:none\" points=\"\n",
       "  202.373,758.594 223.378,758.594 \n",
       "  \"/>\n",
       "<polyline clip-path=\"url(#clip1300)\" style=\"stroke:#000000; stroke-width:4; stroke-opacity:1; fill:none\" points=\"\n",
       "  202.373,402.919 223.378,402.919 \n",
       "  \"/>\n",
       "<polyline clip-path=\"url(#clip1300)\" style=\"stroke:#000000; stroke-width:4; stroke-opacity:1; fill:none\" points=\"\n",
       "  202.373,47.2441 223.378,47.2441 \n",
       "  \"/>\n",
       "<g clip-path=\"url(#clip1300)\">\n",
       "<text style=\"fill:#000000; fill-opacity:1; font-family:Arial,Helvetica Neue,Helvetica,sans-serif; font-size:48px; text-anchor:middle;\" transform=\"rotate(0, 202.373, 1877.62)\" x=\"202.373\" y=\"1877.62\">0</text>\n",
       "</g>\n",
       "<g clip-path=\"url(#clip1300)\">\n",
       "<text style=\"fill:#000000; fill-opacity:1; font-family:Arial,Helvetica Neue,Helvetica,sans-serif; font-size:48px; text-anchor:middle;\" transform=\"rotate(0, 552.45, 1877.62)\" x=\"552.45\" y=\"1877.62\">10</text>\n",
       "</g>\n",
       "<g clip-path=\"url(#clip1300)\">\n",
       "<text style=\"fill:#000000; fill-opacity:1; font-family:Arial,Helvetica Neue,Helvetica,sans-serif; font-size:48px; text-anchor:middle;\" transform=\"rotate(0, 902.526, 1877.62)\" x=\"902.526\" y=\"1877.62\">20</text>\n",
       "</g>\n",
       "<g clip-path=\"url(#clip1300)\">\n",
       "<text style=\"fill:#000000; fill-opacity:1; font-family:Arial,Helvetica Neue,Helvetica,sans-serif; font-size:48px; text-anchor:middle;\" transform=\"rotate(0, 1252.6, 1877.62)\" x=\"1252.6\" y=\"1877.62\">30</text>\n",
       "</g>\n",
       "<g clip-path=\"url(#clip1300)\">\n",
       "<text style=\"fill:#000000; fill-opacity:1; font-family:Arial,Helvetica Neue,Helvetica,sans-serif; font-size:48px; text-anchor:middle;\" transform=\"rotate(0, 1602.68, 1877.62)\" x=\"1602.68\" y=\"1877.62\">40</text>\n",
       "</g>\n",
       "<g clip-path=\"url(#clip1300)\">\n",
       "<text style=\"fill:#000000; fill-opacity:1; font-family:Arial,Helvetica Neue,Helvetica,sans-serif; font-size:48px; text-anchor:middle;\" transform=\"rotate(0, 1952.76, 1877.62)\" x=\"1952.76\" y=\"1877.62\">50</text>\n",
       "</g>\n",
       "<g clip-path=\"url(#clip1300)\">\n",
       "<text style=\"fill:#000000; fill-opacity:1; font-family:Arial,Helvetica Neue,Helvetica,sans-serif; font-size:48px; text-anchor:end;\" transform=\"rotate(0, 182.373, 1843.12)\" x=\"182.373\" y=\"1843.12\">0</text>\n",
       "</g>\n",
       "<g clip-path=\"url(#clip1300)\">\n",
       "<text style=\"fill:#000000; fill-opacity:1; font-family:Arial,Helvetica Neue,Helvetica,sans-serif; font-size:48px; text-anchor:end;\" transform=\"rotate(0, 182.373, 1487.44)\" x=\"182.373\" y=\"1487.44\">10</text>\n",
       "</g>\n",
       "<g clip-path=\"url(#clip1300)\">\n",
       "<text style=\"fill:#000000; fill-opacity:1; font-family:Arial,Helvetica Neue,Helvetica,sans-serif; font-size:48px; text-anchor:end;\" transform=\"rotate(0, 182.373, 1131.77)\" x=\"182.373\" y=\"1131.77\">20</text>\n",
       "</g>\n",
       "<g clip-path=\"url(#clip1300)\">\n",
       "<text style=\"fill:#000000; fill-opacity:1; font-family:Arial,Helvetica Neue,Helvetica,sans-serif; font-size:48px; text-anchor:end;\" transform=\"rotate(0, 182.373, 776.094)\" x=\"182.373\" y=\"776.094\">30</text>\n",
       "</g>\n",
       "<g clip-path=\"url(#clip1300)\">\n",
       "<text style=\"fill:#000000; fill-opacity:1; font-family:Arial,Helvetica Neue,Helvetica,sans-serif; font-size:48px; text-anchor:end;\" transform=\"rotate(0, 182.373, 420.419)\" x=\"182.373\" y=\"420.419\">40</text>\n",
       "</g>\n",
       "<g clip-path=\"url(#clip1300)\">\n",
       "<text style=\"fill:#000000; fill-opacity:1; font-family:Arial,Helvetica Neue,Helvetica,sans-serif; font-size:48px; text-anchor:end;\" transform=\"rotate(0, 182.373, 64.7441)\" x=\"182.373\" y=\"64.7441\">50</text>\n",
       "</g>\n",
       "<g clip-path=\"url(#clip1300)\">\n",
       "<text style=\"fill:#000000; fill-opacity:1; font-family:Arial,Helvetica Neue,Helvetica,sans-serif; font-size:66px; text-anchor:middle;\" transform=\"rotate(0, 1077.56, 1955.48)\" x=\"1077.56\" y=\"1955.48\">Actual MPG</text>\n",
       "</g>\n",
       "<g clip-path=\"url(#clip1300)\">\n",
       "<text style=\"fill:#000000; fill-opacity:1; font-family:Arial,Helvetica Neue,Helvetica,sans-serif; font-size:66px; text-anchor:middle;\" transform=\"rotate(-90, 97.2861, 936.431)\" x=\"97.2861\" y=\"936.431\">Predicted MPG</text>\n",
       "</g>\n",
       "<circle clip-path=\"url(#clip1302)\" style=\"fill:#000000; stroke:none; fill-opacity:1\" cx=\"1095.07\" cy=\"832.204\" r=\"18\"/>\n",
       "<circle clip-path=\"url(#clip1302)\" style=\"fill:#009af9; stroke:none; fill-opacity:1\" cx=\"1095.07\" cy=\"832.204\" r=\"14\"/>\n",
       "<circle clip-path=\"url(#clip1302)\" style=\"fill:#000000; stroke:none; fill-opacity:1\" cx=\"1140.58\" cy=\"962.154\" r=\"18\"/>\n",
       "<circle clip-path=\"url(#clip1302)\" style=\"fill:#009af9; stroke:none; fill-opacity:1\" cx=\"1140.58\" cy=\"962.154\" r=\"14\"/>\n",
       "<circle clip-path=\"url(#clip1302)\" style=\"fill:#000000; stroke:none; fill-opacity:1\" cx=\"881.522\" cy=\"1020.74\" r=\"18\"/>\n",
       "<circle clip-path=\"url(#clip1302)\" style=\"fill:#009af9; stroke:none; fill-opacity:1\" cx=\"881.522\" cy=\"1020.74\" r=\"14\"/>\n",
       "<circle clip-path=\"url(#clip1302)\" style=\"fill:#000000; stroke:none; fill-opacity:1\" cx=\"1161.58\" cy=\"873.733\" r=\"18\"/>\n",
       "<circle clip-path=\"url(#clip1302)\" style=\"fill:#009af9; stroke:none; fill-opacity:1\" cx=\"1161.58\" cy=\"873.733\" r=\"14\"/>\n",
       "<circle clip-path=\"url(#clip1302)\" style=\"fill:#000000; stroke:none; fill-opacity:1\" cx=\"1042.56\" cy=\"762.724\" r=\"18\"/>\n",
       "<circle clip-path=\"url(#clip1302)\" style=\"fill:#009af9; stroke:none; fill-opacity:1\" cx=\"1042.56\" cy=\"762.724\" r=\"14\"/>\n",
       "<circle clip-path=\"url(#clip1302)\" style=\"fill:#000000; stroke:none; fill-opacity:1\" cx=\"1007.55\" cy=\"970.987\" r=\"18\"/>\n",
       "<circle clip-path=\"url(#clip1302)\" style=\"fill:#009af9; stroke:none; fill-opacity:1\" cx=\"1007.55\" cy=\"970.987\" r=\"14\"/>\n",
       "<circle clip-path=\"url(#clip1302)\" style=\"fill:#000000; stroke:none; fill-opacity:1\" cx=\"1217.6\" cy=\"735.634\" r=\"18\"/>\n",
       "<circle clip-path=\"url(#clip1302)\" style=\"fill:#009af9; stroke:none; fill-opacity:1\" cx=\"1217.6\" cy=\"735.634\" r=\"14\"/>\n",
       "<circle clip-path=\"url(#clip1302)\" style=\"fill:#000000; stroke:none; fill-opacity:1\" cx=\"902.526\" cy=\"847.002\" r=\"18\"/>\n",
       "<circle clip-path=\"url(#clip1302)\" style=\"fill:#009af9; stroke:none; fill-opacity:1\" cx=\"902.526\" cy=\"847.002\" r=\"14\"/>\n",
       "<circle clip-path=\"url(#clip1302)\" style=\"fill:#000000; stroke:none; fill-opacity:1\" cx=\"1049.56\" cy=\"1013.3\" r=\"18\"/>\n",
       "<circle clip-path=\"url(#clip1302)\" style=\"fill:#009af9; stroke:none; fill-opacity:1\" cx=\"1049.56\" cy=\"1013.3\" r=\"14\"/>\n",
       "<circle clip-path=\"url(#clip1302)\" style=\"fill:#000000; stroke:none; fill-opacity:1\" cx=\"867.518\" cy=\"926.34\" r=\"18\"/>\n",
       "<circle clip-path=\"url(#clip1302)\" style=\"fill:#009af9; stroke:none; fill-opacity:1\" cx=\"867.518\" cy=\"926.34\" r=\"14\"/>\n",
       "<circle clip-path=\"url(#clip1302)\" style=\"fill:#000000; stroke:none; fill-opacity:1\" cx=\"727.488\" cy=\"1361.23\" r=\"18\"/>\n",
       "<circle clip-path=\"url(#clip1302)\" style=\"fill:#009af9; stroke:none; fill-opacity:1\" cx=\"727.488\" cy=\"1361.23\" r=\"14\"/>\n",
       "<circle clip-path=\"url(#clip1302)\" style=\"fill:#000000; stroke:none; fill-opacity:1\" cx=\"1154.58\" cy=\"965.941\" r=\"18\"/>\n",
       "<circle clip-path=\"url(#clip1302)\" style=\"fill:#009af9; stroke:none; fill-opacity:1\" cx=\"1154.58\" cy=\"965.941\" r=\"14\"/>\n",
       "<circle clip-path=\"url(#clip1302)\" style=\"fill:#000000; stroke:none; fill-opacity:1\" cx=\"818.508\" cy=\"1202.95\" r=\"18\"/>\n",
       "<circle clip-path=\"url(#clip1302)\" style=\"fill:#009af9; stroke:none; fill-opacity:1\" cx=\"818.508\" cy=\"1202.95\" r=\"14\"/>\n",
       "<circle clip-path=\"url(#clip1302)\" style=\"fill:#000000; stroke:none; fill-opacity:1\" cx=\"1042.56\" cy=\"826.475\" r=\"18\"/>\n",
       "<circle clip-path=\"url(#clip1302)\" style=\"fill:#009af9; stroke:none; fill-opacity:1\" cx=\"1042.56\" cy=\"826.475\" r=\"14\"/>\n",
       "<circle clip-path=\"url(#clip1302)\" style=\"fill:#000000; stroke:none; fill-opacity:1\" cx=\"972.541\" cy=\"817.328\" r=\"18\"/>\n",
       "<circle clip-path=\"url(#clip1302)\" style=\"fill:#009af9; stroke:none; fill-opacity:1\" cx=\"972.541\" cy=\"817.328\" r=\"14\"/>\n",
       "<circle clip-path=\"url(#clip1302)\" style=\"fill:#000000; stroke:none; fill-opacity:1\" cx=\"692.48\" cy=\"1321.06\" r=\"18\"/>\n",
       "<circle clip-path=\"url(#clip1302)\" style=\"fill:#009af9; stroke:none; fill-opacity:1\" cx=\"692.48\" cy=\"1321.06\" r=\"14\"/>\n",
       "<circle clip-path=\"url(#clip1302)\" style=\"fill:#000000; stroke:none; fill-opacity:1\" cx=\"657.472\" cy=\"1328.21\" r=\"18\"/>\n",
       "<circle clip-path=\"url(#clip1302)\" style=\"fill:#009af9; stroke:none; fill-opacity:1\" cx=\"657.472\" cy=\"1328.21\" r=\"14\"/>\n",
       "<circle clip-path=\"url(#clip1302)\" style=\"fill:#000000; stroke:none; fill-opacity:1\" cx=\"657.472\" cy=\"1388.22\" r=\"18\"/>\n",
       "<circle clip-path=\"url(#clip1302)\" style=\"fill:#009af9; stroke:none; fill-opacity:1\" cx=\"657.472\" cy=\"1388.22\" r=\"14\"/>\n",
       "<circle clip-path=\"url(#clip1302)\" style=\"fill:#000000; stroke:none; fill-opacity:1\" cx=\"1721.71\" cy=\"770.032\" r=\"18\"/>\n",
       "<circle clip-path=\"url(#clip1302)\" style=\"fill:#009af9; stroke:none; fill-opacity:1\" cx=\"1721.71\" cy=\"770.032\" r=\"14\"/>\n",
       "<circle clip-path=\"url(#clip1302)\" style=\"fill:#000000; stroke:none; fill-opacity:1\" cx=\"1497.66\" cy=\"849.765\" r=\"18\"/>\n",
       "<circle clip-path=\"url(#clip1302)\" style=\"fill:#009af9; stroke:none; fill-opacity:1\" cx=\"1497.66\" cy=\"849.765\" r=\"14\"/>\n",
       "<circle clip-path=\"url(#clip1302)\" style=\"fill:#000000; stroke:none; fill-opacity:1\" cx=\"1077.56\" cy=\"794.785\" r=\"18\"/>\n",
       "<circle clip-path=\"url(#clip1302)\" style=\"fill:#009af9; stroke:none; fill-opacity:1\" cx=\"1077.56\" cy=\"794.785\" r=\"14\"/>\n",
       "<circle clip-path=\"url(#clip1302)\" style=\"fill:#000000; stroke:none; fill-opacity:1\" cx=\"727.488\" cy=\"1059.97\" r=\"18\"/>\n",
       "<circle clip-path=\"url(#clip1302)\" style=\"fill:#009af9; stroke:none; fill-opacity:1\" cx=\"727.488\" cy=\"1059.97\" r=\"14\"/>\n",
       "<circle clip-path=\"url(#clip1302)\" style=\"fill:#000000; stroke:none; fill-opacity:1\" cx=\"622.465\" cy=\"1509.87\" r=\"18\"/>\n",
       "<circle clip-path=\"url(#clip1302)\" style=\"fill:#009af9; stroke:none; fill-opacity:1\" cx=\"622.465\" cy=\"1509.87\" r=\"14\"/>\n",
       "<circle clip-path=\"url(#clip1302)\" style=\"fill:#000000; stroke:none; fill-opacity:1\" cx=\"815.007\" cy=\"1026.58\" r=\"18\"/>\n",
       "<circle clip-path=\"url(#clip1302)\" style=\"fill:#009af9; stroke:none; fill-opacity:1\" cx=\"815.007\" cy=\"1026.58\" r=\"14\"/>\n",
       "<circle clip-path=\"url(#clip1302)\" style=\"fill:#000000; stroke:none; fill-opacity:1\" cx=\"797.503\" cy=\"1185.42\" r=\"18\"/>\n",
       "<circle clip-path=\"url(#clip1302)\" style=\"fill:#009af9; stroke:none; fill-opacity:1\" cx=\"797.503\" cy=\"1185.42\" r=\"14\"/>\n",
       "<circle clip-path=\"url(#clip1302)\" style=\"fill:#000000; stroke:none; fill-opacity:1\" cx=\"815.007\" cy=\"1310.33\" r=\"18\"/>\n",
       "<circle clip-path=\"url(#clip1302)\" style=\"fill:#009af9; stroke:none; fill-opacity:1\" cx=\"815.007\" cy=\"1310.33\" r=\"14\"/>\n",
       "<circle clip-path=\"url(#clip1302)\" style=\"fill:#000000; stroke:none; fill-opacity:1\" cx=\"1287.61\" cy=\"688.816\" r=\"18\"/>\n",
       "<circle clip-path=\"url(#clip1302)\" style=\"fill:#009af9; stroke:none; fill-opacity:1\" cx=\"1287.61\" cy=\"688.816\" r=\"14\"/>\n",
       "<circle clip-path=\"url(#clip1302)\" style=\"fill:#000000; stroke:none; fill-opacity:1\" cx=\"1399.63\" cy=\"769.057\" r=\"18\"/>\n",
       "<circle clip-path=\"url(#clip1302)\" style=\"fill:#009af9; stroke:none; fill-opacity:1\" cx=\"1399.63\" cy=\"769.057\" r=\"14\"/>\n",
       "<circle clip-path=\"url(#clip1302)\" style=\"fill:#000000; stroke:none; fill-opacity:1\" cx=\"692.48\" cy=\"1411.71\" r=\"18\"/>\n",
       "<circle clip-path=\"url(#clip1302)\" style=\"fill:#009af9; stroke:none; fill-opacity:1\" cx=\"692.48\" cy=\"1411.71\" r=\"14\"/>\n",
       "<circle clip-path=\"url(#clip1302)\" style=\"fill:#000000; stroke:none; fill-opacity:1\" cx=\"762.495\" cy=\"1181.69\" r=\"18\"/>\n",
       "<circle clip-path=\"url(#clip1302)\" style=\"fill:#009af9; stroke:none; fill-opacity:1\" cx=\"762.495\" cy=\"1181.69\" r=\"14\"/>\n",
       "<circle clip-path=\"url(#clip1302)\" style=\"fill:#000000; stroke:none; fill-opacity:1\" cx=\"587.457\" cy=\"1454.87\" r=\"18\"/>\n",
       "<circle clip-path=\"url(#clip1302)\" style=\"fill:#009af9; stroke:none; fill-opacity:1\" cx=\"587.457\" cy=\"1454.87\" r=\"14\"/>\n",
       "<circle clip-path=\"url(#clip1302)\" style=\"fill:#000000; stroke:none; fill-opacity:1\" cx=\"1112.57\" cy=\"844.171\" r=\"18\"/>\n",
       "<circle clip-path=\"url(#clip1302)\" style=\"fill:#009af9; stroke:none; fill-opacity:1\" cx=\"1112.57\" cy=\"844.171\" r=\"14\"/>\n",
       "<circle clip-path=\"url(#clip1302)\" style=\"fill:#000000; stroke:none; fill-opacity:1\" cx=\"622.465\" cy=\"1581.9\" r=\"18\"/>\n",
       "<circle clip-path=\"url(#clip1302)\" style=\"fill:#009af9; stroke:none; fill-opacity:1\" cx=\"622.465\" cy=\"1581.9\" r=\"14\"/>\n",
       "<circle clip-path=\"url(#clip1302)\" style=\"fill:#000000; stroke:none; fill-opacity:1\" cx=\"657.472\" cy=\"1243.22\" r=\"18\"/>\n",
       "<circle clip-path=\"url(#clip1302)\" style=\"fill:#009af9; stroke:none; fill-opacity:1\" cx=\"657.472\" cy=\"1243.22\" r=\"14\"/>\n",
       "<circle clip-path=\"url(#clip1302)\" style=\"fill:#000000; stroke:none; fill-opacity:1\" cx=\"1392.63\" cy=\"839.468\" r=\"18\"/>\n",
       "<circle clip-path=\"url(#clip1302)\" style=\"fill:#009af9; stroke:none; fill-opacity:1\" cx=\"1392.63\" cy=\"839.468\" r=\"14\"/>\n",
       "<circle clip-path=\"url(#clip1302)\" style=\"fill:#000000; stroke:none; fill-opacity:1\" cx=\"867.518\" cy=\"1032.62\" r=\"18\"/>\n",
       "<circle clip-path=\"url(#clip1302)\" style=\"fill:#009af9; stroke:none; fill-opacity:1\" cx=\"867.518\" cy=\"1032.62\" r=\"14\"/>\n",
       "<circle clip-path=\"url(#clip1302)\" style=\"fill:#000000; stroke:none; fill-opacity:1\" cx=\"832.511\" cy=\"957.076\" r=\"18\"/>\n",
       "<circle clip-path=\"url(#clip1302)\" style=\"fill:#009af9; stroke:none; fill-opacity:1\" cx=\"832.511\" cy=\"957.076\" r=\"14\"/>\n",
       "<circle clip-path=\"url(#clip1302)\" style=\"fill:#000000; stroke:none; fill-opacity:1\" cx=\"552.45\" cy=\"1439.21\" r=\"18\"/>\n",
       "<circle clip-path=\"url(#clip1302)\" style=\"fill:#009af9; stroke:none; fill-opacity:1\" cx=\"552.45\" cy=\"1439.21\" r=\"14\"/>\n",
       "<circle clip-path=\"url(#clip1302)\" style=\"fill:#000000; stroke:none; fill-opacity:1\" cx=\"1077.56\" cy=\"1003.1\" r=\"18\"/>\n",
       "<circle clip-path=\"url(#clip1302)\" style=\"fill:#009af9; stroke:none; fill-opacity:1\" cx=\"1077.56\" cy=\"1003.1\" r=\"14\"/>\n",
       "<circle clip-path=\"url(#clip1302)\" style=\"fill:#000000; stroke:none; fill-opacity:1\" cx=\"1245.6\" cy=\"693.15\" r=\"18\"/>\n",
       "<circle clip-path=\"url(#clip1302)\" style=\"fill:#009af9; stroke:none; fill-opacity:1\" cx=\"1245.6\" cy=\"693.15\" r=\"14\"/>\n",
       "<circle clip-path=\"url(#clip1302)\" style=\"fill:#000000; stroke:none; fill-opacity:1\" cx=\"657.472\" cy=\"1233.01\" r=\"18\"/>\n",
       "<circle clip-path=\"url(#clip1302)\" style=\"fill:#009af9; stroke:none; fill-opacity:1\" cx=\"657.472\" cy=\"1233.01\" r=\"14\"/>\n",
       "<circle clip-path=\"url(#clip1302)\" style=\"fill:#000000; stroke:none; fill-opacity:1\" cx=\"1581.67\" cy=\"751.122\" r=\"18\"/>\n",
       "<circle clip-path=\"url(#clip1302)\" style=\"fill:#009af9; stroke:none; fill-opacity:1\" cx=\"1581.67\" cy=\"751.122\" r=\"14\"/>\n",
       "<circle clip-path=\"url(#clip1302)\" style=\"fill:#000000; stroke:none; fill-opacity:1\" cx=\"1396.13\" cy=\"721.748\" r=\"18\"/>\n",
       "<circle clip-path=\"url(#clip1302)\" style=\"fill:#009af9; stroke:none; fill-opacity:1\" cx=\"1396.13\" cy=\"721.748\" r=\"14\"/>\n",
       "<circle clip-path=\"url(#clip1302)\" style=\"fill:#000000; stroke:none; fill-opacity:1\" cx=\"902.526\" cy=\"1007.93\" r=\"18\"/>\n",
       "<circle clip-path=\"url(#clip1302)\" style=\"fill:#009af9; stroke:none; fill-opacity:1\" cx=\"902.526\" cy=\"1007.93\" r=\"14\"/>\n",
       "<circle clip-path=\"url(#clip1302)\" style=\"fill:#000000; stroke:none; fill-opacity:1\" cx=\"832.511\" cy=\"1136.44\" r=\"18\"/>\n",
       "<circle clip-path=\"url(#clip1302)\" style=\"fill:#009af9; stroke:none; fill-opacity:1\" cx=\"832.511\" cy=\"1136.44\" r=\"14\"/>\n",
       "<circle clip-path=\"url(#clip1302)\" style=\"fill:#000000; stroke:none; fill-opacity:1\" cx=\"1655.19\" cy=\"770.112\" r=\"18\"/>\n",
       "<circle clip-path=\"url(#clip1302)\" style=\"fill:#009af9; stroke:none; fill-opacity:1\" cx=\"1655.19\" cy=\"770.112\" r=\"14\"/>\n",
       "<circle clip-path=\"url(#clip1302)\" style=\"fill:#000000; stroke:none; fill-opacity:1\" cx=\"972.541\" cy=\"984.594\" r=\"18\"/>\n",
       "<circle clip-path=\"url(#clip1302)\" style=\"fill:#009af9; stroke:none; fill-opacity:1\" cx=\"972.541\" cy=\"984.594\" r=\"14\"/>\n",
       "<circle clip-path=\"url(#clip1302)\" style=\"fill:#000000; stroke:none; fill-opacity:1\" cx=\"1147.58\" cy=\"692.137\" r=\"18\"/>\n",
       "<circle clip-path=\"url(#clip1302)\" style=\"fill:#009af9; stroke:none; fill-opacity:1\" cx=\"1147.58\" cy=\"692.137\" r=\"14\"/>\n",
       "<circle clip-path=\"url(#clip1302)\" style=\"fill:#000000; stroke:none; fill-opacity:1\" cx=\"1497.66\" cy=\"726.487\" r=\"18\"/>\n",
       "<circle clip-path=\"url(#clip1302)\" style=\"fill:#009af9; stroke:none; fill-opacity:1\" cx=\"1497.66\" cy=\"726.487\" r=\"14\"/>\n",
       "<circle clip-path=\"url(#clip1302)\" style=\"fill:#000000; stroke:none; fill-opacity:1\" cx=\"815.007\" cy=\"1286.42\" r=\"18\"/>\n",
       "<circle clip-path=\"url(#clip1302)\" style=\"fill:#009af9; stroke:none; fill-opacity:1\" cx=\"815.007\" cy=\"1286.42\" r=\"14\"/>\n",
       "<circle clip-path=\"url(#clip1302)\" style=\"fill:#000000; stroke:none; fill-opacity:1\" cx=\"762.495\" cy=\"1172.82\" r=\"18\"/>\n",
       "<circle clip-path=\"url(#clip1302)\" style=\"fill:#009af9; stroke:none; fill-opacity:1\" cx=\"762.495\" cy=\"1172.82\" r=\"14\"/>\n",
       "<circle clip-path=\"url(#clip1302)\" style=\"fill:#000000; stroke:none; fill-opacity:1\" cx=\"1354.12\" cy=\"895.729\" r=\"18\"/>\n",
       "<circle clip-path=\"url(#clip1302)\" style=\"fill:#009af9; stroke:none; fill-opacity:1\" cx=\"1354.12\" cy=\"895.729\" r=\"14\"/>\n",
       "<circle clip-path=\"url(#clip1302)\" style=\"fill:#000000; stroke:none; fill-opacity:1\" cx=\"1462.65\" cy=\"759.857\" r=\"18\"/>\n",
       "<circle clip-path=\"url(#clip1302)\" style=\"fill:#009af9; stroke:none; fill-opacity:1\" cx=\"1462.65\" cy=\"759.857\" r=\"14\"/>\n",
       "<circle clip-path=\"url(#clip1302)\" style=\"fill:#000000; stroke:none; fill-opacity:1\" cx=\"1147.58\" cy=\"906.306\" r=\"18\"/>\n",
       "<circle clip-path=\"url(#clip1302)\" style=\"fill:#009af9; stroke:none; fill-opacity:1\" cx=\"1147.58\" cy=\"906.306\" r=\"14\"/>\n",
       "<circle clip-path=\"url(#clip1302)\" style=\"fill:#000000; stroke:none; fill-opacity:1\" cx=\"1245.6\" cy=\"898.102\" r=\"18\"/>\n",
       "<circle clip-path=\"url(#clip1302)\" style=\"fill:#009af9; stroke:none; fill-opacity:1\" cx=\"1245.6\" cy=\"898.102\" r=\"14\"/>\n",
       "<circle clip-path=\"url(#clip1302)\" style=\"fill:#000000; stroke:none; fill-opacity:1\" cx=\"552.45\" cy=\"1506.65\" r=\"18\"/>\n",
       "<circle clip-path=\"url(#clip1302)\" style=\"fill:#009af9; stroke:none; fill-opacity:1\" cx=\"552.45\" cy=\"1506.65\" r=\"14\"/>\n",
       "<circle clip-path=\"url(#clip1302)\" style=\"fill:#000000; stroke:none; fill-opacity:1\" cx=\"1305.11\" cy=\"733.891\" r=\"18\"/>\n",
       "<circle clip-path=\"url(#clip1302)\" style=\"fill:#009af9; stroke:none; fill-opacity:1\" cx=\"1305.11\" cy=\"733.891\" r=\"14\"/>\n",
       "<circle clip-path=\"url(#clip1302)\" style=\"fill:#000000; stroke:none; fill-opacity:1\" cx=\"1077.56\" cy=\"778.513\" r=\"18\"/>\n",
       "<circle clip-path=\"url(#clip1302)\" style=\"fill:#009af9; stroke:none; fill-opacity:1\" cx=\"1077.56\" cy=\"778.513\" r=\"14\"/>\n",
       "<circle clip-path=\"url(#clip1302)\" style=\"fill:#000000; stroke:none; fill-opacity:1\" cx=\"832.511\" cy=\"1049.32\" r=\"18\"/>\n",
       "<circle clip-path=\"url(#clip1302)\" style=\"fill:#009af9; stroke:none; fill-opacity:1\" cx=\"832.511\" cy=\"1049.32\" r=\"14\"/>\n",
       "<circle clip-path=\"url(#clip1302)\" style=\"fill:#000000; stroke:none; fill-opacity:1\" cx=\"797.503\" cy=\"1239.77\" r=\"18\"/>\n",
       "<circle clip-path=\"url(#clip1302)\" style=\"fill:#009af9; stroke:none; fill-opacity:1\" cx=\"797.503\" cy=\"1239.77\" r=\"14\"/>\n",
       "<circle clip-path=\"url(#clip1302)\" style=\"fill:#000000; stroke:none; fill-opacity:1\" cx=\"744.992\" cy=\"1232.52\" r=\"18\"/>\n",
       "<circle clip-path=\"url(#clip1302)\" style=\"fill:#009af9; stroke:none; fill-opacity:1\" cx=\"744.992\" cy=\"1232.52\" r=\"14\"/>\n",
       "<circle clip-path=\"url(#clip1302)\" style=\"fill:#000000; stroke:none; fill-opacity:1\" cx=\"1154.58\" cy=\"848.031\" r=\"18\"/>\n",
       "<circle clip-path=\"url(#clip1302)\" style=\"fill:#009af9; stroke:none; fill-opacity:1\" cx=\"1154.58\" cy=\"848.031\" r=\"14\"/>\n",
       "<circle clip-path=\"url(#clip1302)\" style=\"fill:#000000; stroke:none; fill-opacity:1\" cx=\"657.472\" cy=\"1288.24\" r=\"18\"/>\n",
       "<circle clip-path=\"url(#clip1302)\" style=\"fill:#009af9; stroke:none; fill-opacity:1\" cx=\"657.472\" cy=\"1288.24\" r=\"14\"/>\n",
       "<circle clip-path=\"url(#clip1302)\" style=\"fill:#000000; stroke:none; fill-opacity:1\" cx=\"657.472\" cy=\"1276.3\" r=\"18\"/>\n",
       "<circle clip-path=\"url(#clip1302)\" style=\"fill:#009af9; stroke:none; fill-opacity:1\" cx=\"657.472\" cy=\"1276.3\" r=\"14\"/>\n",
       "<circle clip-path=\"url(#clip1302)\" style=\"fill:#000000; stroke:none; fill-opacity:1\" cx=\"1322.62\" cy=\"723.749\" r=\"18\"/>\n",
       "<circle clip-path=\"url(#clip1302)\" style=\"fill:#009af9; stroke:none; fill-opacity:1\" cx=\"1322.62\" cy=\"723.749\" r=\"14\"/>\n",
       "<circle clip-path=\"url(#clip1302)\" style=\"fill:#000000; stroke:none; fill-opacity:1\" cx=\"839.512\" cy=\"1234.1\" r=\"18\"/>\n",
       "<circle clip-path=\"url(#clip1302)\" style=\"fill:#009af9; stroke:none; fill-opacity:1\" cx=\"839.512\" cy=\"1234.1\" r=\"14\"/>\n",
       "<circle clip-path=\"url(#clip1302)\" style=\"fill:#000000; stroke:none; fill-opacity:1\" cx=\"1007.55\" cy=\"875.295\" r=\"18\"/>\n",
       "<circle clip-path=\"url(#clip1302)\" style=\"fill:#009af9; stroke:none; fill-opacity:1\" cx=\"1007.55\" cy=\"875.295\" r=\"14\"/>\n",
       "<circle clip-path=\"url(#clip1302)\" style=\"fill:#000000; stroke:none; fill-opacity:1\" cx=\"1182.59\" cy=\"816.026\" r=\"18\"/>\n",
       "<circle clip-path=\"url(#clip1302)\" style=\"fill:#009af9; stroke:none; fill-opacity:1\" cx=\"1182.59\" cy=\"816.026\" r=\"14\"/>\n",
       "<circle clip-path=\"url(#clip1302)\" style=\"fill:#000000; stroke:none; fill-opacity:1\" cx=\"1081.07\" cy=\"896.454\" r=\"18\"/>\n",
       "<circle clip-path=\"url(#clip1302)\" style=\"fill:#009af9; stroke:none; fill-opacity:1\" cx=\"1081.07\" cy=\"896.454\" r=\"14\"/>\n",
       "<circle clip-path=\"url(#clip1302)\" style=\"fill:#000000; stroke:none; fill-opacity:1\" cx=\"1196.59\" cy=\"891.265\" r=\"18\"/>\n",
       "<circle clip-path=\"url(#clip1302)\" style=\"fill:#009af9; stroke:none; fill-opacity:1\" cx=\"1196.59\" cy=\"891.265\" r=\"14\"/>\n",
       "<circle clip-path=\"url(#clip1302)\" style=\"fill:#000000; stroke:none; fill-opacity:1\" cx=\"1042.56\" cy=\"843.18\" r=\"18\"/>\n",
       "<circle clip-path=\"url(#clip1302)\" style=\"fill:#009af9; stroke:none; fill-opacity:1\" cx=\"1042.56\" cy=\"843.18\" r=\"14\"/>\n",
       "<circle clip-path=\"url(#clip1302)\" style=\"fill:#000000; stroke:none; fill-opacity:1\" cx=\"1417.14\" cy=\"762.414\" r=\"18\"/>\n",
       "<circle clip-path=\"url(#clip1302)\" style=\"fill:#009af9; stroke:none; fill-opacity:1\" cx=\"1417.14\" cy=\"762.414\" r=\"14\"/>\n",
       "<circle clip-path=\"url(#clip1302)\" style=\"fill:#000000; stroke:none; fill-opacity:1\" cx=\"1252.6\" cy=\"755.295\" r=\"18\"/>\n",
       "<circle clip-path=\"url(#clip1302)\" style=\"fill:#009af9; stroke:none; fill-opacity:1\" cx=\"1252.6\" cy=\"755.295\" r=\"14\"/>\n",
       "<circle clip-path=\"url(#clip1302)\" style=\"fill:#000000; stroke:none; fill-opacity:1\" cx=\"983.044\" cy=\"929.833\" r=\"18\"/>\n",
       "<circle clip-path=\"url(#clip1302)\" style=\"fill:#009af9; stroke:none; fill-opacity:1\" cx=\"983.044\" cy=\"929.833\" r=\"14\"/>\n",
       "<circle clip-path=\"url(#clip1302)\" style=\"fill:#000000; stroke:none; fill-opacity:1\" cx=\"1277.11\" cy=\"990.953\" r=\"18\"/>\n",
       "<circle clip-path=\"url(#clip1302)\" style=\"fill:#009af9; stroke:none; fill-opacity:1\" cx=\"1277.11\" cy=\"990.953\" r=\"14\"/>\n",
       "<circle clip-path=\"url(#clip1302)\" style=\"fill:#000000; stroke:none; fill-opacity:1\" cx=\"692.48\" cy=\"1405.39\" r=\"18\"/>\n",
       "<circle clip-path=\"url(#clip1302)\" style=\"fill:#009af9; stroke:none; fill-opacity:1\" cx=\"692.48\" cy=\"1405.39\" r=\"14\"/>\n",
       "<circle clip-path=\"url(#clip1302)\" style=\"fill:#000000; stroke:none; fill-opacity:1\" cx=\"1396.13\" cy=\"729.379\" r=\"18\"/>\n",
       "<circle clip-path=\"url(#clip1302)\" style=\"fill:#009af9; stroke:none; fill-opacity:1\" cx=\"1396.13\" cy=\"729.379\" r=\"14\"/>\n",
       "<circle clip-path=\"url(#clip1302)\" style=\"fill:#000000; stroke:none; fill-opacity:1\" cx=\"1186.09\" cy=\"982.872\" r=\"18\"/>\n",
       "<circle clip-path=\"url(#clip1302)\" style=\"fill:#009af9; stroke:none; fill-opacity:1\" cx=\"1186.09\" cy=\"982.872\" r=\"14\"/>\n",
       "<circle clip-path=\"url(#clip1302)\" style=\"fill:#000000; stroke:none; fill-opacity:1\" cx=\"1182.59\" cy=\"825.033\" r=\"18\"/>\n",
       "<circle clip-path=\"url(#clip1302)\" style=\"fill:#009af9; stroke:none; fill-opacity:1\" cx=\"1182.59\" cy=\"825.033\" r=\"14\"/>\n",
       "<circle clip-path=\"url(#clip1302)\" style=\"fill:#000000; stroke:none; fill-opacity:1\" cx=\"1077.56\" cy=\"846.487\" r=\"18\"/>\n",
       "<circle clip-path=\"url(#clip1302)\" style=\"fill:#009af9; stroke:none; fill-opacity:1\" cx=\"1077.56\" cy=\"846.487\" r=\"14\"/>\n",
       "<circle clip-path=\"url(#clip1302)\" style=\"fill:#000000; stroke:none; fill-opacity:1\" cx=\"920.03\" cy=\"1019.6\" r=\"18\"/>\n",
       "<circle clip-path=\"url(#clip1302)\" style=\"fill:#009af9; stroke:none; fill-opacity:1\" cx=\"920.03\" cy=\"1019.6\" r=\"14\"/>\n",
       "<circle clip-path=\"url(#clip1302)\" style=\"fill:#000000; stroke:none; fill-opacity:1\" cx=\"692.48\" cy=\"1337.03\" r=\"18\"/>\n",
       "<circle clip-path=\"url(#clip1302)\" style=\"fill:#009af9; stroke:none; fill-opacity:1\" cx=\"692.48\" cy=\"1337.03\" r=\"14\"/>\n",
       "<circle clip-path=\"url(#clip1302)\" style=\"fill:#000000; stroke:none; fill-opacity:1\" cx=\"902.526\" cy=\"993.679\" r=\"18\"/>\n",
       "<circle clip-path=\"url(#clip1302)\" style=\"fill:#009af9; stroke:none; fill-opacity:1\" cx=\"902.526\" cy=\"993.679\" r=\"14\"/>\n",
       "<circle clip-path=\"url(#clip1302)\" style=\"fill:#000000; stroke:none; fill-opacity:1\" cx=\"832.511\" cy=\"1027.8\" r=\"18\"/>\n",
       "<circle clip-path=\"url(#clip1302)\" style=\"fill:#009af9; stroke:none; fill-opacity:1\" cx=\"832.511\" cy=\"1027.8\" r=\"14\"/>\n",
       "<circle clip-path=\"url(#clip1302)\" style=\"fill:#000000; stroke:none; fill-opacity:1\" cx=\"744.992\" cy=\"1348.2\" r=\"18\"/>\n",
       "<circle clip-path=\"url(#clip1302)\" style=\"fill:#009af9; stroke:none; fill-opacity:1\" cx=\"744.992\" cy=\"1348.2\" r=\"14\"/>\n",
       "<circle clip-path=\"url(#clip1302)\" style=\"fill:#000000; stroke:none; fill-opacity:1\" cx=\"1462.65\" cy=\"737.48\" r=\"18\"/>\n",
       "<circle clip-path=\"url(#clip1302)\" style=\"fill:#009af9; stroke:none; fill-opacity:1\" cx=\"1462.65\" cy=\"737.48\" r=\"14\"/>\n",
       "<circle clip-path=\"url(#clip1302)\" style=\"fill:#000000; stroke:none; fill-opacity:1\" cx=\"1375.13\" cy=\"867.157\" r=\"18\"/>\n",
       "<circle clip-path=\"url(#clip1302)\" style=\"fill:#009af9; stroke:none; fill-opacity:1\" cx=\"1375.13\" cy=\"867.157\" r=\"14\"/>\n",
       "<circle clip-path=\"url(#clip1302)\" style=\"fill:#000000; stroke:none; fill-opacity:1\" cx=\"1347.12\" cy=\"1026.49\" r=\"18\"/>\n",
       "<circle clip-path=\"url(#clip1302)\" style=\"fill:#009af9; stroke:none; fill-opacity:1\" cx=\"1347.12\" cy=\"1026.49\" r=\"14\"/>\n",
       "<circle clip-path=\"url(#clip1302)\" style=\"fill:#000000; stroke:none; fill-opacity:1\" cx=\"727.488\" cy=\"1424.84\" r=\"18\"/>\n",
       "<circle clip-path=\"url(#clip1302)\" style=\"fill:#009af9; stroke:none; fill-opacity:1\" cx=\"727.488\" cy=\"1424.84\" r=\"14\"/>\n",
       "<circle clip-path=\"url(#clip1302)\" style=\"fill:#000000; stroke:none; fill-opacity:1\" cx=\"1504.66\" cy=\"731.188\" r=\"18\"/>\n",
       "<circle clip-path=\"url(#clip1302)\" style=\"fill:#009af9; stroke:none; fill-opacity:1\" cx=\"1504.66\" cy=\"731.188\" r=\"14\"/>\n",
       "<circle clip-path=\"url(#clip1302)\" style=\"fill:#000000; stroke:none; fill-opacity:1\" cx=\"867.518\" cy=\"1114.58\" r=\"18\"/>\n",
       "<circle clip-path=\"url(#clip1302)\" style=\"fill:#009af9; stroke:none; fill-opacity:1\" cx=\"867.518\" cy=\"1114.58\" r=\"14\"/>\n",
       "<circle clip-path=\"url(#clip1302)\" style=\"fill:#000000; stroke:none; fill-opacity:1\" cx=\"1014.55\" cy=\"930.13\" r=\"18\"/>\n",
       "<circle clip-path=\"url(#clip1302)\" style=\"fill:#009af9; stroke:none; fill-opacity:1\" cx=\"1014.55\" cy=\"930.13\" r=\"14\"/>\n",
       "<circle clip-path=\"url(#clip1302)\" style=\"fill:#000000; stroke:none; fill-opacity:1\" cx=\"1154.58\" cy=\"832.893\" r=\"18\"/>\n",
       "<circle clip-path=\"url(#clip1302)\" style=\"fill:#009af9; stroke:none; fill-opacity:1\" cx=\"1154.58\" cy=\"832.893\" r=\"14\"/>\n",
       "<circle clip-path=\"url(#clip1302)\" style=\"fill:#000000; stroke:none; fill-opacity:1\" cx=\"1147.58\" cy=\"885.157\" r=\"18\"/>\n",
       "<circle clip-path=\"url(#clip1302)\" style=\"fill:#009af9; stroke:none; fill-opacity:1\" cx=\"1147.58\" cy=\"885.157\" r=\"14\"/>\n",
       "<circle clip-path=\"url(#clip1302)\" style=\"fill:#000000; stroke:none; fill-opacity:1\" cx=\"937.534\" cy=\"816.607\" r=\"18\"/>\n",
       "<circle clip-path=\"url(#clip1302)\" style=\"fill:#009af9; stroke:none; fill-opacity:1\" cx=\"937.534\" cy=\"816.607\" r=\"14\"/>\n",
       "<circle clip-path=\"url(#clip1302)\" style=\"fill:#000000; stroke:none; fill-opacity:1\" cx=\"832.511\" cy=\"1089.52\" r=\"18\"/>\n",
       "<circle clip-path=\"url(#clip1302)\" style=\"fill:#009af9; stroke:none; fill-opacity:1\" cx=\"832.511\" cy=\"1089.52\" r=\"14\"/>\n",
       "<circle clip-path=\"url(#clip1302)\" style=\"fill:#000000; stroke:none; fill-opacity:1\" cx=\"622.465\" cy=\"1538.78\" r=\"18\"/>\n",
       "<circle clip-path=\"url(#clip1302)\" style=\"fill:#009af9; stroke:none; fill-opacity:1\" cx=\"622.465\" cy=\"1538.78\" r=\"14\"/>\n",
       "<circle clip-path=\"url(#clip1302)\" style=\"fill:#000000; stroke:none; fill-opacity:1\" cx=\"1305.11\" cy=\"743.282\" r=\"18\"/>\n",
       "<circle clip-path=\"url(#clip1302)\" style=\"fill:#009af9; stroke:none; fill-opacity:1\" cx=\"1305.11\" cy=\"743.282\" r=\"14\"/>\n",
       "<circle clip-path=\"url(#clip1302)\" style=\"fill:#000000; stroke:none; fill-opacity:1\" cx=\"1042.56\" cy=\"772.11\" r=\"18\"/>\n",
       "<circle clip-path=\"url(#clip1302)\" style=\"fill:#009af9; stroke:none; fill-opacity:1\" cx=\"1042.56\" cy=\"772.11\" r=\"14\"/>\n",
       "<circle clip-path=\"url(#clip1302)\" style=\"fill:#000000; stroke:none; fill-opacity:1\" cx=\"1333.12\" cy=\"744.54\" r=\"18\"/>\n",
       "<circle clip-path=\"url(#clip1302)\" style=\"fill:#009af9; stroke:none; fill-opacity:1\" cx=\"1333.12\" cy=\"744.54\" r=\"14\"/>\n",
       "<circle clip-path=\"url(#clip1302)\" style=\"fill:#000000; stroke:none; fill-opacity:1\" cx=\"1112.57\" cy=\"770.774\" r=\"18\"/>\n",
       "<circle clip-path=\"url(#clip1302)\" style=\"fill:#009af9; stroke:none; fill-opacity:1\" cx=\"1112.57\" cy=\"770.774\" r=\"14\"/>\n",
       "<circle clip-path=\"url(#clip1302)\" style=\"fill:#000000; stroke:none; fill-opacity:1\" cx=\"657.472\" cy=\"1360.81\" r=\"18\"/>\n",
       "<circle clip-path=\"url(#clip1302)\" style=\"fill:#009af9; stroke:none; fill-opacity:1\" cx=\"657.472\" cy=\"1360.81\" r=\"14\"/>\n",
       "<circle clip-path=\"url(#clip1302)\" style=\"fill:#000000; stroke:none; fill-opacity:1\" cx=\"1532.66\" cy=\"729.825\" r=\"18\"/>\n",
       "<circle clip-path=\"url(#clip1302)\" style=\"fill:#009af9; stroke:none; fill-opacity:1\" cx=\"1532.66\" cy=\"729.825\" r=\"14\"/>\n",
       "<circle clip-path=\"url(#clip1302)\" style=\"fill:#000000; stroke:none; fill-opacity:1\" cx=\"1322.62\" cy=\"702.65\" r=\"18\"/>\n",
       "<circle clip-path=\"url(#clip1302)\" style=\"fill:#009af9; stroke:none; fill-opacity:1\" cx=\"1322.62\" cy=\"702.65\" r=\"14\"/>\n",
       "<circle clip-path=\"url(#clip1302)\" style=\"fill:#000000; stroke:none; fill-opacity:1\" cx=\"1406.64\" cy=\"735.831\" r=\"18\"/>\n",
       "<circle clip-path=\"url(#clip1302)\" style=\"fill:#009af9; stroke:none; fill-opacity:1\" cx=\"1406.64\" cy=\"735.831\" r=\"14\"/>\n",
       "<circle clip-path=\"url(#clip1302)\" style=\"fill:#000000; stroke:none; fill-opacity:1\" cx=\"727.488\" cy=\"1294.33\" r=\"18\"/>\n",
       "<circle clip-path=\"url(#clip1302)\" style=\"fill:#009af9; stroke:none; fill-opacity:1\" cx=\"727.488\" cy=\"1294.33\" r=\"14\"/>\n",
       "<circle clip-path=\"url(#clip1302)\" style=\"fill:#000000; stroke:none; fill-opacity:1\" cx=\"930.532\" cy=\"986.119\" r=\"18\"/>\n",
       "<circle clip-path=\"url(#clip1302)\" style=\"fill:#009af9; stroke:none; fill-opacity:1\" cx=\"930.532\" cy=\"986.119\" r=\"14\"/>\n",
       "<circle clip-path=\"url(#clip1302)\" style=\"fill:#000000; stroke:none; fill-opacity:1\" cx=\"986.544\" cy=\"1089.15\" r=\"18\"/>\n",
       "<circle clip-path=\"url(#clip1302)\" style=\"fill:#009af9; stroke:none; fill-opacity:1\" cx=\"986.544\" cy=\"1089.15\" r=\"14\"/>\n",
       "<circle clip-path=\"url(#clip1302)\" style=\"fill:#000000; stroke:none; fill-opacity:1\" cx=\"1007.55\" cy=\"860.27\" r=\"18\"/>\n",
       "<circle clip-path=\"url(#clip1302)\" style=\"fill:#009af9; stroke:none; fill-opacity:1\" cx=\"1007.55\" cy=\"860.27\" r=\"14\"/>\n",
       "<circle clip-path=\"url(#clip1302)\" style=\"fill:#000000; stroke:none; fill-opacity:1\" cx=\"902.526\" cy=\"874.17\" r=\"18\"/>\n",
       "<circle clip-path=\"url(#clip1302)\" style=\"fill:#009af9; stroke:none; fill-opacity:1\" cx=\"902.526\" cy=\"874.17\" r=\"14\"/>\n",
       "<circle clip-path=\"url(#clip1302)\" style=\"fill:#000000; stroke:none; fill-opacity:1\" cx=\"517.442\" cy=\"1497.23\" r=\"18\"/>\n",
       "<circle clip-path=\"url(#clip1302)\" style=\"fill:#009af9; stroke:none; fill-opacity:1\" cx=\"517.442\" cy=\"1497.23\" r=\"14\"/>\n",
       "<circle clip-path=\"url(#clip1302)\" style=\"fill:#000000; stroke:none; fill-opacity:1\" cx=\"902.526\" cy=\"1118.44\" r=\"18\"/>\n",
       "<circle clip-path=\"url(#clip1302)\" style=\"fill:#009af9; stroke:none; fill-opacity:1\" cx=\"902.526\" cy=\"1118.44\" r=\"14\"/>\n",
       "<circle clip-path=\"url(#clip1302)\" style=\"fill:#000000; stroke:none; fill-opacity:1\" cx=\"1077.56\" cy=\"888.16\" r=\"18\"/>\n",
       "<circle clip-path=\"url(#clip1302)\" style=\"fill:#009af9; stroke:none; fill-opacity:1\" cx=\"1077.56\" cy=\"888.16\" r=\"14\"/>\n",
       "<circle clip-path=\"url(#clip1302)\" style=\"fill:#000000; stroke:none; fill-opacity:1\" cx=\"909.528\" cy=\"1031.97\" r=\"18\"/>\n",
       "<circle clip-path=\"url(#clip1302)\" style=\"fill:#009af9; stroke:none; fill-opacity:1\" cx=\"909.528\" cy=\"1031.97\" r=\"14\"/>\n",
       "<circle clip-path=\"url(#clip1302)\" style=\"fill:#000000; stroke:none; fill-opacity:1\" cx=\"990.045\" cy=\"998.224\" r=\"18\"/>\n",
       "<circle clip-path=\"url(#clip1302)\" style=\"fill:#009af9; stroke:none; fill-opacity:1\" cx=\"990.045\" cy=\"998.224\" r=\"14\"/>\n",
       "<circle clip-path=\"url(#clip1302)\" style=\"fill:#000000; stroke:none; fill-opacity:1\" cx=\"937.534\" cy=\"1019.17\" r=\"18\"/>\n",
       "<circle clip-path=\"url(#clip1302)\" style=\"fill:#009af9; stroke:none; fill-opacity:1\" cx=\"937.534\" cy=\"1019.17\" r=\"14\"/>\n",
       "<circle clip-path=\"url(#clip1302)\" style=\"fill:#000000; stroke:none; fill-opacity:1\" cx=\"1147.58\" cy=\"786.712\" r=\"18\"/>\n",
       "<circle clip-path=\"url(#clip1302)\" style=\"fill:#009af9; stroke:none; fill-opacity:1\" cx=\"1147.58\" cy=\"786.712\" r=\"14\"/>\n",
       "<circle clip-path=\"url(#clip1302)\" style=\"fill:#000000; stroke:none; fill-opacity:1\" cx=\"1252.6\" cy=\"778.815\" r=\"18\"/>\n",
       "<circle clip-path=\"url(#clip1302)\" style=\"fill:#009af9; stroke:none; fill-opacity:1\" cx=\"1252.6\" cy=\"778.815\" r=\"14\"/>\n",
       "<circle clip-path=\"url(#clip1302)\" style=\"fill:#000000; stroke:none; fill-opacity:1\" cx=\"1508.16\" cy=\"756.166\" r=\"18\"/>\n",
       "<circle clip-path=\"url(#clip1302)\" style=\"fill:#009af9; stroke:none; fill-opacity:1\" cx=\"1508.16\" cy=\"756.166\" r=\"14\"/>\n",
       "<circle clip-path=\"url(#clip1302)\" style=\"fill:#000000; stroke:none; fill-opacity:1\" cx=\"1630.69\" cy=\"751.063\" r=\"18\"/>\n",
       "<circle clip-path=\"url(#clip1302)\" style=\"fill:#009af9; stroke:none; fill-opacity:1\" cx=\"1630.69\" cy=\"751.063\" r=\"14\"/>\n",
       "<circle clip-path=\"url(#clip1302)\" style=\"fill:#000000; stroke:none; fill-opacity:1\" cx=\"1091.57\" cy=\"1000.14\" r=\"18\"/>\n",
       "<circle clip-path=\"url(#clip1302)\" style=\"fill:#009af9; stroke:none; fill-opacity:1\" cx=\"1091.57\" cy=\"1000.14\" r=\"14\"/>\n",
       "<circle clip-path=\"url(#clip1302)\" style=\"fill:#000000; stroke:none; fill-opacity:1\" cx=\"874.52\" cy=\"1106.95\" r=\"18\"/>\n",
       "<circle clip-path=\"url(#clip1302)\" style=\"fill:#009af9; stroke:none; fill-opacity:1\" cx=\"874.52\" cy=\"1106.95\" r=\"14\"/>\n",
       "<circle clip-path=\"url(#clip1302)\" style=\"fill:#000000; stroke:none; fill-opacity:1\" cx=\"1112.57\" cy=\"815.886\" r=\"18\"/>\n",
       "<circle clip-path=\"url(#clip1302)\" style=\"fill:#009af9; stroke:none; fill-opacity:1\" cx=\"1112.57\" cy=\"815.886\" r=\"14\"/>\n",
       "<circle clip-path=\"url(#clip1302)\" style=\"fill:#000000; stroke:none; fill-opacity:1\" cx=\"913.028\" cy=\"955.557\" r=\"18\"/>\n",
       "<circle clip-path=\"url(#clip1302)\" style=\"fill:#009af9; stroke:none; fill-opacity:1\" cx=\"913.028\" cy=\"955.557\" r=\"14\"/>\n",
       "<circle clip-path=\"url(#clip1302)\" style=\"fill:#000000; stroke:none; fill-opacity:1\" cx=\"1126.58\" cy=\"927.063\" r=\"18\"/>\n",
       "<circle clip-path=\"url(#clip1302)\" style=\"fill:#009af9; stroke:none; fill-opacity:1\" cx=\"1126.58\" cy=\"927.063\" r=\"14\"/>\n",
       "<circle clip-path=\"url(#clip1302)\" style=\"fill:#000000; stroke:none; fill-opacity:1\" cx=\"1385.63\" cy=\"759.464\" r=\"18\"/>\n",
       "<circle clip-path=\"url(#clip1302)\" style=\"fill:#009af9; stroke:none; fill-opacity:1\" cx=\"1385.63\" cy=\"759.464\" r=\"14\"/>\n",
       "<circle clip-path=\"url(#clip1302)\" style=\"fill:#000000; stroke:none; fill-opacity:1\" cx=\"1763.71\" cy=\"700.474\" r=\"18\"/>\n",
       "<circle clip-path=\"url(#clip1302)\" style=\"fill:#009af9; stroke:none; fill-opacity:1\" cx=\"1763.71\" cy=\"700.474\" r=\"14\"/>\n",
       "<circle clip-path=\"url(#clip1302)\" style=\"fill:#000000; stroke:none; fill-opacity:1\" cx=\"1217.6\" cy=\"774.917\" r=\"18\"/>\n",
       "<circle clip-path=\"url(#clip1302)\" style=\"fill:#009af9; stroke:none; fill-opacity:1\" cx=\"1217.6\" cy=\"774.917\" r=\"14\"/>\n",
       "<circle clip-path=\"url(#clip1302)\" style=\"fill:#000000; stroke:none; fill-opacity:1\" cx=\"972.541\" cy=\"952.798\" r=\"18\"/>\n",
       "<circle clip-path=\"url(#clip1302)\" style=\"fill:#009af9; stroke:none; fill-opacity:1\" cx=\"972.541\" cy=\"952.798\" r=\"14\"/>\n",
       "<circle clip-path=\"url(#clip1302)\" style=\"fill:#000000; stroke:none; fill-opacity:1\" cx=\"1329.62\" cy=\"791.367\" r=\"18\"/>\n",
       "<circle clip-path=\"url(#clip1302)\" style=\"fill:#009af9; stroke:none; fill-opacity:1\" cx=\"1329.62\" cy=\"791.367\" r=\"14\"/>\n",
       "<circle clip-path=\"url(#clip1302)\" style=\"fill:#000000; stroke:none; fill-opacity:1\" cx=\"744.992\" cy=\"1411.22\" r=\"18\"/>\n",
       "<circle clip-path=\"url(#clip1302)\" style=\"fill:#009af9; stroke:none; fill-opacity:1\" cx=\"744.992\" cy=\"1411.22\" r=\"14\"/>\n",
       "<circle clip-path=\"url(#clip1302)\" style=\"fill:#000000; stroke:none; fill-opacity:1\" cx=\"1833.73\" cy=\"749.601\" r=\"18\"/>\n",
       "<circle clip-path=\"url(#clip1302)\" style=\"fill:#009af9; stroke:none; fill-opacity:1\" cx=\"1833.73\" cy=\"749.601\" r=\"14\"/>\n",
       "<circle clip-path=\"url(#clip1302)\" style=\"fill:#000000; stroke:none; fill-opacity:1\" cx=\"727.488\" cy=\"1174.43\" r=\"18\"/>\n",
       "<circle clip-path=\"url(#clip1302)\" style=\"fill:#009af9; stroke:none; fill-opacity:1\" cx=\"727.488\" cy=\"1174.43\" r=\"14\"/>\n",
       "<circle clip-path=\"url(#clip1302)\" style=\"fill:#000000; stroke:none; fill-opacity:1\" cx=\"1182.59\" cy=\"846.047\" r=\"18\"/>\n",
       "<circle clip-path=\"url(#clip1302)\" style=\"fill:#009af9; stroke:none; fill-opacity:1\" cx=\"1182.59\" cy=\"846.047\" r=\"14\"/>\n",
       "<circle clip-path=\"url(#clip1302)\" style=\"fill:#000000; stroke:none; fill-opacity:1\" cx=\"881.522\" cy=\"1222.47\" r=\"18\"/>\n",
       "<circle clip-path=\"url(#clip1302)\" style=\"fill:#009af9; stroke:none; fill-opacity:1\" cx=\"881.522\" cy=\"1222.47\" r=\"14\"/>\n",
       "<circle clip-path=\"url(#clip1302)\" style=\"fill:#000000; stroke:none; fill-opacity:1\" cx=\"762.495\" cy=\"1297.84\" r=\"18\"/>\n",
       "<circle clip-path=\"url(#clip1302)\" style=\"fill:#009af9; stroke:none; fill-opacity:1\" cx=\"762.495\" cy=\"1297.84\" r=\"14\"/>\n",
       "<circle clip-path=\"url(#clip1302)\" style=\"fill:#000000; stroke:none; fill-opacity:1\" cx=\"1427.64\" cy=\"664.767\" r=\"18\"/>\n",
       "<circle clip-path=\"url(#clip1302)\" style=\"fill:#009af9; stroke:none; fill-opacity:1\" cx=\"1427.64\" cy=\"664.767\" r=\"14\"/>\n",
       "<circle clip-path=\"url(#clip1302)\" style=\"fill:#000000; stroke:none; fill-opacity:1\" cx=\"895.525\" cy=\"973.117\" r=\"18\"/>\n",
       "<circle clip-path=\"url(#clip1302)\" style=\"fill:#009af9; stroke:none; fill-opacity:1\" cx=\"895.525\" cy=\"973.117\" r=\"14\"/>\n",
       "<circle clip-path=\"url(#clip1302)\" style=\"fill:#000000; stroke:none; fill-opacity:1\" cx=\"1077.56\" cy=\"775.869\" r=\"18\"/>\n",
       "<circle clip-path=\"url(#clip1302)\" style=\"fill:#009af9; stroke:none; fill-opacity:1\" cx=\"1077.56\" cy=\"775.869\" r=\"14\"/>\n",
       "<circle clip-path=\"url(#clip1302)\" style=\"fill:#000000; stroke:none; fill-opacity:1\" cx=\"1112.57\" cy=\"693.069\" r=\"18\"/>\n",
       "<circle clip-path=\"url(#clip1302)\" style=\"fill:#009af9; stroke:none; fill-opacity:1\" cx=\"1112.57\" cy=\"693.069\" r=\"14\"/>\n",
       "<circle clip-path=\"url(#clip1302)\" style=\"fill:#000000; stroke:none; fill-opacity:1\" cx=\"727.488\" cy=\"984.813\" r=\"18\"/>\n",
       "<circle clip-path=\"url(#clip1302)\" style=\"fill:#009af9; stroke:none; fill-opacity:1\" cx=\"727.488\" cy=\"984.813\" r=\"14\"/>\n",
       "<circle clip-path=\"url(#clip1302)\" style=\"fill:#000000; stroke:none; fill-opacity:1\" cx=\"1217.6\" cy=\"680.753\" r=\"18\"/>\n",
       "<circle clip-path=\"url(#clip1302)\" style=\"fill:#009af9; stroke:none; fill-opacity:1\" cx=\"1217.6\" cy=\"680.753\" r=\"14\"/>\n",
       "<circle clip-path=\"url(#clip1302)\" style=\"fill:#000000; stroke:none; fill-opacity:1\" cx=\"692.48\" cy=\"1445.39\" r=\"18\"/>\n",
       "<circle clip-path=\"url(#clip1302)\" style=\"fill:#009af9; stroke:none; fill-opacity:1\" cx=\"692.48\" cy=\"1445.39\" r=\"14\"/>\n",
       "<circle clip-path=\"url(#clip1302)\" style=\"fill:#000000; stroke:none; fill-opacity:1\" cx=\"1287.61\" cy=\"642.226\" r=\"18\"/>\n",
       "<circle clip-path=\"url(#clip1302)\" style=\"fill:#009af9; stroke:none; fill-opacity:1\" cx=\"1287.61\" cy=\"642.226\" r=\"14\"/>\n",
       "<circle clip-path=\"url(#clip1302)\" style=\"fill:#000000; stroke:none; fill-opacity:1\" cx=\"1165.08\" cy=\"876.977\" r=\"18\"/>\n",
       "<circle clip-path=\"url(#clip1302)\" style=\"fill:#009af9; stroke:none; fill-opacity:1\" cx=\"1165.08\" cy=\"876.977\" r=\"14\"/>\n",
       "<circle clip-path=\"url(#clip1302)\" style=\"fill:#000000; stroke:none; fill-opacity:1\" cx=\"937.534\" cy=\"914.747\" r=\"18\"/>\n",
       "<circle clip-path=\"url(#clip1302)\" style=\"fill:#009af9; stroke:none; fill-opacity:1\" cx=\"937.534\" cy=\"914.747\" r=\"14\"/>\n",
       "<circle clip-path=\"url(#clip1302)\" style=\"fill:#000000; stroke:none; fill-opacity:1\" cx=\"1536.16\" cy=\"716.468\" r=\"18\"/>\n",
       "<circle clip-path=\"url(#clip1302)\" style=\"fill:#009af9; stroke:none; fill-opacity:1\" cx=\"1536.16\" cy=\"716.468\" r=\"14\"/>\n",
       "<circle clip-path=\"url(#clip1302)\" style=\"fill:#000000; stroke:none; fill-opacity:1\" cx=\"1147.58\" cy=\"792.789\" r=\"18\"/>\n",
       "<circle clip-path=\"url(#clip1302)\" style=\"fill:#009af9; stroke:none; fill-opacity:1\" cx=\"1147.58\" cy=\"792.789\" r=\"14\"/>\n",
       "<circle clip-path=\"url(#clip1302)\" style=\"fill:#000000; stroke:none; fill-opacity:1\" cx=\"1462.65\" cy=\"822.933\" r=\"18\"/>\n",
       "<circle clip-path=\"url(#clip1302)\" style=\"fill:#009af9; stroke:none; fill-opacity:1\" cx=\"1462.65\" cy=\"822.933\" r=\"14\"/>\n",
       "<circle clip-path=\"url(#clip1302)\" style=\"fill:#000000; stroke:none; fill-opacity:1\" cx=\"1287.61\" cy=\"865.652\" r=\"18\"/>\n",
       "<circle clip-path=\"url(#clip1302)\" style=\"fill:#009af9; stroke:none; fill-opacity:1\" cx=\"1287.61\" cy=\"865.652\" r=\"14\"/>\n",
       "<circle clip-path=\"url(#clip1302)\" style=\"fill:#000000; stroke:none; fill-opacity:1\" cx=\"1039.06\" cy=\"852.41\" r=\"18\"/>\n",
       "<circle clip-path=\"url(#clip1302)\" style=\"fill:#009af9; stroke:none; fill-opacity:1\" cx=\"1039.06\" cy=\"852.41\" r=\"14\"/>\n",
       "<circle clip-path=\"url(#clip1302)\" style=\"fill:#000000; stroke:none; fill-opacity:1\" cx=\"909.528\" cy=\"965.812\" r=\"18\"/>\n",
       "<circle clip-path=\"url(#clip1302)\" style=\"fill:#009af9; stroke:none; fill-opacity:1\" cx=\"909.528\" cy=\"965.812\" r=\"14\"/>\n",
       "<circle clip-path=\"url(#clip1302)\" style=\"fill:#000000; stroke:none; fill-opacity:1\" cx=\"867.518\" cy=\"1037.33\" r=\"18\"/>\n",
       "<circle clip-path=\"url(#clip1302)\" style=\"fill:#009af9; stroke:none; fill-opacity:1\" cx=\"867.518\" cy=\"1037.33\" r=\"14\"/>\n",
       "<circle clip-path=\"url(#clip1302)\" style=\"fill:#000000; stroke:none; fill-opacity:1\" cx=\"762.495\" cy=\"1050.44\" r=\"18\"/>\n",
       "<circle clip-path=\"url(#clip1302)\" style=\"fill:#009af9; stroke:none; fill-opacity:1\" cx=\"762.495\" cy=\"1050.44\" r=\"14\"/>\n",
       "<circle clip-path=\"url(#clip1302)\" style=\"fill:#000000; stroke:none; fill-opacity:1\" cx=\"1112.57\" cy=\"723.063\" r=\"18\"/>\n",
       "<circle clip-path=\"url(#clip1302)\" style=\"fill:#009af9; stroke:none; fill-opacity:1\" cx=\"1112.57\" cy=\"723.063\" r=\"14\"/>\n",
       "<circle clip-path=\"url(#clip1302)\" style=\"fill:#000000; stroke:none; fill-opacity:1\" cx=\"1462.65\" cy=\"792.401\" r=\"18\"/>\n",
       "<circle clip-path=\"url(#clip1302)\" style=\"fill:#009af9; stroke:none; fill-opacity:1\" cx=\"1462.65\" cy=\"792.401\" r=\"14\"/>\n",
       "<circle clip-path=\"url(#clip1302)\" style=\"fill:#000000; stroke:none; fill-opacity:1\" cx=\"1042.56\" cy=\"919.279\" r=\"18\"/>\n",
       "<circle clip-path=\"url(#clip1302)\" style=\"fill:#009af9; stroke:none; fill-opacity:1\" cx=\"1042.56\" cy=\"919.279\" r=\"14\"/>\n",
       "<circle clip-path=\"url(#clip1302)\" style=\"fill:#000000; stroke:none; fill-opacity:1\" cx=\"867.518\" cy=\"978.783\" r=\"18\"/>\n",
       "<circle clip-path=\"url(#clip1302)\" style=\"fill:#009af9; stroke:none; fill-opacity:1\" cx=\"867.518\" cy=\"978.783\" r=\"14\"/>\n",
       "<circle clip-path=\"url(#clip1302)\" style=\"fill:#000000; stroke:none; fill-opacity:1\" cx=\"1392.63\" cy=\"781.528\" r=\"18\"/>\n",
       "<circle clip-path=\"url(#clip1302)\" style=\"fill:#009af9; stroke:none; fill-opacity:1\" cx=\"1392.63\" cy=\"781.528\" r=\"14\"/>\n",
       "<circle clip-path=\"url(#clip1302)\" style=\"fill:#000000; stroke:none; fill-opacity:1\" cx=\"923.531\" cy=\"1079.9\" r=\"18\"/>\n",
       "<circle clip-path=\"url(#clip1302)\" style=\"fill:#009af9; stroke:none; fill-opacity:1\" cx=\"923.531\" cy=\"1079.9\" r=\"14\"/>\n",
       "<circle clip-path=\"url(#clip1302)\" style=\"fill:#000000; stroke:none; fill-opacity:1\" cx=\"727.488\" cy=\"1319.7\" r=\"18\"/>\n",
       "<circle clip-path=\"url(#clip1302)\" style=\"fill:#009af9; stroke:none; fill-opacity:1\" cx=\"727.488\" cy=\"1319.7\" r=\"14\"/>\n",
       "<circle clip-path=\"url(#clip1302)\" style=\"fill:#000000; stroke:none; fill-opacity:1\" cx=\"622.465\" cy=\"1387.86\" r=\"18\"/>\n",
       "<circle clip-path=\"url(#clip1302)\" style=\"fill:#009af9; stroke:none; fill-opacity:1\" cx=\"622.465\" cy=\"1387.86\" r=\"14\"/>\n",
       "<circle clip-path=\"url(#clip1302)\" style=\"fill:#000000; stroke:none; fill-opacity:1\" cx=\"762.495\" cy=\"1141.72\" r=\"18\"/>\n",
       "<circle clip-path=\"url(#clip1302)\" style=\"fill:#009af9; stroke:none; fill-opacity:1\" cx=\"762.495\" cy=\"1141.72\" r=\"14\"/>\n",
       "<circle clip-path=\"url(#clip1302)\" style=\"fill:#000000; stroke:none; fill-opacity:1\" cx=\"850.015\" cy=\"1276.4\" r=\"18\"/>\n",
       "<circle clip-path=\"url(#clip1302)\" style=\"fill:#009af9; stroke:none; fill-opacity:1\" cx=\"850.015\" cy=\"1276.4\" r=\"14\"/>\n",
       "<circle clip-path=\"url(#clip1302)\" style=\"fill:#000000; stroke:none; fill-opacity:1\" cx=\"1112.57\" cy=\"786.582\" r=\"18\"/>\n",
       "<circle clip-path=\"url(#clip1302)\" style=\"fill:#009af9; stroke:none; fill-opacity:1\" cx=\"1112.57\" cy=\"786.582\" r=\"14\"/>\n",
       "<circle clip-path=\"url(#clip1302)\" style=\"fill:#000000; stroke:none; fill-opacity:1\" cx=\"832.511\" cy=\"1001.55\" r=\"18\"/>\n",
       "<circle clip-path=\"url(#clip1302)\" style=\"fill:#009af9; stroke:none; fill-opacity:1\" cx=\"832.511\" cy=\"1001.55\" r=\"14\"/>\n",
       "<circle clip-path=\"url(#clip1302)\" style=\"fill:#000000; stroke:none; fill-opacity:1\" cx=\"832.511\" cy=\"773.364\" r=\"18\"/>\n",
       "<circle clip-path=\"url(#clip1302)\" style=\"fill:#009af9; stroke:none; fill-opacity:1\" cx=\"832.511\" cy=\"773.364\" r=\"14\"/>\n",
       "<circle clip-path=\"url(#clip1302)\" style=\"fill:#000000; stroke:none; fill-opacity:1\" cx=\"1252.6\" cy=\"967.144\" r=\"18\"/>\n",
       "<circle clip-path=\"url(#clip1302)\" style=\"fill:#009af9; stroke:none; fill-opacity:1\" cx=\"1252.6\" cy=\"967.144\" r=\"14\"/>\n",
       "<circle clip-path=\"url(#clip1302)\" style=\"fill:#000000; stroke:none; fill-opacity:1\" cx=\"1217.6\" cy=\"797.245\" r=\"18\"/>\n",
       "<circle clip-path=\"url(#clip1302)\" style=\"fill:#009af9; stroke:none; fill-opacity:1\" cx=\"1217.6\" cy=\"797.245\" r=\"14\"/>\n",
       "<circle clip-path=\"url(#clip1302)\" style=\"fill:#000000; stroke:none; fill-opacity:1\" cx=\"972.541\" cy=\"955.774\" r=\"18\"/>\n",
       "<circle clip-path=\"url(#clip1302)\" style=\"fill:#009af9; stroke:none; fill-opacity:1\" cx=\"972.541\" cy=\"955.774\" r=\"14\"/>\n",
       "<circle clip-path=\"url(#clip1302)\" style=\"fill:#000000; stroke:none; fill-opacity:1\" cx=\"1039.06\" cy=\"1093.47\" r=\"18\"/>\n",
       "<circle clip-path=\"url(#clip1302)\" style=\"fill:#009af9; stroke:none; fill-opacity:1\" cx=\"1039.06\" cy=\"1093.47\" r=\"14\"/>\n",
       "<circle clip-path=\"url(#clip1302)\" style=\"fill:#000000; stroke:none; fill-opacity:1\" cx=\"1007.55\" cy=\"902.353\" r=\"18\"/>\n",
       "<circle clip-path=\"url(#clip1302)\" style=\"fill:#009af9; stroke:none; fill-opacity:1\" cx=\"1007.55\" cy=\"902.353\" r=\"14\"/>\n",
       "<circle clip-path=\"url(#clip1302)\" style=\"fill:#000000; stroke:none; fill-opacity:1\" cx=\"1319.12\" cy=\"720.932\" r=\"18\"/>\n",
       "<circle clip-path=\"url(#clip1302)\" style=\"fill:#009af9; stroke:none; fill-opacity:1\" cx=\"1319.12\" cy=\"720.932\" r=\"14\"/>\n",
       "<circle clip-path=\"url(#clip1302)\" style=\"fill:#000000; stroke:none; fill-opacity:1\" cx=\"692.48\" cy=\"1225.04\" r=\"18\"/>\n",
       "<circle clip-path=\"url(#clip1302)\" style=\"fill:#009af9; stroke:none; fill-opacity:1\" cx=\"692.48\" cy=\"1225.04\" r=\"14\"/>\n",
       "<circle clip-path=\"url(#clip1302)\" style=\"fill:#000000; stroke:none; fill-opacity:1\" cx=\"850.015\" cy=\"1093.72\" r=\"18\"/>\n",
       "<circle clip-path=\"url(#clip1302)\" style=\"fill:#009af9; stroke:none; fill-opacity:1\" cx=\"850.015\" cy=\"1093.72\" r=\"14\"/>\n",
       "<circle clip-path=\"url(#clip1302)\" style=\"fill:#000000; stroke:none; fill-opacity:1\" cx=\"762.495\" cy=\"1441.1\" r=\"18\"/>\n",
       "<circle clip-path=\"url(#clip1302)\" style=\"fill:#009af9; stroke:none; fill-opacity:1\" cx=\"762.495\" cy=\"1441.1\" r=\"14\"/>\n",
       "<circle clip-path=\"url(#clip1302)\" style=\"fill:#000000; stroke:none; fill-opacity:1\" cx=\"1217.6\" cy=\"721.527\" r=\"18\"/>\n",
       "<circle clip-path=\"url(#clip1302)\" style=\"fill:#009af9; stroke:none; fill-opacity:1\" cx=\"1217.6\" cy=\"721.527\" r=\"14\"/>\n",
       "<circle clip-path=\"url(#clip1302)\" style=\"fill:#000000; stroke:none; fill-opacity:1\" cx=\"937.534\" cy=\"803.567\" r=\"18\"/>\n",
       "<circle clip-path=\"url(#clip1302)\" style=\"fill:#009af9; stroke:none; fill-opacity:1\" cx=\"937.534\" cy=\"803.567\" r=\"14\"/>\n",
       "<circle clip-path=\"url(#clip1302)\" style=\"fill:#000000; stroke:none; fill-opacity:1\" cx=\"1095.07\" cy=\"904.953\" r=\"18\"/>\n",
       "<circle clip-path=\"url(#clip1302)\" style=\"fill:#009af9; stroke:none; fill-opacity:1\" cx=\"1095.07\" cy=\"904.953\" r=\"14\"/>\n",
       "<circle clip-path=\"url(#clip1302)\" style=\"fill:#000000; stroke:none; fill-opacity:1\" cx=\"832.511\" cy=\"1181.22\" r=\"18\"/>\n",
       "<circle clip-path=\"url(#clip1302)\" style=\"fill:#009af9; stroke:none; fill-opacity:1\" cx=\"832.511\" cy=\"1181.22\" r=\"14\"/>\n",
       "<circle clip-path=\"url(#clip1302)\" style=\"fill:#000000; stroke:none; fill-opacity:1\" cx=\"1182.59\" cy=\"772.429\" r=\"18\"/>\n",
       "<circle clip-path=\"url(#clip1302)\" style=\"fill:#009af9; stroke:none; fill-opacity:1\" cx=\"1182.59\" cy=\"772.429\" r=\"14\"/>\n",
       "<circle clip-path=\"url(#clip1302)\" style=\"fill:#000000; stroke:none; fill-opacity:1\" cx=\"1315.62\" cy=\"734.528\" r=\"18\"/>\n",
       "<circle clip-path=\"url(#clip1302)\" style=\"fill:#009af9; stroke:none; fill-opacity:1\" cx=\"1315.62\" cy=\"734.528\" r=\"14\"/>\n",
       "<circle clip-path=\"url(#clip1302)\" style=\"fill:#000000; stroke:none; fill-opacity:1\" cx=\"1032.05\" cy=\"842.785\" r=\"18\"/>\n",
       "<circle clip-path=\"url(#clip1302)\" style=\"fill:#009af9; stroke:none; fill-opacity:1\" cx=\"1032.05\" cy=\"842.785\" r=\"14\"/>\n",
       "<circle clip-path=\"url(#clip1302)\" style=\"fill:#000000; stroke:none; fill-opacity:1\" cx=\"1375.13\" cy=\"770.112\" r=\"18\"/>\n",
       "<circle clip-path=\"url(#clip1302)\" style=\"fill:#009af9; stroke:none; fill-opacity:1\" cx=\"1375.13\" cy=\"770.112\" r=\"14\"/>\n",
       "<circle clip-path=\"url(#clip1302)\" style=\"fill:#000000; stroke:none; fill-opacity:1\" cx=\"832.511\" cy=\"986.867\" r=\"18\"/>\n",
       "<circle clip-path=\"url(#clip1302)\" style=\"fill:#009af9; stroke:none; fill-opacity:1\" cx=\"832.511\" cy=\"986.867\" r=\"14\"/>\n",
       "<circle clip-path=\"url(#clip1302)\" style=\"fill:#000000; stroke:none; fill-opacity:1\" cx=\"1287.61\" cy=\"891.11\" r=\"18\"/>\n",
       "<circle clip-path=\"url(#clip1302)\" style=\"fill:#009af9; stroke:none; fill-opacity:1\" cx=\"1287.61\" cy=\"891.11\" r=\"14\"/>\n",
       "<circle clip-path=\"url(#clip1302)\" style=\"fill:#000000; stroke:none; fill-opacity:1\" cx=\"587.457\" cy=\"1472.03\" r=\"18\"/>\n",
       "<circle clip-path=\"url(#clip1302)\" style=\"fill:#009af9; stroke:none; fill-opacity:1\" cx=\"587.457\" cy=\"1472.03\" r=\"14\"/>\n",
       "<circle clip-path=\"url(#clip1302)\" style=\"fill:#000000; stroke:none; fill-opacity:1\" cx=\"1431.14\" cy=\"675.142\" r=\"18\"/>\n",
       "<circle clip-path=\"url(#clip1302)\" style=\"fill:#009af9; stroke:none; fill-opacity:1\" cx=\"1431.14\" cy=\"675.142\" r=\"14\"/>\n",
       "<circle clip-path=\"url(#clip1302)\" style=\"fill:#000000; stroke:none; fill-opacity:1\" cx=\"1252.6\" cy=\"825.576\" r=\"18\"/>\n",
       "<circle clip-path=\"url(#clip1302)\" style=\"fill:#009af9; stroke:none; fill-opacity:1\" cx=\"1252.6\" cy=\"825.576\" r=\"14\"/>\n",
       "<circle clip-path=\"url(#clip1302)\" style=\"fill:#000000; stroke:none; fill-opacity:1\" cx=\"1042.56\" cy=\"867.963\" r=\"18\"/>\n",
       "<circle clip-path=\"url(#clip1302)\" style=\"fill:#009af9; stroke:none; fill-opacity:1\" cx=\"1042.56\" cy=\"867.963\" r=\"14\"/>\n",
       "<circle clip-path=\"url(#clip1302)\" style=\"fill:#000000; stroke:none; fill-opacity:1\" cx=\"727.488\" cy=\"1312.47\" r=\"18\"/>\n",
       "<circle clip-path=\"url(#clip1302)\" style=\"fill:#009af9; stroke:none; fill-opacity:1\" cx=\"727.488\" cy=\"1312.47\" r=\"14\"/>\n",
       "<circle clip-path=\"url(#clip1302)\" style=\"fill:#000000; stroke:none; fill-opacity:1\" cx=\"1210.59\" cy=\"941.056\" r=\"18\"/>\n",
       "<circle clip-path=\"url(#clip1302)\" style=\"fill:#009af9; stroke:none; fill-opacity:1\" cx=\"1210.59\" cy=\"941.056\" r=\"14\"/>\n",
       "<circle clip-path=\"url(#clip1302)\" style=\"fill:#000000; stroke:none; fill-opacity:1\" cx=\"1053.06\" cy=\"957.077\" r=\"18\"/>\n",
       "<circle clip-path=\"url(#clip1302)\" style=\"fill:#009af9; stroke:none; fill-opacity:1\" cx=\"1053.06\" cy=\"957.077\" r=\"14\"/>\n",
       "<circle clip-path=\"url(#clip1302)\" style=\"fill:#000000; stroke:none; fill-opacity:1\" cx=\"832.511\" cy=\"1072.64\" r=\"18\"/>\n",
       "<circle clip-path=\"url(#clip1302)\" style=\"fill:#009af9; stroke:none; fill-opacity:1\" cx=\"832.511\" cy=\"1072.64\" r=\"14\"/>\n",
       "<circle clip-path=\"url(#clip1302)\" style=\"fill:#000000; stroke:none; fill-opacity:1\" cx=\"1007.55\" cy=\"941.649\" r=\"18\"/>\n",
       "<circle clip-path=\"url(#clip1302)\" style=\"fill:#009af9; stroke:none; fill-opacity:1\" cx=\"1007.55\" cy=\"941.649\" r=\"14\"/>\n",
       "<circle clip-path=\"url(#clip1302)\" style=\"fill:#000000; stroke:none; fill-opacity:1\" cx=\"867.518\" cy=\"1047.79\" r=\"18\"/>\n",
       "<circle clip-path=\"url(#clip1302)\" style=\"fill:#009af9; stroke:none; fill-opacity:1\" cx=\"867.518\" cy=\"1047.79\" r=\"14\"/>\n",
       "<circle clip-path=\"url(#clip1302)\" style=\"fill:#000000; stroke:none; fill-opacity:1\" cx=\"1466.15\" cy=\"682.907\" r=\"18\"/>\n",
       "<circle clip-path=\"url(#clip1302)\" style=\"fill:#009af9; stroke:none; fill-opacity:1\" cx=\"1466.15\" cy=\"682.907\" r=\"14\"/>\n",
       "<circle clip-path=\"url(#clip1302)\" style=\"fill:#000000; stroke:none; fill-opacity:1\" cx=\"937.534\" cy=\"896.592\" r=\"18\"/>\n",
       "<circle clip-path=\"url(#clip1302)\" style=\"fill:#009af9; stroke:none; fill-opacity:1\" cx=\"937.534\" cy=\"896.592\" r=\"14\"/>\n",
       "<circle clip-path=\"url(#clip1302)\" style=\"fill:#000000; stroke:none; fill-opacity:1\" cx=\"902.526\" cy=\"998.355\" r=\"18\"/>\n",
       "<circle clip-path=\"url(#clip1302)\" style=\"fill:#009af9; stroke:none; fill-opacity:1\" cx=\"902.526\" cy=\"998.355\" r=\"14\"/>\n",
       "<circle clip-path=\"url(#clip1302)\" style=\"fill:#000000; stroke:none; fill-opacity:1\" cx=\"972.541\" cy=\"834.051\" r=\"18\"/>\n",
       "<circle clip-path=\"url(#clip1302)\" style=\"fill:#009af9; stroke:none; fill-opacity:1\" cx=\"972.541\" cy=\"834.051\" r=\"14\"/>\n",
       "<circle clip-path=\"url(#clip1302)\" style=\"fill:#000000; stroke:none; fill-opacity:1\" cx=\"1042.56\" cy=\"880.504\" r=\"18\"/>\n",
       "<circle clip-path=\"url(#clip1302)\" style=\"fill:#009af9; stroke:none; fill-opacity:1\" cx=\"1042.56\" cy=\"880.504\" r=\"14\"/>\n",
       "<circle clip-path=\"url(#clip1302)\" style=\"fill:#000000; stroke:none; fill-opacity:1\" cx=\"909.528\" cy=\"989.585\" r=\"18\"/>\n",
       "<circle clip-path=\"url(#clip1302)\" style=\"fill:#009af9; stroke:none; fill-opacity:1\" cx=\"909.528\" cy=\"989.585\" r=\"14\"/>\n",
       "<circle clip-path=\"url(#clip1302)\" style=\"fill:#000000; stroke:none; fill-opacity:1\" cx=\"1077.56\" cy=\"875.167\" r=\"18\"/>\n",
       "<circle clip-path=\"url(#clip1302)\" style=\"fill:#009af9; stroke:none; fill-opacity:1\" cx=\"1077.56\" cy=\"875.167\" r=\"14\"/>\n",
       "<circle clip-path=\"url(#clip1302)\" style=\"fill:#000000; stroke:none; fill-opacity:1\" cx=\"1035.56\" cy=\"918.976\" r=\"18\"/>\n",
       "<circle clip-path=\"url(#clip1302)\" style=\"fill:#009af9; stroke:none; fill-opacity:1\" cx=\"1035.56\" cy=\"918.976\" r=\"14\"/>\n",
       "<circle clip-path=\"url(#clip1302)\" style=\"fill:#000000; stroke:none; fill-opacity:1\" cx=\"769.497\" cy=\"1124.9\" r=\"18\"/>\n",
       "<circle clip-path=\"url(#clip1302)\" style=\"fill:#009af9; stroke:none; fill-opacity:1\" cx=\"769.497\" cy=\"1124.9\" r=\"14\"/>\n",
       "<circle clip-path=\"url(#clip1302)\" style=\"fill:#000000; stroke:none; fill-opacity:1\" cx=\"1182.59\" cy=\"788.241\" r=\"18\"/>\n",
       "<circle clip-path=\"url(#clip1302)\" style=\"fill:#009af9; stroke:none; fill-opacity:1\" cx=\"1182.59\" cy=\"788.241\" r=\"14\"/>\n",
       "<circle clip-path=\"url(#clip1302)\" style=\"fill:#000000; stroke:none; fill-opacity:1\" cx=\"923.531\" cy=\"1074.64\" r=\"18\"/>\n",
       "<circle clip-path=\"url(#clip1302)\" style=\"fill:#009af9; stroke:none; fill-opacity:1\" cx=\"923.531\" cy=\"1074.64\" r=\"14\"/>\n",
       "<circle clip-path=\"url(#clip1302)\" style=\"fill:#000000; stroke:none; fill-opacity:1\" cx=\"1322.62\" cy=\"734.616\" r=\"18\"/>\n",
       "<circle clip-path=\"url(#clip1302)\" style=\"fill:#009af9; stroke:none; fill-opacity:1\" cx=\"1322.62\" cy=\"734.616\" r=\"14\"/>\n",
       "<circle clip-path=\"url(#clip1302)\" style=\"fill:#000000; stroke:none; fill-opacity:1\" cx=\"937.534\" cy=\"908.434\" r=\"18\"/>\n",
       "<circle clip-path=\"url(#clip1302)\" style=\"fill:#009af9; stroke:none; fill-opacity:1\" cx=\"937.534\" cy=\"908.434\" r=\"14\"/>\n",
       "<circle clip-path=\"url(#clip1302)\" style=\"fill:#000000; stroke:none; fill-opacity:1\" cx=\"727.488\" cy=\"1266.59\" r=\"18\"/>\n",
       "<circle clip-path=\"url(#clip1302)\" style=\"fill:#009af9; stroke:none; fill-opacity:1\" cx=\"727.488\" cy=\"1266.59\" r=\"14\"/>\n",
       "<circle clip-path=\"url(#clip1302)\" style=\"fill:#000000; stroke:none; fill-opacity:1\" cx=\"622.465\" cy=\"1481.11\" r=\"18\"/>\n",
       "<circle clip-path=\"url(#clip1302)\" style=\"fill:#009af9; stroke:none; fill-opacity:1\" cx=\"622.465\" cy=\"1481.11\" r=\"14\"/>\n",
       "<circle clip-path=\"url(#clip1302)\" style=\"fill:#000000; stroke:none; fill-opacity:1\" cx=\"832.511\" cy=\"973.233\" r=\"18\"/>\n",
       "<circle clip-path=\"url(#clip1302)\" style=\"fill:#009af9; stroke:none; fill-opacity:1\" cx=\"832.511\" cy=\"973.233\" r=\"14\"/>\n",
       "<circle clip-path=\"url(#clip1302)\" style=\"fill:#000000; stroke:none; fill-opacity:1\" cx=\"902.526\" cy=\"981.171\" r=\"18\"/>\n",
       "<circle clip-path=\"url(#clip1302)\" style=\"fill:#009af9; stroke:none; fill-opacity:1\" cx=\"902.526\" cy=\"981.171\" r=\"14\"/>\n",
       "<circle clip-path=\"url(#clip1302)\" style=\"fill:#000000; stroke:none; fill-opacity:1\" cx=\"657.472\" cy=\"1429.38\" r=\"18\"/>\n",
       "<circle clip-path=\"url(#clip1302)\" style=\"fill:#009af9; stroke:none; fill-opacity:1\" cx=\"657.472\" cy=\"1429.38\" r=\"14\"/>\n",
       "<circle clip-path=\"url(#clip1302)\" style=\"fill:#000000; stroke:none; fill-opacity:1\" cx=\"727.488\" cy=\"1236.27\" r=\"18\"/>\n",
       "<circle clip-path=\"url(#clip1302)\" style=\"fill:#009af9; stroke:none; fill-opacity:1\" cx=\"727.488\" cy=\"1236.27\" r=\"14\"/>\n",
       "<circle clip-path=\"url(#clip1302)\" style=\"fill:#000000; stroke:none; fill-opacity:1\" cx=\"1308.61\" cy=\"861.322\" r=\"18\"/>\n",
       "<circle clip-path=\"url(#clip1302)\" style=\"fill:#009af9; stroke:none; fill-opacity:1\" cx=\"1308.61\" cy=\"861.322\" r=\"14\"/>\n",
       "<circle clip-path=\"url(#clip1302)\" style=\"fill:#000000; stroke:none; fill-opacity:1\" cx=\"832.511\" cy=\"949.78\" r=\"18\"/>\n",
       "<circle clip-path=\"url(#clip1302)\" style=\"fill:#009af9; stroke:none; fill-opacity:1\" cx=\"832.511\" cy=\"949.78\" r=\"14\"/>\n",
       "<circle clip-path=\"url(#clip1302)\" style=\"fill:#000000; stroke:none; fill-opacity:1\" cx=\"692.48\" cy=\"1484.13\" r=\"18\"/>\n",
       "<circle clip-path=\"url(#clip1302)\" style=\"fill:#009af9; stroke:none; fill-opacity:1\" cx=\"692.48\" cy=\"1484.13\" r=\"14\"/>\n",
       "<circle clip-path=\"url(#clip1302)\" style=\"fill:#000000; stroke:none; fill-opacity:1\" cx=\"657.472\" cy=\"1292.71\" r=\"18\"/>\n",
       "<circle clip-path=\"url(#clip1302)\" style=\"fill:#009af9; stroke:none; fill-opacity:1\" cx=\"657.472\" cy=\"1292.71\" r=\"14\"/>\n",
       "<circle clip-path=\"url(#clip1302)\" style=\"fill:#000000; stroke:none; fill-opacity:1\" cx=\"692.48\" cy=\"1238.13\" r=\"18\"/>\n",
       "<circle clip-path=\"url(#clip1302)\" style=\"fill:#009af9; stroke:none; fill-opacity:1\" cx=\"692.48\" cy=\"1238.13\" r=\"14\"/>\n",
       "<circle clip-path=\"url(#clip1302)\" style=\"fill:#000000; stroke:none; fill-opacity:1\" cx=\"850.015\" cy=\"1132.01\" r=\"18\"/>\n",
       "<circle clip-path=\"url(#clip1302)\" style=\"fill:#009af9; stroke:none; fill-opacity:1\" cx=\"850.015\" cy=\"1132.01\" r=\"14\"/>\n",
       "<circle clip-path=\"url(#clip1302)\" style=\"fill:#000000; stroke:none; fill-opacity:1\" cx=\"1287.61\" cy=\"730.425\" r=\"18\"/>\n",
       "<circle clip-path=\"url(#clip1302)\" style=\"fill:#009af9; stroke:none; fill-opacity:1\" cx=\"1287.61\" cy=\"730.425\" r=\"14\"/>\n",
       "<circle clip-path=\"url(#clip1302)\" style=\"fill:#000000; stroke:none; fill-opacity:1\" cx=\"1742.71\" cy=\"739.91\" r=\"18\"/>\n",
       "<circle clip-path=\"url(#clip1302)\" style=\"fill:#009af9; stroke:none; fill-opacity:1\" cx=\"1742.71\" cy=\"739.91\" r=\"14\"/>\n",
       "<circle clip-path=\"url(#clip1302)\" style=\"fill:#000000; stroke:none; fill-opacity:1\" cx=\"815.007\" cy=\"1109.27\" r=\"18\"/>\n",
       "<circle clip-path=\"url(#clip1302)\" style=\"fill:#009af9; stroke:none; fill-opacity:1\" cx=\"815.007\" cy=\"1109.27\" r=\"14\"/>\n",
       "<circle clip-path=\"url(#clip1302)\" style=\"fill:#000000; stroke:none; fill-opacity:1\" cx=\"692.48\" cy=\"1315.91\" r=\"18\"/>\n",
       "<circle clip-path=\"url(#clip1302)\" style=\"fill:#009af9; stroke:none; fill-opacity:1\" cx=\"692.48\" cy=\"1315.91\" r=\"14\"/>\n",
       "<circle clip-path=\"url(#clip1302)\" style=\"fill:#000000; stroke:none; fill-opacity:1\" cx=\"874.52\" cy=\"1173.5\" r=\"18\"/>\n",
       "<circle clip-path=\"url(#clip1302)\" style=\"fill:#009af9; stroke:none; fill-opacity:1\" cx=\"874.52\" cy=\"1173.5\" r=\"14\"/>\n",
       "<circle clip-path=\"url(#clip1302)\" style=\"fill:#000000; stroke:none; fill-opacity:1\" cx=\"692.48\" cy=\"1302.38\" r=\"18\"/>\n",
       "<circle clip-path=\"url(#clip1302)\" style=\"fill:#009af9; stroke:none; fill-opacity:1\" cx=\"692.48\" cy=\"1302.38\" r=\"14\"/>\n",
       "<circle clip-path=\"url(#clip1302)\" style=\"fill:#000000; stroke:none; fill-opacity:1\" cx=\"1375.13\" cy=\"726.123\" r=\"18\"/>\n",
       "<circle clip-path=\"url(#clip1302)\" style=\"fill:#009af9; stroke:none; fill-opacity:1\" cx=\"1375.13\" cy=\"726.123\" r=\"14\"/>\n",
       "<circle clip-path=\"url(#clip1302)\" style=\"fill:#000000; stroke:none; fill-opacity:1\" cx=\"744.992\" cy=\"1285.81\" r=\"18\"/>\n",
       "<circle clip-path=\"url(#clip1302)\" style=\"fill:#009af9; stroke:none; fill-opacity:1\" cx=\"744.992\" cy=\"1285.81\" r=\"14\"/>\n",
       "<circle clip-path=\"url(#clip1302)\" style=\"fill:#000000; stroke:none; fill-opacity:1\" cx=\"1133.58\" cy=\"1170.84\" r=\"18\"/>\n",
       "<circle clip-path=\"url(#clip1302)\" style=\"fill:#009af9; stroke:none; fill-opacity:1\" cx=\"1133.58\" cy=\"1170.84\" r=\"14\"/>\n",
       "<circle clip-path=\"url(#clip1302)\" style=\"fill:#000000; stroke:none; fill-opacity:1\" cx=\"1182.59\" cy=\"893.3\" r=\"18\"/>\n",
       "<circle clip-path=\"url(#clip1302)\" style=\"fill:#009af9; stroke:none; fill-opacity:1\" cx=\"1182.59\" cy=\"893.3\" r=\"14\"/>\n",
       "<circle clip-path=\"url(#clip1302)\" style=\"fill:#000000; stroke:none; fill-opacity:1\" cx=\"1270.11\" cy=\"781.112\" r=\"18\"/>\n",
       "<circle clip-path=\"url(#clip1302)\" style=\"fill:#009af9; stroke:none; fill-opacity:1\" cx=\"1270.11\" cy=\"781.112\" r=\"14\"/>\n",
       "<circle clip-path=\"url(#clip1302)\" style=\"fill:#000000; stroke:none; fill-opacity:1\" cx=\"762.495\" cy=\"1322.01\" r=\"18\"/>\n",
       "<circle clip-path=\"url(#clip1302)\" style=\"fill:#009af9; stroke:none; fill-opacity:1\" cx=\"762.495\" cy=\"1322.01\" r=\"14\"/>\n",
       "<circle clip-path=\"url(#clip1302)\" style=\"fill:#000000; stroke:none; fill-opacity:1\" cx=\"1042.56\" cy=\"903.891\" r=\"18\"/>\n",
       "<circle clip-path=\"url(#clip1302)\" style=\"fill:#009af9; stroke:none; fill-opacity:1\" cx=\"1042.56\" cy=\"903.891\" r=\"14\"/>\n",
       "<circle clip-path=\"url(#clip1302)\" style=\"fill:#000000; stroke:none; fill-opacity:1\" cx=\"1249.1\" cy=\"802.462\" r=\"18\"/>\n",
       "<circle clip-path=\"url(#clip1302)\" style=\"fill:#009af9; stroke:none; fill-opacity:1\" cx=\"1249.1\" cy=\"802.462\" r=\"14\"/>\n",
       "<circle clip-path=\"url(#clip1302)\" style=\"fill:#000000; stroke:none; fill-opacity:1\" cx=\"1182.59\" cy=\"764.717\" r=\"18\"/>\n",
       "<circle clip-path=\"url(#clip1302)\" style=\"fill:#009af9; stroke:none; fill-opacity:1\" cx=\"1182.59\" cy=\"764.717\" r=\"14\"/>\n",
       "<circle clip-path=\"url(#clip1302)\" style=\"fill:#000000; stroke:none; fill-opacity:1\" cx=\"832.511\" cy=\"1118.19\" r=\"18\"/>\n",
       "<circle clip-path=\"url(#clip1302)\" style=\"fill:#009af9; stroke:none; fill-opacity:1\" cx=\"832.511\" cy=\"1118.19\" r=\"14\"/>\n",
       "<circle clip-path=\"url(#clip1302)\" style=\"fill:#000000; stroke:none; fill-opacity:1\" cx=\"1217.6\" cy=\"719.652\" r=\"18\"/>\n",
       "<circle clip-path=\"url(#clip1302)\" style=\"fill:#009af9; stroke:none; fill-opacity:1\" cx=\"1217.6\" cy=\"719.652\" r=\"14\"/>\n",
       "<circle clip-path=\"url(#clip1302)\" style=\"fill:#000000; stroke:none; fill-opacity:1\" cx=\"1133.58\" cy=\"875.584\" r=\"18\"/>\n",
       "<circle clip-path=\"url(#clip1302)\" style=\"fill:#009af9; stroke:none; fill-opacity:1\" cx=\"1133.58\" cy=\"875.584\" r=\"14\"/>\n",
       "<circle clip-path=\"url(#clip1302)\" style=\"fill:#000000; stroke:none; fill-opacity:1\" cx=\"727.488\" cy=\"1245.57\" r=\"18\"/>\n",
       "<circle clip-path=\"url(#clip1302)\" style=\"fill:#009af9; stroke:none; fill-opacity:1\" cx=\"727.488\" cy=\"1245.57\" r=\"14\"/>\n",
       "<circle clip-path=\"url(#clip1302)\" style=\"fill:#000000; stroke:none; fill-opacity:1\" cx=\"1326.12\" cy=\"756.904\" r=\"18\"/>\n",
       "<circle clip-path=\"url(#clip1302)\" style=\"fill:#009af9; stroke:none; fill-opacity:1\" cx=\"1326.12\" cy=\"756.904\" r=\"14\"/>\n",
       "<circle clip-path=\"url(#clip1302)\" style=\"fill:#000000; stroke:none; fill-opacity:1\" cx=\"1147.58\" cy=\"944.175\" r=\"18\"/>\n",
       "<circle clip-path=\"url(#clip1302)\" style=\"fill:#009af9; stroke:none; fill-opacity:1\" cx=\"1147.58\" cy=\"944.175\" r=\"14\"/>\n",
       "<circle clip-path=\"url(#clip1302)\" style=\"fill:#000000; stroke:none; fill-opacity:1\" cx=\"1042.56\" cy=\"970.012\" r=\"18\"/>\n",
       "<circle clip-path=\"url(#clip1302)\" style=\"fill:#009af9; stroke:none; fill-opacity:1\" cx=\"1042.56\" cy=\"970.012\" r=\"14\"/>\n",
       "<circle clip-path=\"url(#clip1302)\" style=\"fill:#000000; stroke:none; fill-opacity:1\" cx=\"1571.17\" cy=\"671.878\" r=\"18\"/>\n",
       "<circle clip-path=\"url(#clip1302)\" style=\"fill:#009af9; stroke:none; fill-opacity:1\" cx=\"1571.17\" cy=\"671.878\" r=\"14\"/>\n",
       "<circle clip-path=\"url(#clip1302)\" style=\"fill:#000000; stroke:none; fill-opacity:1\" cx=\"692.48\" cy=\"1332.34\" r=\"18\"/>\n",
       "<circle clip-path=\"url(#clip1302)\" style=\"fill:#009af9; stroke:none; fill-opacity:1\" cx=\"692.48\" cy=\"1332.34\" r=\"14\"/>\n",
       "<circle clip-path=\"url(#clip1302)\" style=\"fill:#000000; stroke:none; fill-opacity:1\" cx=\"867.518\" cy=\"962.422\" r=\"18\"/>\n",
       "<circle clip-path=\"url(#clip1302)\" style=\"fill:#009af9; stroke:none; fill-opacity:1\" cx=\"867.518\" cy=\"962.422\" r=\"14\"/>\n",
       "<circle clip-path=\"url(#clip1302)\" style=\"fill:#000000; stroke:none; fill-opacity:1\" cx=\"657.472\" cy=\"1099.22\" r=\"18\"/>\n",
       "<circle clip-path=\"url(#clip1302)\" style=\"fill:#009af9; stroke:none; fill-opacity:1\" cx=\"657.472\" cy=\"1099.22\" r=\"14\"/>\n",
       "<circle clip-path=\"url(#clip1302)\" style=\"fill:#000000; stroke:none; fill-opacity:1\" cx=\"1147.58\" cy=\"786.712\" r=\"18\"/>\n",
       "<circle clip-path=\"url(#clip1302)\" style=\"fill:#009af9; stroke:none; fill-opacity:1\" cx=\"1147.58\" cy=\"786.712\" r=\"14\"/>\n",
       "<circle clip-path=\"url(#clip1302)\" style=\"fill:#000000; stroke:none; fill-opacity:1\" cx=\"832.511\" cy=\"1162.42\" r=\"18\"/>\n",
       "<circle clip-path=\"url(#clip1302)\" style=\"fill:#009af9; stroke:none; fill-opacity:1\" cx=\"832.511\" cy=\"1162.42\" r=\"14\"/>\n",
       "<circle clip-path=\"url(#clip1302)\" style=\"fill:#000000; stroke:none; fill-opacity:1\" cx=\"1112.57\" cy=\"801.773\" r=\"18\"/>\n",
       "<circle clip-path=\"url(#clip1302)\" style=\"fill:#009af9; stroke:none; fill-opacity:1\" cx=\"1112.57\" cy=\"801.773\" r=\"14\"/>\n",
       "<circle clip-path=\"url(#clip1302)\" style=\"fill:#000000; stroke:none; fill-opacity:1\" cx=\"727.488\" cy=\"1253.51\" r=\"18\"/>\n",
       "<circle clip-path=\"url(#clip1302)\" style=\"fill:#009af9; stroke:none; fill-opacity:1\" cx=\"727.488\" cy=\"1253.51\" r=\"14\"/>\n",
       "<circle clip-path=\"url(#clip1302)\" style=\"fill:#000000; stroke:none; fill-opacity:1\" cx=\"1270.11\" cy=\"734.603\" r=\"18\"/>\n",
       "<circle clip-path=\"url(#clip1302)\" style=\"fill:#009af9; stroke:none; fill-opacity:1\" cx=\"1270.11\" cy=\"734.603\" r=\"14\"/>\n",
       "<circle clip-path=\"url(#clip1302)\" style=\"fill:#000000; stroke:none; fill-opacity:1\" cx=\"692.48\" cy=\"1391.41\" r=\"18\"/>\n",
       "<circle clip-path=\"url(#clip1302)\" style=\"fill:#009af9; stroke:none; fill-opacity:1\" cx=\"692.48\" cy=\"1391.41\" r=\"14\"/>\n",
       "<circle clip-path=\"url(#clip1302)\" style=\"fill:#000000; stroke:none; fill-opacity:1\" cx=\"920.03\" cy=\"1084.15\" r=\"18\"/>\n",
       "<circle clip-path=\"url(#clip1302)\" style=\"fill:#009af9; stroke:none; fill-opacity:1\" cx=\"920.03\" cy=\"1084.15\" r=\"14\"/>\n",
       "<circle clip-path=\"url(#clip1302)\" style=\"fill:#000000; stroke:none; fill-opacity:1\" cx=\"941.035\" cy=\"869.387\" r=\"18\"/>\n",
       "<circle clip-path=\"url(#clip1302)\" style=\"fill:#009af9; stroke:none; fill-opacity:1\" cx=\"941.035\" cy=\"869.387\" r=\"14\"/>\n",
       "<circle clip-path=\"url(#clip1302)\" style=\"fill:#000000; stroke:none; fill-opacity:1\" cx=\"1532.66\" cy=\"745.653\" r=\"18\"/>\n",
       "<circle clip-path=\"url(#clip1302)\" style=\"fill:#009af9; stroke:none; fill-opacity:1\" cx=\"1532.66\" cy=\"745.653\" r=\"14\"/>\n",
       "<circle clip-path=\"url(#clip1302)\" style=\"fill:#000000; stroke:none; fill-opacity:1\" cx=\"1322.62\" cy=\"807.572\" r=\"18\"/>\n",
       "<circle clip-path=\"url(#clip1302)\" style=\"fill:#009af9; stroke:none; fill-opacity:1\" cx=\"1322.62\" cy=\"807.572\" r=\"14\"/>\n",
       "<circle clip-path=\"url(#clip1302)\" style=\"fill:#000000; stroke:none; fill-opacity:1\" cx=\"1112.57\" cy=\"732.187\" r=\"18\"/>\n",
       "<circle clip-path=\"url(#clip1302)\" style=\"fill:#009af9; stroke:none; fill-opacity:1\" cx=\"1112.57\" cy=\"732.187\" r=\"14\"/>\n",
       "<circle clip-path=\"url(#clip1302)\" style=\"fill:#000000; stroke:none; fill-opacity:1\" cx=\"836.012\" cy=\"1121.1\" r=\"18\"/>\n",
       "<circle clip-path=\"url(#clip1302)\" style=\"fill:#009af9; stroke:none; fill-opacity:1\" cx=\"836.012\" cy=\"1121.1\" r=\"14\"/>\n",
       "<circle clip-path=\"url(#clip1302)\" style=\"fill:#000000; stroke:none; fill-opacity:1\" cx=\"727.488\" cy=\"1036.85\" r=\"18\"/>\n",
       "<circle clip-path=\"url(#clip1302)\" style=\"fill:#009af9; stroke:none; fill-opacity:1\" cx=\"727.488\" cy=\"1036.85\" r=\"14\"/>\n",
       "<circle clip-path=\"url(#clip1302)\" style=\"fill:#000000; stroke:none; fill-opacity:1\" cx=\"794.002\" cy=\"1363.72\" r=\"18\"/>\n",
       "<circle clip-path=\"url(#clip1302)\" style=\"fill:#009af9; stroke:none; fill-opacity:1\" cx=\"794.002\" cy=\"1363.72\" r=\"14\"/>\n",
       "<circle clip-path=\"url(#clip1302)\" style=\"fill:#000000; stroke:none; fill-opacity:1\" cx=\"874.52\" cy=\"1175.97\" r=\"18\"/>\n",
       "<circle clip-path=\"url(#clip1302)\" style=\"fill:#009af9; stroke:none; fill-opacity:1\" cx=\"874.52\" cy=\"1175.97\" r=\"14\"/>\n",
       "<circle clip-path=\"url(#clip1302)\" style=\"fill:#000000; stroke:none; fill-opacity:1\" cx=\"958.538\" cy=\"954.088\" r=\"18\"/>\n",
       "<circle clip-path=\"url(#clip1302)\" style=\"fill:#009af9; stroke:none; fill-opacity:1\" cx=\"958.538\" cy=\"954.088\" r=\"14\"/>\n",
       "<circle clip-path=\"url(#clip1302)\" style=\"fill:#000000; stroke:none; fill-opacity:1\" cx=\"902.526\" cy=\"1079.43\" r=\"18\"/>\n",
       "<circle clip-path=\"url(#clip1302)\" style=\"fill:#009af9; stroke:none; fill-opacity:1\" cx=\"902.526\" cy=\"1079.43\" r=\"14\"/>\n",
       "<circle clip-path=\"url(#clip1302)\" style=\"fill:#000000; stroke:none; fill-opacity:1\" cx=\"1462.65\" cy=\"779.545\" r=\"18\"/>\n",
       "<circle clip-path=\"url(#clip1302)\" style=\"fill:#009af9; stroke:none; fill-opacity:1\" cx=\"1462.65\" cy=\"779.545\" r=\"14\"/>\n",
       "<circle clip-path=\"url(#clip1302)\" style=\"fill:#000000; stroke:none; fill-opacity:1\" cx=\"797.503\" cy=\"1225.04\" r=\"18\"/>\n",
       "<circle clip-path=\"url(#clip1302)\" style=\"fill:#009af9; stroke:none; fill-opacity:1\" cx=\"797.503\" cy=\"1225.04\" r=\"14\"/>\n",
       "<circle clip-path=\"url(#clip1302)\" style=\"fill:#000000; stroke:none; fill-opacity:1\" cx=\"1007.55\" cy=\"764.682\" r=\"18\"/>\n",
       "<circle clip-path=\"url(#clip1302)\" style=\"fill:#009af9; stroke:none; fill-opacity:1\" cx=\"1007.55\" cy=\"764.682\" r=\"14\"/>\n",
       "<circle clip-path=\"url(#clip1302)\" style=\"fill:#000000; stroke:none; fill-opacity:1\" cx=\"762.495\" cy=\"1348.98\" r=\"18\"/>\n",
       "<circle clip-path=\"url(#clip1302)\" style=\"fill:#009af9; stroke:none; fill-opacity:1\" cx=\"762.495\" cy=\"1348.98\" r=\"14\"/>\n",
       "<circle clip-path=\"url(#clip1302)\" style=\"fill:#000000; stroke:none; fill-opacity:1\" cx=\"867.518\" cy=\"1020.69\" r=\"18\"/>\n",
       "<circle clip-path=\"url(#clip1302)\" style=\"fill:#009af9; stroke:none; fill-opacity:1\" cx=\"867.518\" cy=\"1020.69\" r=\"14\"/>\n",
       "<circle clip-path=\"url(#clip1302)\" style=\"fill:#000000; stroke:none; fill-opacity:1\" cx=\"1007.55\" cy=\"1233.52\" r=\"18\"/>\n",
       "<circle clip-path=\"url(#clip1302)\" style=\"fill:#009af9; stroke:none; fill-opacity:1\" cx=\"1007.55\" cy=\"1233.52\" r=\"14\"/>\n",
       "<circle clip-path=\"url(#clip1302)\" style=\"fill:#000000; stroke:none; fill-opacity:1\" cx=\"762.495\" cy=\"1380.29\" r=\"18\"/>\n",
       "<circle clip-path=\"url(#clip1302)\" style=\"fill:#009af9; stroke:none; fill-opacity:1\" cx=\"762.495\" cy=\"1380.29\" r=\"14\"/>\n",
       "<circle clip-path=\"url(#clip1302)\" style=\"fill:#000000; stroke:none; fill-opacity:1\" cx=\"1452.15\" cy=\"734.17\" r=\"18\"/>\n",
       "<circle clip-path=\"url(#clip1302)\" style=\"fill:#009af9; stroke:none; fill-opacity:1\" cx=\"1452.15\" cy=\"734.17\" r=\"14\"/>\n",
       "<circle clip-path=\"url(#clip1302)\" style=\"fill:#000000; stroke:none; fill-opacity:1\" cx=\"1217.6\" cy=\"721.753\" r=\"18\"/>\n",
       "<circle clip-path=\"url(#clip1302)\" style=\"fill:#009af9; stroke:none; fill-opacity:1\" cx=\"1217.6\" cy=\"721.753\" r=\"14\"/>\n",
       "<circle clip-path=\"url(#clip1302)\" style=\"fill:#000000; stroke:none; fill-opacity:1\" cx=\"955.038\" cy=\"906.9\" r=\"18\"/>\n",
       "<circle clip-path=\"url(#clip1302)\" style=\"fill:#009af9; stroke:none; fill-opacity:1\" cx=\"955.038\" cy=\"906.9\" r=\"14\"/>\n",
       "<circle clip-path=\"url(#clip1302)\" style=\"fill:#000000; stroke:none; fill-opacity:1\" cx=\"797.503\" cy=\"1166.75\" r=\"18\"/>\n",
       "<circle clip-path=\"url(#clip1302)\" style=\"fill:#009af9; stroke:none; fill-opacity:1\" cx=\"797.503\" cy=\"1166.75\" r=\"14\"/>\n",
       "<circle clip-path=\"url(#clip1302)\" style=\"fill:#000000; stroke:none; fill-opacity:1\" cx=\"871.019\" cy=\"1053.79\" r=\"18\"/>\n",
       "<circle clip-path=\"url(#clip1302)\" style=\"fill:#009af9; stroke:none; fill-opacity:1\" cx=\"871.019\" cy=\"1053.79\" r=\"14\"/>\n",
       "<circle clip-path=\"url(#clip1302)\" style=\"fill:#000000; stroke:none; fill-opacity:1\" cx=\"832.511\" cy=\"982.128\" r=\"18\"/>\n",
       "<circle clip-path=\"url(#clip1302)\" style=\"fill:#009af9; stroke:none; fill-opacity:1\" cx=\"832.511\" cy=\"982.128\" r=\"14\"/>\n",
       "<circle clip-path=\"url(#clip1302)\" style=\"fill:#000000; stroke:none; fill-opacity:1\" cx=\"657.472\" cy=\"1366.98\" r=\"18\"/>\n",
       "<circle clip-path=\"url(#clip1302)\" style=\"fill:#009af9; stroke:none; fill-opacity:1\" cx=\"657.472\" cy=\"1366.98\" r=\"14\"/>\n",
       "<circle clip-path=\"url(#clip1302)\" style=\"fill:#000000; stroke:none; fill-opacity:1\" cx=\"1182.59\" cy=\"780.594\" r=\"18\"/>\n",
       "<circle clip-path=\"url(#clip1302)\" style=\"fill:#009af9; stroke:none; fill-opacity:1\" cx=\"1182.59\" cy=\"780.594\" r=\"14\"/>\n",
       "<circle clip-path=\"url(#clip1302)\" style=\"fill:#000000; stroke:none; fill-opacity:1\" cx=\"797.503\" cy=\"1056.99\" r=\"18\"/>\n",
       "<circle clip-path=\"url(#clip1302)\" style=\"fill:#009af9; stroke:none; fill-opacity:1\" cx=\"797.503\" cy=\"1056.99\" r=\"14\"/>\n",
       "<circle clip-path=\"url(#clip1302)\" style=\"fill:#000000; stroke:none; fill-opacity:1\" cx=\"1091.57\" cy=\"1047.26\" r=\"18\"/>\n",
       "<circle clip-path=\"url(#clip1302)\" style=\"fill:#009af9; stroke:none; fill-opacity:1\" cx=\"1091.57\" cy=\"1047.26\" r=\"14\"/>\n",
       "<circle clip-path=\"url(#clip1302)\" style=\"fill:#000000; stroke:none; fill-opacity:1\" cx=\"1025.05\" cy=\"958.323\" r=\"18\"/>\n",
       "<circle clip-path=\"url(#clip1302)\" style=\"fill:#009af9; stroke:none; fill-opacity:1\" cx=\"1025.05\" cy=\"958.323\" r=\"14\"/>\n",
       "<circle clip-path=\"url(#clip1302)\" style=\"fill:#000000; stroke:none; fill-opacity:1\" cx=\"762.495\" cy=\"1464.22\" r=\"18\"/>\n",
       "<circle clip-path=\"url(#clip1302)\" style=\"fill:#009af9; stroke:none; fill-opacity:1\" cx=\"762.495\" cy=\"1464.22\" r=\"14\"/>\n",
       "<circle clip-path=\"url(#clip1302)\" style=\"fill:#000000; stroke:none; fill-opacity:1\" cx=\"972.541\" cy=\"957.378\" r=\"18\"/>\n",
       "<circle clip-path=\"url(#clip1302)\" style=\"fill:#009af9; stroke:none; fill-opacity:1\" cx=\"972.541\" cy=\"957.378\" r=\"14\"/>\n",
       "<circle clip-path=\"url(#clip1302)\" style=\"fill:#000000; stroke:none; fill-opacity:1\" cx=\"1336.62\" cy=\"808.791\" r=\"18\"/>\n",
       "<circle clip-path=\"url(#clip1302)\" style=\"fill:#009af9; stroke:none; fill-opacity:1\" cx=\"1336.62\" cy=\"808.791\" r=\"14\"/>\n",
       "<circle clip-path=\"url(#clip1302)\" style=\"fill:#000000; stroke:none; fill-opacity:1\" cx=\"818.508\" cy=\"1058.77\" r=\"18\"/>\n",
       "<circle clip-path=\"url(#clip1302)\" style=\"fill:#009af9; stroke:none; fill-opacity:1\" cx=\"818.508\" cy=\"1058.77\" r=\"14\"/>\n",
       "<circle clip-path=\"url(#clip1302)\" style=\"fill:#000000; stroke:none; fill-opacity:1\" cx=\"1252.6\" cy=\"752.827\" r=\"18\"/>\n",
       "<circle clip-path=\"url(#clip1302)\" style=\"fill:#009af9; stroke:none; fill-opacity:1\" cx=\"1252.6\" cy=\"752.827\" r=\"14\"/>\n",
       "<circle clip-path=\"url(#clip1302)\" style=\"fill:#000000; stroke:none; fill-opacity:1\" cx=\"1252.6\" cy=\"761.23\" r=\"18\"/>\n",
       "<circle clip-path=\"url(#clip1302)\" style=\"fill:#009af9; stroke:none; fill-opacity:1\" cx=\"1252.6\" cy=\"761.23\" r=\"14\"/>\n",
       "<circle clip-path=\"url(#clip1302)\" style=\"fill:#000000; stroke:none; fill-opacity:1\" cx=\"1112.57\" cy=\"671.377\" r=\"18\"/>\n",
       "<circle clip-path=\"url(#clip1302)\" style=\"fill:#009af9; stroke:none; fill-opacity:1\" cx=\"1112.57\" cy=\"671.377\" r=\"14\"/>\n",
       "<circle clip-path=\"url(#clip1302)\" style=\"fill:#000000; stroke:none; fill-opacity:1\" cx=\"1410.14\" cy=\"761.792\" r=\"18\"/>\n",
       "<circle clip-path=\"url(#clip1302)\" style=\"fill:#009af9; stroke:none; fill-opacity:1\" cx=\"1410.14\" cy=\"761.792\" r=\"14\"/>\n",
       "<circle clip-path=\"url(#clip1302)\" style=\"fill:#000000; stroke:none; fill-opacity:1\" cx=\"657.472\" cy=\"1456\" r=\"18\"/>\n",
       "<circle clip-path=\"url(#clip1302)\" style=\"fill:#009af9; stroke:none; fill-opacity:1\" cx=\"657.472\" cy=\"1456\" r=\"14\"/>\n",
       "<circle clip-path=\"url(#clip1302)\" style=\"fill:#000000; stroke:none; fill-opacity:1\" cx=\"1235.1\" cy=\"700.588\" r=\"18\"/>\n",
       "<circle clip-path=\"url(#clip1302)\" style=\"fill:#009af9; stroke:none; fill-opacity:1\" cx=\"1235.1\" cy=\"700.588\" r=\"14\"/>\n",
       "<circle clip-path=\"url(#clip1302)\" style=\"fill:#000000; stroke:none; fill-opacity:1\" cx=\"1287.61\" cy=\"724.63\" r=\"18\"/>\n",
       "<circle clip-path=\"url(#clip1302)\" style=\"fill:#009af9; stroke:none; fill-opacity:1\" cx=\"1287.61\" cy=\"724.63\" r=\"14\"/>\n",
       "<circle clip-path=\"url(#clip1302)\" style=\"fill:#000000; stroke:none; fill-opacity:1\" cx=\"779.999\" cy=\"1404.66\" r=\"18\"/>\n",
       "<circle clip-path=\"url(#clip1302)\" style=\"fill:#009af9; stroke:none; fill-opacity:1\" cx=\"779.999\" cy=\"1404.66\" r=\"14\"/>\n",
       "<circle clip-path=\"url(#clip1302)\" style=\"fill:#000000; stroke:none; fill-opacity:1\" cx=\"692.48\" cy=\"1275.37\" r=\"18\"/>\n",
       "<circle clip-path=\"url(#clip1302)\" style=\"fill:#009af9; stroke:none; fill-opacity:1\" cx=\"692.48\" cy=\"1275.37\" r=\"14\"/>\n",
       "<circle clip-path=\"url(#clip1302)\" style=\"fill:#000000; stroke:none; fill-opacity:1\" cx=\"1336.62\" cy=\"793.135\" r=\"18\"/>\n",
       "<circle clip-path=\"url(#clip1302)\" style=\"fill:#009af9; stroke:none; fill-opacity:1\" cx=\"1336.62\" cy=\"793.135\" r=\"14\"/>\n",
       "<circle clip-path=\"url(#clip1302)\" style=\"fill:#000000; stroke:none; fill-opacity:1\" cx=\"657.472\" cy=\"1536.47\" r=\"18\"/>\n",
       "<circle clip-path=\"url(#clip1302)\" style=\"fill:#009af9; stroke:none; fill-opacity:1\" cx=\"657.472\" cy=\"1536.47\" r=\"14\"/>\n",
       "<circle clip-path=\"url(#clip1302)\" style=\"fill:#000000; stroke:none; fill-opacity:1\" cx=\"692.48\" cy=\"1397.76\" r=\"18\"/>\n",
       "<circle clip-path=\"url(#clip1302)\" style=\"fill:#009af9; stroke:none; fill-opacity:1\" cx=\"692.48\" cy=\"1397.76\" r=\"14\"/>\n",
       "<circle clip-path=\"url(#clip1302)\" style=\"fill:#000000; stroke:none; fill-opacity:1\" cx=\"1532.66\" cy=\"722.958\" r=\"18\"/>\n",
       "<circle clip-path=\"url(#clip1302)\" style=\"fill:#009af9; stroke:none; fill-opacity:1\" cx=\"1532.66\" cy=\"722.958\" r=\"14\"/>\n",
       "<circle clip-path=\"url(#clip1302)\" style=\"fill:#000000; stroke:none; fill-opacity:1\" cx=\"1060.06\" cy=\"900.891\" r=\"18\"/>\n",
       "<circle clip-path=\"url(#clip1302)\" style=\"fill:#009af9; stroke:none; fill-opacity:1\" cx=\"1060.06\" cy=\"900.891\" r=\"14\"/>\n",
       "<circle clip-path=\"url(#clip1302)\" style=\"fill:#000000; stroke:none; fill-opacity:1\" cx=\"1112.57\" cy=\"835.201\" r=\"18\"/>\n",
       "<circle clip-path=\"url(#clip1302)\" style=\"fill:#009af9; stroke:none; fill-opacity:1\" cx=\"1112.57\" cy=\"835.201\" r=\"14\"/>\n",
       "<circle clip-path=\"url(#clip1302)\" style=\"fill:#000000; stroke:none; fill-opacity:1\" cx=\"779.999\" cy=\"1259.91\" r=\"18\"/>\n",
       "<circle clip-path=\"url(#clip1302)\" style=\"fill:#009af9; stroke:none; fill-opacity:1\" cx=\"779.999\" cy=\"1259.91\" r=\"14\"/>\n",
       "<circle clip-path=\"url(#clip1302)\" style=\"fill:#000000; stroke:none; fill-opacity:1\" cx=\"762.495\" cy=\"1374.52\" r=\"18\"/>\n",
       "<circle clip-path=\"url(#clip1302)\" style=\"fill:#009af9; stroke:none; fill-opacity:1\" cx=\"762.495\" cy=\"1374.52\" r=\"14\"/>\n",
       "<circle clip-path=\"url(#clip1302)\" style=\"fill:#000000; stroke:none; fill-opacity:1\" cx=\"692.48\" cy=\"1371.63\" r=\"18\"/>\n",
       "<circle clip-path=\"url(#clip1302)\" style=\"fill:#009af9; stroke:none; fill-opacity:1\" cx=\"692.48\" cy=\"1371.63\" r=\"14\"/>\n",
       "<circle clip-path=\"url(#clip1302)\" style=\"fill:#000000; stroke:none; fill-opacity:1\" cx=\"853.515\" cy=\"1130.04\" r=\"18\"/>\n",
       "<circle clip-path=\"url(#clip1302)\" style=\"fill:#009af9; stroke:none; fill-opacity:1\" cx=\"853.515\" cy=\"1130.04\" r=\"14\"/>\n",
       "<circle clip-path=\"url(#clip1302)\" style=\"fill:#000000; stroke:none; fill-opacity:1\" cx=\"1105.57\" cy=\"883.544\" r=\"18\"/>\n",
       "<circle clip-path=\"url(#clip1302)\" style=\"fill:#009af9; stroke:none; fill-opacity:1\" cx=\"1105.57\" cy=\"883.544\" r=\"14\"/>\n",
       "<circle clip-path=\"url(#clip1302)\" style=\"fill:#000000; stroke:none; fill-opacity:1\" cx=\"1284.11\" cy=\"784.123\" r=\"18\"/>\n",
       "<circle clip-path=\"url(#clip1302)\" style=\"fill:#009af9; stroke:none; fill-opacity:1\" cx=\"1284.11\" cy=\"784.123\" r=\"14\"/>\n",
       "<circle clip-path=\"url(#clip1302)\" style=\"fill:#000000; stroke:none; fill-opacity:1\" cx=\"1235.1\" cy=\"757.669\" r=\"18\"/>\n",
       "<circle clip-path=\"url(#clip1302)\" style=\"fill:#009af9; stroke:none; fill-opacity:1\" cx=\"1235.1\" cy=\"757.669\" r=\"14\"/>\n",
       "<circle clip-path=\"url(#clip1302)\" style=\"fill:#000000; stroke:none; fill-opacity:1\" cx=\"920.03\" cy=\"1077.27\" r=\"18\"/>\n",
       "<circle clip-path=\"url(#clip1302)\" style=\"fill:#009af9; stroke:none; fill-opacity:1\" cx=\"920.03\" cy=\"1077.27\" r=\"14\"/>\n",
       "<circle clip-path=\"url(#clip1302)\" style=\"fill:#000000; stroke:none; fill-opacity:1\" cx=\"1497.66\" cy=\"739.214\" r=\"18\"/>\n",
       "<circle clip-path=\"url(#clip1302)\" style=\"fill:#009af9; stroke:none; fill-opacity:1\" cx=\"1497.66\" cy=\"739.214\" r=\"14\"/>\n",
       "<circle clip-path=\"url(#clip1302)\" style=\"fill:#000000; stroke:none; fill-opacity:1\" cx=\"1060.06\" cy=\"756.275\" r=\"18\"/>\n",
       "<circle clip-path=\"url(#clip1302)\" style=\"fill:#009af9; stroke:none; fill-opacity:1\" cx=\"1060.06\" cy=\"756.275\" r=\"14\"/>\n",
       "<circle clip-path=\"url(#clip1302)\" style=\"fill:#000000; stroke:none; fill-opacity:1\" cx=\"1357.63\" cy=\"671.911\" r=\"18\"/>\n",
       "<circle clip-path=\"url(#clip1302)\" style=\"fill:#009af9; stroke:none; fill-opacity:1\" cx=\"1357.63\" cy=\"671.911\" r=\"14\"/>\n",
       "<circle clip-path=\"url(#clip1302)\" style=\"fill:#000000; stroke:none; fill-opacity:1\" cx=\"727.488\" cy=\"1239.87\" r=\"18\"/>\n",
       "<circle clip-path=\"url(#clip1302)\" style=\"fill:#009af9; stroke:none; fill-opacity:1\" cx=\"727.488\" cy=\"1239.87\" r=\"14\"/>\n",
       "<circle clip-path=\"url(#clip1302)\" style=\"fill:#000000; stroke:none; fill-opacity:1\" cx=\"727.488\" cy=\"1310.98\" r=\"18\"/>\n",
       "<circle clip-path=\"url(#clip1302)\" style=\"fill:#009af9; stroke:none; fill-opacity:1\" cx=\"727.488\" cy=\"1310.98\" r=\"14\"/>\n",
       "<circle clip-path=\"url(#clip1302)\" style=\"fill:#000000; stroke:none; fill-opacity:1\" cx=\"692.48\" cy=\"1225.96\" r=\"18\"/>\n",
       "<circle clip-path=\"url(#clip1302)\" style=\"fill:#009af9; stroke:none; fill-opacity:1\" cx=\"692.48\" cy=\"1225.96\" r=\"14\"/>\n",
       "<circle clip-path=\"url(#clip1302)\" style=\"fill:#000000; stroke:none; fill-opacity:1\" cx=\"1252.6\" cy=\"728.26\" r=\"18\"/>\n",
       "<circle clip-path=\"url(#clip1302)\" style=\"fill:#009af9; stroke:none; fill-opacity:1\" cx=\"1252.6\" cy=\"728.26\" r=\"14\"/>\n",
       "<circle clip-path=\"url(#clip1302)\" style=\"fill:#000000; stroke:none; fill-opacity:1\" cx=\"1382.13\" cy=\"780.351\" r=\"18\"/>\n",
       "<circle clip-path=\"url(#clip1302)\" style=\"fill:#009af9; stroke:none; fill-opacity:1\" cx=\"1382.13\" cy=\"780.351\" r=\"14\"/>\n",
       "<circle clip-path=\"url(#clip1302)\" style=\"fill:#000000; stroke:none; fill-opacity:1\" cx=\"692.48\" cy=\"1304.74\" r=\"18\"/>\n",
       "<circle clip-path=\"url(#clip1302)\" style=\"fill:#009af9; stroke:none; fill-opacity:1\" cx=\"692.48\" cy=\"1304.74\" r=\"14\"/>\n",
       "<circle clip-path=\"url(#clip1302)\" style=\"fill:#000000; stroke:none; fill-opacity:1\" cx=\"657.472\" cy=\"1525.93\" r=\"18\"/>\n",
       "<circle clip-path=\"url(#clip1302)\" style=\"fill:#009af9; stroke:none; fill-opacity:1\" cx=\"657.472\" cy=\"1525.93\" r=\"14\"/>\n",
       "<circle clip-path=\"url(#clip1302)\" style=\"fill:#000000; stroke:none; fill-opacity:1\" cx=\"797.503\" cy=\"1227.98\" r=\"18\"/>\n",
       "<circle clip-path=\"url(#clip1302)\" style=\"fill:#009af9; stroke:none; fill-opacity:1\" cx=\"797.503\" cy=\"1227.98\" r=\"14\"/>\n",
       "<circle clip-path=\"url(#clip1302)\" style=\"fill:#000000; stroke:none; fill-opacity:1\" cx=\"972.541\" cy=\"841.443\" r=\"18\"/>\n",
       "<circle clip-path=\"url(#clip1302)\" style=\"fill:#009af9; stroke:none; fill-opacity:1\" cx=\"972.541\" cy=\"841.443\" r=\"14\"/>\n",
       "<circle clip-path=\"url(#clip1302)\" style=\"fill:#000000; stroke:none; fill-opacity:1\" cx=\"727.488\" cy=\"1150.85\" r=\"18\"/>\n",
       "<circle clip-path=\"url(#clip1302)\" style=\"fill:#009af9; stroke:none; fill-opacity:1\" cx=\"727.488\" cy=\"1150.85\" r=\"14\"/>\n",
       "<circle clip-path=\"url(#clip1302)\" style=\"fill:#000000; stroke:none; fill-opacity:1\" cx=\"1112.57\" cy=\"843.963\" r=\"18\"/>\n",
       "<circle clip-path=\"url(#clip1302)\" style=\"fill:#009af9; stroke:none; fill-opacity:1\" cx=\"1112.57\" cy=\"843.963\" r=\"14\"/>\n",
       "<circle clip-path=\"url(#clip1302)\" style=\"fill:#000000; stroke:none; fill-opacity:1\" cx=\"1077.56\" cy=\"928.82\" r=\"18\"/>\n",
       "<circle clip-path=\"url(#clip1302)\" style=\"fill:#009af9; stroke:none; fill-opacity:1\" cx=\"1077.56\" cy=\"928.82\" r=\"14\"/>\n",
       "<circle clip-path=\"url(#clip1302)\" style=\"fill:#000000; stroke:none; fill-opacity:1\" cx=\"1357.63\" cy=\"671.798\" r=\"18\"/>\n",
       "<circle clip-path=\"url(#clip1302)\" style=\"fill:#009af9; stroke:none; fill-opacity:1\" cx=\"1357.63\" cy=\"671.798\" r=\"14\"/>\n",
       "<circle clip-path=\"url(#clip1302)\" style=\"fill:#000000; stroke:none; fill-opacity:1\" cx=\"1147.58\" cy=\"905.467\" r=\"18\"/>\n",
       "<circle clip-path=\"url(#clip1302)\" style=\"fill:#009af9; stroke:none; fill-opacity:1\" cx=\"1147.58\" cy=\"905.467\" r=\"14\"/>\n",
       "<circle clip-path=\"url(#clip1302)\" style=\"fill:#000000; stroke:none; fill-opacity:1\" cx=\"692.48\" cy=\"1348.87\" r=\"18\"/>\n",
       "<circle clip-path=\"url(#clip1302)\" style=\"fill:#009af9; stroke:none; fill-opacity:1\" cx=\"692.48\" cy=\"1348.87\" r=\"14\"/>\n",
       "<circle clip-path=\"url(#clip1302)\" style=\"fill:#000000; stroke:none; fill-opacity:1\" cx=\"744.992\" cy=\"1305.53\" r=\"18\"/>\n",
       "<circle clip-path=\"url(#clip1302)\" style=\"fill:#009af9; stroke:none; fill-opacity:1\" cx=\"744.992\" cy=\"1305.53\" r=\"14\"/>\n",
       "<circle clip-path=\"url(#clip1302)\" style=\"fill:#000000; stroke:none; fill-opacity:1\" cx=\"1077.56\" cy=\"815.594\" r=\"18\"/>\n",
       "<circle clip-path=\"url(#clip1302)\" style=\"fill:#009af9; stroke:none; fill-opacity:1\" cx=\"1077.56\" cy=\"815.594\" r=\"14\"/>\n",
       "<circle clip-path=\"url(#clip1302)\" style=\"fill:#000000; stroke:none; fill-opacity:1\" cx=\"657.472\" cy=\"1371.85\" r=\"18\"/>\n",
       "<circle clip-path=\"url(#clip1302)\" style=\"fill:#009af9; stroke:none; fill-opacity:1\" cx=\"657.472\" cy=\"1371.85\" r=\"14\"/>\n",
       "<circle clip-path=\"url(#clip1302)\" style=\"fill:#000000; stroke:none; fill-opacity:1\" cx=\"836.012\" cy=\"1103.82\" r=\"18\"/>\n",
       "<circle clip-path=\"url(#clip1302)\" style=\"fill:#009af9; stroke:none; fill-opacity:1\" cx=\"836.012\" cy=\"1103.82\" r=\"14\"/>\n",
       "<circle clip-path=\"url(#clip1302)\" style=\"fill:#000000; stroke:none; fill-opacity:1\" cx=\"657.472\" cy=\"1277.06\" r=\"18\"/>\n",
       "<circle clip-path=\"url(#clip1302)\" style=\"fill:#009af9; stroke:none; fill-opacity:1\" cx=\"657.472\" cy=\"1277.06\" r=\"14\"/>\n",
       "<circle clip-path=\"url(#clip1302)\" style=\"fill:#000000; stroke:none; fill-opacity:1\" cx=\"692.48\" cy=\"1461.86\" r=\"18\"/>\n",
       "<circle clip-path=\"url(#clip1302)\" style=\"fill:#009af9; stroke:none; fill-opacity:1\" cx=\"692.48\" cy=\"1461.86\" r=\"14\"/>\n",
       "<circle clip-path=\"url(#clip1302)\" style=\"fill:#000000; stroke:none; fill-opacity:1\" cx=\"657.472\" cy=\"1346.15\" r=\"18\"/>\n",
       "<circle clip-path=\"url(#clip1302)\" style=\"fill:#009af9; stroke:none; fill-opacity:1\" cx=\"657.472\" cy=\"1346.15\" r=\"14\"/>\n",
       "<circle clip-path=\"url(#clip1302)\" style=\"fill:#000000; stroke:none; fill-opacity:1\" cx=\"762.495\" cy=\"1131.71\" r=\"18\"/>\n",
       "<circle clip-path=\"url(#clip1302)\" style=\"fill:#009af9; stroke:none; fill-opacity:1\" cx=\"762.495\" cy=\"1131.71\" r=\"14\"/>\n",
       "<circle clip-path=\"url(#clip1302)\" style=\"fill:#000000; stroke:none; fill-opacity:1\" cx=\"1567.67\" cy=\"703.115\" r=\"18\"/>\n",
       "<circle clip-path=\"url(#clip1302)\" style=\"fill:#009af9; stroke:none; fill-opacity:1\" cx=\"1567.67\" cy=\"703.115\" r=\"14\"/>\n",
       "<circle clip-path=\"url(#clip1302)\" style=\"fill:#000000; stroke:none; fill-opacity:1\" cx=\"1466.15\" cy=\"690.403\" r=\"18\"/>\n",
       "<circle clip-path=\"url(#clip1302)\" style=\"fill:#009af9; stroke:none; fill-opacity:1\" cx=\"1466.15\" cy=\"690.403\" r=\"14\"/>\n",
       "<circle clip-path=\"url(#clip1302)\" style=\"fill:#000000; stroke:none; fill-opacity:1\" cx=\"1112.57\" cy=\"798.747\" r=\"18\"/>\n",
       "<circle clip-path=\"url(#clip1302)\" style=\"fill:#009af9; stroke:none; fill-opacity:1\" cx=\"1112.57\" cy=\"798.747\" r=\"14\"/>\n",
       "<circle clip-path=\"url(#clip1302)\" style=\"fill:#000000; stroke:none; fill-opacity:1\" cx=\"1753.21\" cy=\"721.843\" r=\"18\"/>\n",
       "<circle clip-path=\"url(#clip1302)\" style=\"fill:#009af9; stroke:none; fill-opacity:1\" cx=\"1753.21\" cy=\"721.843\" r=\"14\"/>\n",
       "<circle clip-path=\"url(#clip1302)\" style=\"fill:#000000; stroke:none; fill-opacity:1\" cx=\"587.457\" cy=\"1495.78\" r=\"18\"/>\n",
       "<circle clip-path=\"url(#clip1302)\" style=\"fill:#009af9; stroke:none; fill-opacity:1\" cx=\"587.457\" cy=\"1495.78\" r=\"14\"/>\n",
       "<circle clip-path=\"url(#clip1302)\" style=\"fill:#000000; stroke:none; fill-opacity:1\" cx=\"1042.56\" cy=\"930.692\" r=\"18\"/>\n",
       "<circle clip-path=\"url(#clip1302)\" style=\"fill:#009af9; stroke:none; fill-opacity:1\" cx=\"1042.56\" cy=\"930.692\" r=\"14\"/>\n",
       "<circle clip-path=\"url(#clip1302)\" style=\"fill:#000000; stroke:none; fill-opacity:1\" cx=\"1462.65\" cy=\"686.659\" r=\"18\"/>\n",
       "<circle clip-path=\"url(#clip1302)\" style=\"fill:#009af9; stroke:none; fill-opacity:1\" cx=\"1462.65\" cy=\"686.659\" r=\"14\"/>\n",
       "<circle clip-path=\"url(#clip1302)\" style=\"fill:#000000; stroke:none; fill-opacity:1\" cx=\"1711.2\" cy=\"703.245\" r=\"18\"/>\n",
       "<circle clip-path=\"url(#clip1302)\" style=\"fill:#009af9; stroke:none; fill-opacity:1\" cx=\"1711.2\" cy=\"703.245\" r=\"14\"/>\n",
       "<circle clip-path=\"url(#clip1302)\" style=\"fill:#000000; stroke:none; fill-opacity:1\" cx=\"587.457\" cy=\"1271.87\" r=\"18\"/>\n",
       "<circle clip-path=\"url(#clip1302)\" style=\"fill:#009af9; stroke:none; fill-opacity:1\" cx=\"587.457\" cy=\"1271.87\" r=\"14\"/>\n",
       "<circle clip-path=\"url(#clip1302)\" style=\"fill:#000000; stroke:none; fill-opacity:1\" cx=\"1042.56\" cy=\"845.139\" r=\"18\"/>\n",
       "<circle clip-path=\"url(#clip1302)\" style=\"fill:#009af9; stroke:none; fill-opacity:1\" cx=\"1042.56\" cy=\"845.139\" r=\"14\"/>\n",
       "<circle clip-path=\"url(#clip1302)\" style=\"fill:#000000; stroke:none; fill-opacity:1\" cx=\"1532.66\" cy=\"976.831\" r=\"18\"/>\n",
       "<circle clip-path=\"url(#clip1302)\" style=\"fill:#009af9; stroke:none; fill-opacity:1\" cx=\"1532.66\" cy=\"976.831\" r=\"14\"/>\n",
       "<circle clip-path=\"url(#clip1302)\" style=\"fill:#000000; stroke:none; fill-opacity:1\" cx=\"1182.59\" cy=\"867.909\" r=\"18\"/>\n",
       "<circle clip-path=\"url(#clip1302)\" style=\"fill:#009af9; stroke:none; fill-opacity:1\" cx=\"1182.59\" cy=\"867.909\" r=\"14\"/>\n",
       "<circle clip-path=\"url(#clip1302)\" style=\"fill:#000000; stroke:none; fill-opacity:1\" cx=\"1182.59\" cy=\"879.857\" r=\"18\"/>\n",
       "<circle clip-path=\"url(#clip1302)\" style=\"fill:#009af9; stroke:none; fill-opacity:1\" cx=\"1182.59\" cy=\"879.857\" r=\"14\"/>\n",
       "<circle clip-path=\"url(#clip1302)\" style=\"fill:#000000; stroke:none; fill-opacity:1\" cx=\"1147.58\" cy=\"783.46\" r=\"18\"/>\n",
       "<circle clip-path=\"url(#clip1302)\" style=\"fill:#009af9; stroke:none; fill-opacity:1\" cx=\"1147.58\" cy=\"783.46\" r=\"14\"/>\n",
       "<circle clip-path=\"url(#clip1302)\" style=\"fill:#000000; stroke:none; fill-opacity:1\" cx=\"1350.62\" cy=\"707.248\" r=\"18\"/>\n",
       "<circle clip-path=\"url(#clip1302)\" style=\"fill:#009af9; stroke:none; fill-opacity:1\" cx=\"1350.62\" cy=\"707.248\" r=\"14\"/>\n",
       "<circle clip-path=\"url(#clip1302)\" style=\"fill:#000000; stroke:none; fill-opacity:1\" cx=\"1112.57\" cy=\"877.227\" r=\"18\"/>\n",
       "<circle clip-path=\"url(#clip1302)\" style=\"fill:#009af9; stroke:none; fill-opacity:1\" cx=\"1112.57\" cy=\"877.227\" r=\"14\"/>\n",
       "<circle clip-path=\"url(#clip1302)\" style=\"fill:#000000; stroke:none; fill-opacity:1\" cx=\"902.526\" cy=\"819.171\" r=\"18\"/>\n",
       "<circle clip-path=\"url(#clip1302)\" style=\"fill:#009af9; stroke:none; fill-opacity:1\" cx=\"902.526\" cy=\"819.171\" r=\"14\"/>\n",
       "<circle clip-path=\"url(#clip1302)\" style=\"fill:#000000; stroke:none; fill-opacity:1\" cx=\"1130.08\" cy=\"840.07\" r=\"18\"/>\n",
       "<circle clip-path=\"url(#clip1302)\" style=\"fill:#009af9; stroke:none; fill-opacity:1\" cx=\"1130.08\" cy=\"840.07\" r=\"14\"/>\n",
       "<circle clip-path=\"url(#clip1302)\" style=\"fill:#000000; stroke:none; fill-opacity:1\" cx=\"867.518\" cy=\"819.643\" r=\"18\"/>\n",
       "<circle clip-path=\"url(#clip1302)\" style=\"fill:#009af9; stroke:none; fill-opacity:1\" cx=\"867.518\" cy=\"819.643\" r=\"14\"/>\n",
       "<circle clip-path=\"url(#clip1302)\" style=\"fill:#000000; stroke:none; fill-opacity:1\" cx=\"657.472\" cy=\"1417.46\" r=\"18\"/>\n",
       "<circle clip-path=\"url(#clip1302)\" style=\"fill:#009af9; stroke:none; fill-opacity:1\" cx=\"657.472\" cy=\"1417.46\" r=\"14\"/>\n",
       "<circle clip-path=\"url(#clip1302)\" style=\"fill:#000000; stroke:none; fill-opacity:1\" cx=\"657.472\" cy=\"1439.92\" r=\"18\"/>\n",
       "<circle clip-path=\"url(#clip1302)\" style=\"fill:#009af9; stroke:none; fill-opacity:1\" cx=\"657.472\" cy=\"1439.92\" r=\"14\"/>\n",
       "<circle clip-path=\"url(#clip1302)\" style=\"fill:#000000; stroke:none; fill-opacity:1\" cx=\"762.495\" cy=\"1085.09\" r=\"18\"/>\n",
       "<circle clip-path=\"url(#clip1302)\" style=\"fill:#009af9; stroke:none; fill-opacity:1\" cx=\"762.495\" cy=\"1085.09\" r=\"14\"/>\n",
       "<circle clip-path=\"url(#clip1302)\" style=\"fill:#000000; stroke:none; fill-opacity:1\" cx=\"867.518\" cy=\"822.53\" r=\"18\"/>\n",
       "<circle clip-path=\"url(#clip1302)\" style=\"fill:#009af9; stroke:none; fill-opacity:1\" cx=\"867.518\" cy=\"822.53\" r=\"14\"/>\n",
       "<circle clip-path=\"url(#clip1302)\" style=\"fill:#000000; stroke:none; fill-opacity:1\" cx=\"1298.11\" cy=\"844.949\" r=\"18\"/>\n",
       "<circle clip-path=\"url(#clip1302)\" style=\"fill:#009af9; stroke:none; fill-opacity:1\" cx=\"1298.11\" cy=\"844.949\" r=\"14\"/>\n",
       "<circle clip-path=\"url(#clip1302)\" style=\"fill:#000000; stroke:none; fill-opacity:1\" cx=\"832.511\" cy=\"1003.54\" r=\"18\"/>\n",
       "<circle clip-path=\"url(#clip1302)\" style=\"fill:#009af9; stroke:none; fill-opacity:1\" cx=\"832.511\" cy=\"1003.54\" r=\"14\"/>\n",
       "<circle clip-path=\"url(#clip1302)\" style=\"fill:#000000; stroke:none; fill-opacity:1\" cx=\"1427.64\" cy=\"855.558\" r=\"18\"/>\n",
       "<circle clip-path=\"url(#clip1302)\" style=\"fill:#009af9; stroke:none; fill-opacity:1\" cx=\"1427.64\" cy=\"855.558\" r=\"14\"/>\n",
       "<circle clip-path=\"url(#clip1302)\" style=\"fill:#000000; stroke:none; fill-opacity:1\" cx=\"1007.55\" cy=\"870.521\" r=\"18\"/>\n",
       "<circle clip-path=\"url(#clip1302)\" style=\"fill:#009af9; stroke:none; fill-opacity:1\" cx=\"1007.55\" cy=\"870.521\" r=\"14\"/>\n",
       "<circle clip-path=\"url(#clip1302)\" style=\"fill:#000000; stroke:none; fill-opacity:1\" cx=\"1476.65\" cy=\"923.831\" r=\"18\"/>\n",
       "<circle clip-path=\"url(#clip1302)\" style=\"fill:#009af9; stroke:none; fill-opacity:1\" cx=\"1476.65\" cy=\"923.831\" r=\"14\"/>\n",
       "<circle clip-path=\"url(#clip1302)\" style=\"fill:#000000; stroke:none; fill-opacity:1\" cx=\"1077.56\" cy=\"844.538\" r=\"18\"/>\n",
       "<circle clip-path=\"url(#clip1302)\" style=\"fill:#009af9; stroke:none; fill-opacity:1\" cx=\"1077.56\" cy=\"844.538\" r=\"14\"/>\n",
       "<circle clip-path=\"url(#clip1302)\" style=\"fill:#000000; stroke:none; fill-opacity:1\" cx=\"822.008\" cy=\"1180.89\" r=\"18\"/>\n",
       "<circle clip-path=\"url(#clip1302)\" style=\"fill:#009af9; stroke:none; fill-opacity:1\" cx=\"822.008\" cy=\"1180.89\" r=\"14\"/>\n",
       "<circle clip-path=\"url(#clip1302)\" style=\"fill:#000000; stroke:none; fill-opacity:1\" cx=\"955.038\" cy=\"915.279\" r=\"18\"/>\n",
       "<circle clip-path=\"url(#clip1302)\" style=\"fill:#009af9; stroke:none; fill-opacity:1\" cx=\"955.038\" cy=\"915.279\" r=\"14\"/>\n",
       "<circle clip-path=\"url(#clip1302)\" style=\"fill:#000000; stroke:none; fill-opacity:1\" cx=\"909.528\" cy=\"1189.96\" r=\"18\"/>\n",
       "<circle clip-path=\"url(#clip1302)\" style=\"fill:#009af9; stroke:none; fill-opacity:1\" cx=\"909.528\" cy=\"1189.96\" r=\"14\"/>\n",
       "<circle clip-path=\"url(#clip1302)\" style=\"fill:#000000; stroke:none; fill-opacity:1\" cx=\"815.007\" cy=\"1256.3\" r=\"18\"/>\n",
       "<circle clip-path=\"url(#clip1302)\" style=\"fill:#009af9; stroke:none; fill-opacity:1\" cx=\"815.007\" cy=\"1256.3\" r=\"14\"/>\n",
       "<circle clip-path=\"url(#clip1302)\" style=\"fill:#000000; stroke:none; fill-opacity:1\" cx=\"937.534\" cy=\"946.899\" r=\"18\"/>\n",
       "<circle clip-path=\"url(#clip1302)\" style=\"fill:#009af9; stroke:none; fill-opacity:1\" cx=\"937.534\" cy=\"946.899\" r=\"14\"/>\n",
       "<circle clip-path=\"url(#clip1302)\" style=\"fill:#000000; stroke:none; fill-opacity:1\" cx=\"657.472\" cy=\"1273.81\" r=\"18\"/>\n",
       "<circle clip-path=\"url(#clip1302)\" style=\"fill:#009af9; stroke:none; fill-opacity:1\" cx=\"657.472\" cy=\"1273.81\" r=\"14\"/>\n",
       "<circle clip-path=\"url(#clip1302)\" style=\"fill:#000000; stroke:none; fill-opacity:1\" cx=\"779.999\" cy=\"1180.26\" r=\"18\"/>\n",
       "<circle clip-path=\"url(#clip1302)\" style=\"fill:#009af9; stroke:none; fill-opacity:1\" cx=\"779.999\" cy=\"1180.26\" r=\"14\"/>\n",
       "<circle clip-path=\"url(#clip1302)\" style=\"fill:#000000; stroke:none; fill-opacity:1\" cx=\"797.503\" cy=\"1059.88\" r=\"18\"/>\n",
       "<circle clip-path=\"url(#clip1302)\" style=\"fill:#009af9; stroke:none; fill-opacity:1\" cx=\"797.503\" cy=\"1059.88\" r=\"14\"/>\n",
       "<circle clip-path=\"url(#clip1302)\" style=\"fill:#000000; stroke:none; fill-opacity:1\" cx=\"1287.61\" cy=\"728.432\" r=\"18\"/>\n",
       "<circle clip-path=\"url(#clip1302)\" style=\"fill:#009af9; stroke:none; fill-opacity:1\" cx=\"1287.61\" cy=\"728.432\" r=\"14\"/>\n",
       "<circle clip-path=\"url(#clip1302)\" style=\"fill:#000000; stroke:none; fill-opacity:1\" cx=\"867.518\" cy=\"995.897\" r=\"18\"/>\n",
       "<circle clip-path=\"url(#clip1302)\" style=\"fill:#009af9; stroke:none; fill-opacity:1\" cx=\"867.518\" cy=\"995.897\" r=\"14\"/>\n",
       "<circle clip-path=\"url(#clip1302)\" style=\"fill:#000000; stroke:none; fill-opacity:1\" cx=\"622.465\" cy=\"1426.97\" r=\"18\"/>\n",
       "<circle clip-path=\"url(#clip1302)\" style=\"fill:#009af9; stroke:none; fill-opacity:1\" cx=\"622.465\" cy=\"1426.97\" r=\"14\"/>\n",
       "<circle clip-path=\"url(#clip1302)\" style=\"fill:#000000; stroke:none; fill-opacity:1\" cx=\"1007.55\" cy=\"799.64\" r=\"18\"/>\n",
       "<circle clip-path=\"url(#clip1302)\" style=\"fill:#009af9; stroke:none; fill-opacity:1\" cx=\"1007.55\" cy=\"799.64\" r=\"14\"/>\n",
       "<circle clip-path=\"url(#clip1302)\" style=\"fill:#000000; stroke:none; fill-opacity:1\" cx=\"972.541\" cy=\"1068.35\" r=\"18\"/>\n",
       "<circle clip-path=\"url(#clip1302)\" style=\"fill:#009af9; stroke:none; fill-opacity:1\" cx=\"972.541\" cy=\"1068.35\" r=\"14\"/>\n",
       "<circle clip-path=\"url(#clip1302)\" style=\"fill:#000000; stroke:none; fill-opacity:1\" cx=\"972.541\" cy=\"1039.05\" r=\"18\"/>\n",
       "<circle clip-path=\"url(#clip1302)\" style=\"fill:#009af9; stroke:none; fill-opacity:1\" cx=\"972.541\" cy=\"1039.05\" r=\"14\"/>\n",
       "<circle clip-path=\"url(#clip1302)\" style=\"fill:#000000; stroke:none; fill-opacity:1\" cx=\"955.038\" cy=\"1065.55\" r=\"18\"/>\n",
       "<circle clip-path=\"url(#clip1302)\" style=\"fill:#009af9; stroke:none; fill-opacity:1\" cx=\"955.038\" cy=\"1065.55\" r=\"14\"/>\n",
       "<circle clip-path=\"url(#clip1302)\" style=\"fill:#000000; stroke:none; fill-opacity:1\" cx=\"1357.63\" cy=\"774.818\" r=\"18\"/>\n",
       "<circle clip-path=\"url(#clip1302)\" style=\"fill:#009af9; stroke:none; fill-opacity:1\" cx=\"1357.63\" cy=\"774.818\" r=\"14\"/>\n",
       "<circle clip-path=\"url(#clip1302)\" style=\"fill:#000000; stroke:none; fill-opacity:1\" cx=\"709.984\" cy=\"1329.86\" r=\"18\"/>\n",
       "<circle clip-path=\"url(#clip1302)\" style=\"fill:#009af9; stroke:none; fill-opacity:1\" cx=\"709.984\" cy=\"1329.86\" r=\"14\"/>\n",
       "<circle clip-path=\"url(#clip1302)\" style=\"fill:#000000; stroke:none; fill-opacity:1\" cx=\"867.518\" cy=\"1004.69\" r=\"18\"/>\n",
       "<circle clip-path=\"url(#clip1302)\" style=\"fill:#009af9; stroke:none; fill-opacity:1\" cx=\"867.518\" cy=\"1004.69\" r=\"14\"/>\n",
       "<circle clip-path=\"url(#clip1302)\" style=\"fill:#000000; stroke:none; fill-opacity:1\" cx=\"1522.16\" cy=\"733.072\" r=\"18\"/>\n",
       "<circle clip-path=\"url(#clip1302)\" style=\"fill:#009af9; stroke:none; fill-opacity:1\" cx=\"1522.16\" cy=\"733.072\" r=\"14\"/>\n",
       "<circle clip-path=\"url(#clip1302)\" style=\"fill:#000000; stroke:none; fill-opacity:1\" cx=\"1322.62\" cy=\"897.622\" r=\"18\"/>\n",
       "<circle clip-path=\"url(#clip1302)\" style=\"fill:#009af9; stroke:none; fill-opacity:1\" cx=\"1322.62\" cy=\"897.622\" r=\"14\"/>\n",
       "<circle clip-path=\"url(#clip1302)\" style=\"fill:#000000; stroke:none; fill-opacity:1\" cx=\"1217.6\" cy=\"854.8\" r=\"18\"/>\n",
       "<circle clip-path=\"url(#clip1302)\" style=\"fill:#009af9; stroke:none; fill-opacity:1\" cx=\"1217.6\" cy=\"854.8\" r=\"14\"/>\n",
       "<circle clip-path=\"url(#clip1302)\" style=\"fill:#000000; stroke:none; fill-opacity:1\" cx=\"1179.09\" cy=\"937.636\" r=\"18\"/>\n",
       "<circle clip-path=\"url(#clip1302)\" style=\"fill:#009af9; stroke:none; fill-opacity:1\" cx=\"1179.09\" cy=\"937.636\" r=\"14\"/>\n",
       "<circle clip-path=\"url(#clip1302)\" style=\"fill:#000000; stroke:none; fill-opacity:1\" cx=\"832.511\" cy=\"987.015\" r=\"18\"/>\n",
       "<circle clip-path=\"url(#clip1302)\" style=\"fill:#009af9; stroke:none; fill-opacity:1\" cx=\"832.511\" cy=\"987.015\" r=\"14\"/>\n",
       "<circle clip-path=\"url(#clip1302)\" style=\"fill:#000000; stroke:none; fill-opacity:1\" cx=\"972.541\" cy=\"844.505\" r=\"18\"/>\n",
       "<circle clip-path=\"url(#clip1302)\" style=\"fill:#009af9; stroke:none; fill-opacity:1\" cx=\"972.541\" cy=\"844.505\" r=\"14\"/>\n",
       "<circle clip-path=\"url(#clip1302)\" style=\"fill:#000000; stroke:none; fill-opacity:1\" cx=\"1403.14\" cy=\"782.665\" r=\"18\"/>\n",
       "<circle clip-path=\"url(#clip1302)\" style=\"fill:#009af9; stroke:none; fill-opacity:1\" cx=\"1403.14\" cy=\"782.665\" r=\"14\"/>\n",
       "<circle clip-path=\"url(#clip1302)\" style=\"fill:#000000; stroke:none; fill-opacity:1\" cx=\"1112.57\" cy=\"794.673\" r=\"18\"/>\n",
       "<circle clip-path=\"url(#clip1302)\" style=\"fill:#009af9; stroke:none; fill-opacity:1\" cx=\"1112.57\" cy=\"794.673\" r=\"14\"/>\n",
       "<circle clip-path=\"url(#clip1302)\" style=\"fill:#000000; stroke:none; fill-opacity:1\" cx=\"899.025\" cy=\"1108.13\" r=\"18\"/>\n",
       "<circle clip-path=\"url(#clip1302)\" style=\"fill:#009af9; stroke:none; fill-opacity:1\" cx=\"899.025\" cy=\"1108.13\" r=\"14\"/>\n",
       "<circle clip-path=\"url(#clip1302)\" style=\"fill:#000000; stroke:none; fill-opacity:1\" cx=\"1322.62\" cy=\"724.695\" r=\"18\"/>\n",
       "<circle clip-path=\"url(#clip1302)\" style=\"fill:#009af9; stroke:none; fill-opacity:1\" cx=\"1322.62\" cy=\"724.695\" r=\"14\"/>\n",
       "<polyline clip-path=\"url(#clip1302)\" style=\"stroke:#e26f46; stroke-width:4; stroke-opacity:1; fill:none\" stroke-dasharray=\"16, 10\" points=\"\n",
       "  202.373,1825.62 1952.76,47.2441 \n",
       "  \"/>\n",
       "</svg>\n"
      ]
     },
     "execution_count": 27,
     "metadata": {},
     "output_type": "execute_result"
    }
   ],
   "source": [
    "y_lim = 50\n",
    "scatter(y_all, y_predicted_all, lims = (0, y_lim))\n",
    "plot!([0, y_lim], [0, y_lim], linestyle = :dash, legend = false)\n",
    "plot!(xlims = (0,y_lim), ylims = (0,y_lim), size = (500,500))\n",
    "plot!(xlabel = \"Actual MPG\", ylabel = \"Predicted MPG\")"
   ]
  },
  {
   "cell_type": "markdown",
   "metadata": {},
   "source": [
    "It seems that our model does not do a bad job. However, it also shows that perhaps we could have a better assumption regarding our choice of model than the current one ($y = X a + b \\mathbf{1}$). But, that is another topic, which I will come back to a later point.  "
   ]
  }
 ],
 "metadata": {
  "kernel_info": {
   "name": "julia-1.3"
  },
  "kernelspec": {
   "display_name": "Julia 1.3.0",
   "language": "julia",
   "name": "julia-1.3"
  },
  "language_info": {
   "file_extension": ".jl",
   "mimetype": "application/julia",
   "name": "julia",
   "version": "1.3.0"
  },
  "nteract": {
   "version": "0.15.0"
  }
 },
 "nbformat": 4,
 "nbformat_minor": 4
}
