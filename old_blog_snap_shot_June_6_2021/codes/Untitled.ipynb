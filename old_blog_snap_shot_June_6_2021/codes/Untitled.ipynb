{
  "cells": [
    {
      "cell_type": "markdown",
      "source": [
        "In this blog, we discuss how to solve semidefinite programs (SDPs) in ``Julia`` using ``Convex.jl``. We consider optimization problem of the form: \n",
        "$$\n",
        "\\begin{align*}\n",
        "\\begin{array}{ll}\n",
        "\\textrm{minimize} & \\mathbf{trace}(CX)\\\\\n",
        "\\textrm{subject to} & \\mathbf{trace}(A_{i}X)=b_{i},\\\\\n",
        " & X\\succeq0,\n",
        "\\end{array} & i=1,\\ldots,m\n",
        "\\end{align*}\n",
        "$$\n",
        " where $X\\in\\mathbf{S}^{n}$ is the decision variable, and each of the $A_{i}$ matrices and $C$ are also in $\\mathbf{S}^{n}$. By the notation $\\mathbf{S}^{n}$, we denote the set of all symmetric $n\\times n$ matrices.  "
      ],
      "metadata": {
        "nteract": {
          "transient": {
            "deleting": false
          }
        }
      }
    },
    {
      "cell_type": "code",
      "source": [
        "using SCS, Convex, COSMO, MosekTools, JuMP\n",
        "\n",
        "using BenchmarkTools\n"
      ],
      "outputs": [],
      "execution_count": null,
      "metadata": {
        "collapsed": true,
        "jupyter": {
          "source_hidden": false,
          "outputs_hidden": false
        },
        "nteract": {
          "transient": {
            "deleting": false
          }
        }
      }
    },
    {
      "cell_type": "code",
      "source": [
        "# Create random data, change it to your problem"
      ],
      "outputs": [],
      "execution_count": null,
      "metadata": {
        "collapsed": true,
        "jupyter": {
          "source_hidden": false,
          "outputs_hidden": false
        },
        "nteract": {
          "transient": {
            "deleting": false
          }
        }
      }
    },
    {
      "cell_type": "code",
      "source": [
        "function random_mat_create(n)\n",
        "    # this function creates a symmetric n×n matrix\n",
        "    A = randn(n,n)\n",
        "    A = A'*A\n",
        "    A = (A+A')/2\n",
        "    return A\n",
        "end"
      ],
      "outputs": [],
      "execution_count": null,
      "metadata": {
        "collapsed": true,
        "jupyter": {
          "source_hidden": false,
          "outputs_hidden": false
        },
        "nteract": {
          "transient": {
            "deleting": false
          }
        }
      }
    },
    {
      "cell_type": "code",
      "source": [
        "n = 10\n",
        "m = 20\n",
        "# set of all data matrices A_i\n",
        "# the data matrix A = [A1 A2 A3 ....]\n",
        "A = zeros(n, m*n) \n",
        "b = zeros(m)\n",
        "# just ensuring our problem is feasible\n",
        "X_test = rand(n,n)\n",
        "X_test = X_test'*X_test\n",
        "X_test = (X_test+X_test')/2\n",
        "for i in 1:m\n",
        "    A[:, (i-1)*n+1:i*n] .= random_mat_create(n)\n",
        "    b[i] = tr(A[:, (i-1)*n+1:i*n]*X_test)\n",
        "end\n",
        "C = abs.(random_mat_create(n))"
      ],
      "outputs": [],
      "execution_count": null,
      "metadata": {
        "collapsed": true,
        "jupyter": {
          "source_hidden": false,
          "outputs_hidden": false
        },
        "nteract": {
          "transient": {
            "deleting": false
          }
        }
      }
    },
    {
      "cell_type": "code",
      "source": [
        "\n",
        "function solve_SDP(A, b, C; solver_name=:COSMO)\n",
        "\n",
        "# Create variable\n",
        "    if solver_name == :COSMO\n",
        "        model = Model(with_optimizer(COSMO.Optimizer))\n",
        "    elseif solver_name == :Mosek\n",
        "        model = Model(optimizer_with_attributes(Mosek.Optimizer))\n",
        "    end\n",
        "\n",
        "    set_silent(model)\n",
        "\n",
        "    @variable(model, X[1:n, 1:n], PSD)\n",
        "\n",
        "    @objective(model, Min, tr(C * X));\n",
        "    for j in 1:m\n",
        "        A_j = A[:, (j - 1) * n + 1:j * n]\n",
        "        @constraint(model, tr(A_j * X) == b[j])\n",
        "    end\n",
        "\n",
        "    optimize!(model)\n",
        "\n",
        "    status = JuMP.termination_status(model)\n",
        "    X_sol = JuMP.value.(X)\n",
        "    obj_value = JuMP.objective_value(model)\n",
        "\n",
        "    return status, X_sol, obj_value\n",
        "\n",
        "end"
      ],
      "outputs": [],
      "execution_count": null,
      "metadata": {
        "collapsed": true,
        "jupyter": {
          "source_hidden": false,
          "outputs_hidden": false
        },
        "nteract": {
          "transient": {
            "deleting": false
          }
        }
      }
    },
    {
      "cell_type": "code",
      "source": [
        "@benchmark solve_SDP(A, b, C; solver_name=:COSMO)\n",
        "\n",
        "@benchmark solve_SDP(A, b, C; solver_name=:Mosek)"
      ],
      "outputs": [],
      "execution_count": null,
      "metadata": {
        "collapsed": true,
        "jupyter": {
          "source_hidden": false,
          "outputs_hidden": false
        },
        "nteract": {
          "transient": {
            "deleting": false
          }
        }
      }
    }
  ],
  "metadata": {
    "kernel_info": {
      "name": "julia-1.5"
    },
    "language_info": {
      "name": "julia-1.5"
    },
    "kernelspec": {
      "argv": [
        "C:\\Users\\shuvo\\AppData\\Local\\Programs\\Julia 1.5.0\\bin\\julia.exe",
        "-i",
        "--startup-file=yes",
        "--color=yes",
        "--project=@.",
        "C:\\Users\\shuvo\\.julia\\packages\\IJulia\\tOM8L\\src\\kernel.jl",
        "{connection_file}"
      ],
      "display_name": "Julia 1.5.0",
      "env": {},
      "interrupt_mode": "message",
      "language": "julia",
      "name": "julia-1.5"
    },
    "nteract": {
      "version": "0.28.0"
    }
  },
  "nbformat": 4,
  "nbformat_minor": 0
}